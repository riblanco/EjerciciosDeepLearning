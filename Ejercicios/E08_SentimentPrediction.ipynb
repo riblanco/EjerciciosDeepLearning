{
  "nbformat": 4,
  "nbformat_minor": 0,
  "metadata": {
    "colab": {
      "name": "E08-SentimentPrediction.ipynb",
      "version": "0.3.2",
      "views": {},
      "default_view": {},
      "provenance": [],
      "collapsed_sections": []
    },
    "kernelspec": {
      "display_name": "Python 3",
      "language": "python",
      "name": "python3"
    }
  },
  "cells": [
    {
      "metadata": {
        "id": "g1dCecFrlWg0",
        "colab_type": "text"
      },
      "cell_type": "markdown",
      "source": [
        "# Exercise 08\n",
        "\n",
        "## Analyze how travelers expressed their feelings on Twitter\n",
        "\n",
        "A sentiment analysis job about the problems of each major U.S. airline. \n",
        "Twitter data was scraped from February of 2015 and contributors were \n",
        "asked to first classify positive, negative, and neutral tweets, followed\n",
        "by categorizing negative reasons (such as \"late flight\" or \"rude service\")."
      ]
    },
    {
      "metadata": {
        "id": "64zFANEEr-eU",
        "colab_type": "text"
      },
      "cell_type": "markdown",
      "source": [
        "#Ejercicio presentado por:\n",
        "\n",
        "Alexandra Pinzon  Código: 201728019\n",
        "\n",
        "Ricardo Blanco   Código: 201727686"
      ]
    },
    {
      "metadata": {
        "id": "Vq2ADnMmmKJN",
        "colab_type": "code",
        "colab": {
          "autoexec": {
            "startup": false,
            "wait_interval": 0
          },
          "base_uri": "https://localhost:8080/",
          "height": 119
        },
        "outputId": "4ad1bfb3-f0d0-441c-bad2-269b70647a2d",
        "executionInfo": {
          "status": "ok",
          "timestamp": 1531671452999,
          "user_tz": 300,
          "elapsed": 13266,
          "user": {
            "displayName": "GRISELA ALEXANDRA PINZON APONTE",
            "photoUrl": "https://lh3.googleusercontent.com/a/default-user=s128",
            "userId": "105630513318907034713"
          }
        }
      },
      "cell_type": "code",
      "source": [
        "!apt-get install -y -qq software-properties-common python-software-properties module-init-tools\n",
        "!add-apt-repository -y ppa:alessandro-strada/ppa 2>&1 > /dev/null\n",
        "!apt-get update -qq 2>&1 > /dev/null\n",
        "!apt-get -y install -qq google-drive-ocamlfuse fuse"
      ],
      "execution_count": 1,
      "outputs": [
        {
          "output_type": "stream",
          "text": [
            "gpg: keybox '/tmp/tmp0e_3fivr/pubring.gpg' created\n",
            "gpg: /tmp/tmp0e_3fivr/trustdb.gpg: trustdb created\n",
            "gpg: key AD5F235DF639B041: public key \"Launchpad PPA for Alessandro Strada\" imported\n",
            "gpg: Total number processed: 1\n",
            "gpg:               imported: 1\n",
            "Warning: apt-key output should not be parsed (stdout is not a terminal)\n"
          ],
          "name": "stdout"
        }
      ]
    },
    {
      "metadata": {
        "id": "HhudJgOjmLc7",
        "colab_type": "code",
        "colab": {
          "autoexec": {
            "startup": false,
            "wait_interval": 0
          }
        }
      },
      "cell_type": "code",
      "source": [
        "from google.colab import auth\n",
        "auth.authenticate_user()"
      ],
      "execution_count": 0,
      "outputs": []
    },
    {
      "metadata": {
        "id": "R8tDXBVqmQcR",
        "colab_type": "code",
        "colab": {
          "autoexec": {
            "startup": false,
            "wait_interval": 0
          },
          "base_uri": "https://localhost:8080/",
          "height": 40
        },
        "outputId": "5d56ec9b-d614-4b94-a7e8-5cad84347e11",
        "executionInfo": {
          "status": "ok",
          "timestamp": 1531671472372,
          "user_tz": 300,
          "elapsed": 13963,
          "user": {
            "displayName": "GRISELA ALEXANDRA PINZON APONTE",
            "photoUrl": "https://lh3.googleusercontent.com/a/default-user=s128",
            "userId": "105630513318907034713"
          }
        }
      },
      "cell_type": "code",
      "source": [
        "from oauth2client.client import GoogleCredentials\n",
        "creds = GoogleCredentials.get_application_default()\n",
        "import getpass\n",
        "!google-drive-ocamlfuse -headless -id={creds.client_id} -secret={creds.client_secret} < /dev/null 2>&1 | grep URL\n",
        "vcode = getpass.getpass()\n",
        "!echo {vcode} | google-drive-ocamlfuse -headless -id={creds.client_id} -secret={creds.client_secret}"
      ],
      "execution_count": 3,
      "outputs": [
        {
          "output_type": "stream",
          "text": [
            "··········\n"
          ],
          "name": "stdout"
        }
      ]
    },
    {
      "metadata": {
        "id": "bGnOp9u7mToP",
        "colab_type": "code",
        "colab": {
          "autoexec": {
            "startup": false,
            "wait_interval": 0
          },
          "base_uri": "https://localhost:8080/",
          "height": 51
        },
        "outputId": "b09b5c26-15af-44a1-d13d-41e10c132a8d",
        "executionInfo": {
          "status": "ok",
          "timestamp": 1531671480616,
          "user_tz": 300,
          "elapsed": 3185,
          "user": {
            "displayName": "GRISELA ALEXANDRA PINZON APONTE",
            "photoUrl": "https://lh3.googleusercontent.com/a/default-user=s128",
            "userId": "105630513318907034713"
          }
        }
      },
      "cell_type": "code",
      "source": [
        "!mkdir -p drive\n",
        "!google-drive-ocamlfuse drive"
      ],
      "execution_count": 4,
      "outputs": [
        {
          "output_type": "stream",
          "text": [
            "fuse: mountpoint is not empty\r\n",
            "fuse: if you are sure this is safe, use the 'nonempty' mount option\r\n"
          ],
          "name": "stdout"
        }
      ]
    },
    {
      "metadata": {
        "id": "iXMi8uDPmXl1",
        "colab_type": "code",
        "colab": {
          "autoexec": {
            "startup": false,
            "wait_interval": 0
          },
          "base_uri": "https://localhost:8080/",
          "height": 51
        },
        "outputId": "f97f8000-61fe-4203-bb1c-300c5bd081e7",
        "executionInfo": {
          "status": "ok",
          "timestamp": 1531671484610,
          "user_tz": 300,
          "elapsed": 1385,
          "user": {
            "displayName": "GRISELA ALEXANDRA PINZON APONTE",
            "photoUrl": "https://lh3.googleusercontent.com/a/default-user=s128",
            "userId": "105630513318907034713"
          }
        }
      },
      "cell_type": "code",
      "source": [
        "print('Tweets.zip:')\n",
        "!ls drive/Tweets.zip"
      ],
      "execution_count": 5,
      "outputs": [
        {
          "output_type": "stream",
          "text": [
            "Tweets.zip:\n",
            "drive/Tweets.zip\n"
          ],
          "name": "stdout"
        }
      ]
    },
    {
      "metadata": {
        "id": "l8QIGeR-lWg3",
        "colab_type": "code",
        "colab": {
          "autoexec": {
            "startup": false,
            "wait_interval": 0
          },
          "base_uri": "https://localhost:8080/",
          "height": 496
        },
        "outputId": "368b60ef-15db-47ec-df99-67b4e32a0067",
        "executionInfo": {
          "status": "ok",
          "timestamp": 1531671486100,
          "user_tz": 300,
          "elapsed": 396,
          "user": {
            "displayName": "GRISELA ALEXANDRA PINZON APONTE",
            "photoUrl": "https://lh3.googleusercontent.com/a/default-user=s128",
            "userId": "105630513318907034713"
          }
        }
      },
      "cell_type": "code",
      "source": [
        "import pandas as pd\n",
        "import numpy as np\n",
        "\n",
        "%matplotlib inline\n",
        "import matplotlib.pyplot as plt\n",
        "\n",
        "# read the data and set the datetime as the index\n",
        "import zipfile\n",
        "with zipfile.ZipFile('drive/Tweets.zip', 'r') as z:\n",
        "    f = z.open('Tweets.csv')\n",
        "    tweets = pd.read_csv(f, index_col=0)\n",
        "\n",
        "tweets.head()"
      ],
      "execution_count": 6,
      "outputs": [
        {
          "output_type": "execute_result",
          "data": {
            "text/html": [
              "<div>\n",
              "<style scoped>\n",
              "    .dataframe tbody tr th:only-of-type {\n",
              "        vertical-align: middle;\n",
              "    }\n",
              "\n",
              "    .dataframe tbody tr th {\n",
              "        vertical-align: top;\n",
              "    }\n",
              "\n",
              "    .dataframe thead th {\n",
              "        text-align: right;\n",
              "    }\n",
              "</style>\n",
              "<table border=\"1\" class=\"dataframe\">\n",
              "  <thead>\n",
              "    <tr style=\"text-align: right;\">\n",
              "      <th></th>\n",
              "      <th>airline_sentiment</th>\n",
              "      <th>airline_sentiment_confidence</th>\n",
              "      <th>negativereason</th>\n",
              "      <th>negativereason_confidence</th>\n",
              "      <th>airline</th>\n",
              "      <th>airline_sentiment_gold</th>\n",
              "      <th>name</th>\n",
              "      <th>negativereason_gold</th>\n",
              "      <th>retweet_count</th>\n",
              "      <th>text</th>\n",
              "      <th>tweet_coord</th>\n",
              "      <th>tweet_created</th>\n",
              "      <th>tweet_location</th>\n",
              "      <th>user_timezone</th>\n",
              "    </tr>\n",
              "    <tr>\n",
              "      <th>tweet_id</th>\n",
              "      <th></th>\n",
              "      <th></th>\n",
              "      <th></th>\n",
              "      <th></th>\n",
              "      <th></th>\n",
              "      <th></th>\n",
              "      <th></th>\n",
              "      <th></th>\n",
              "      <th></th>\n",
              "      <th></th>\n",
              "      <th></th>\n",
              "      <th></th>\n",
              "      <th></th>\n",
              "      <th></th>\n",
              "    </tr>\n",
              "  </thead>\n",
              "  <tbody>\n",
              "    <tr>\n",
              "      <th>570306133677760513</th>\n",
              "      <td>neutral</td>\n",
              "      <td>1.0000</td>\n",
              "      <td>NaN</td>\n",
              "      <td>NaN</td>\n",
              "      <td>Virgin America</td>\n",
              "      <td>NaN</td>\n",
              "      <td>cairdin</td>\n",
              "      <td>NaN</td>\n",
              "      <td>0</td>\n",
              "      <td>@VirginAmerica What @dhepburn said.</td>\n",
              "      <td>NaN</td>\n",
              "      <td>2015-02-24 11:35:52 -0800</td>\n",
              "      <td>NaN</td>\n",
              "      <td>Eastern Time (US &amp; Canada)</td>\n",
              "    </tr>\n",
              "    <tr>\n",
              "      <th>570301130888122368</th>\n",
              "      <td>positive</td>\n",
              "      <td>0.3486</td>\n",
              "      <td>NaN</td>\n",
              "      <td>0.0000</td>\n",
              "      <td>Virgin America</td>\n",
              "      <td>NaN</td>\n",
              "      <td>jnardino</td>\n",
              "      <td>NaN</td>\n",
              "      <td>0</td>\n",
              "      <td>@VirginAmerica plus you've added commercials t...</td>\n",
              "      <td>NaN</td>\n",
              "      <td>2015-02-24 11:15:59 -0800</td>\n",
              "      <td>NaN</td>\n",
              "      <td>Pacific Time (US &amp; Canada)</td>\n",
              "    </tr>\n",
              "    <tr>\n",
              "      <th>570301083672813571</th>\n",
              "      <td>neutral</td>\n",
              "      <td>0.6837</td>\n",
              "      <td>NaN</td>\n",
              "      <td>NaN</td>\n",
              "      <td>Virgin America</td>\n",
              "      <td>NaN</td>\n",
              "      <td>yvonnalynn</td>\n",
              "      <td>NaN</td>\n",
              "      <td>0</td>\n",
              "      <td>@VirginAmerica I didn't today... Must mean I n...</td>\n",
              "      <td>NaN</td>\n",
              "      <td>2015-02-24 11:15:48 -0800</td>\n",
              "      <td>Lets Play</td>\n",
              "      <td>Central Time (US &amp; Canada)</td>\n",
              "    </tr>\n",
              "    <tr>\n",
              "      <th>570301031407624196</th>\n",
              "      <td>negative</td>\n",
              "      <td>1.0000</td>\n",
              "      <td>Bad Flight</td>\n",
              "      <td>0.7033</td>\n",
              "      <td>Virgin America</td>\n",
              "      <td>NaN</td>\n",
              "      <td>jnardino</td>\n",
              "      <td>NaN</td>\n",
              "      <td>0</td>\n",
              "      <td>@VirginAmerica it's really aggressive to blast...</td>\n",
              "      <td>NaN</td>\n",
              "      <td>2015-02-24 11:15:36 -0800</td>\n",
              "      <td>NaN</td>\n",
              "      <td>Pacific Time (US &amp; Canada)</td>\n",
              "    </tr>\n",
              "    <tr>\n",
              "      <th>570300817074462722</th>\n",
              "      <td>negative</td>\n",
              "      <td>1.0000</td>\n",
              "      <td>Can't Tell</td>\n",
              "      <td>1.0000</td>\n",
              "      <td>Virgin America</td>\n",
              "      <td>NaN</td>\n",
              "      <td>jnardino</td>\n",
              "      <td>NaN</td>\n",
              "      <td>0</td>\n",
              "      <td>@VirginAmerica and it's a really big bad thing...</td>\n",
              "      <td>NaN</td>\n",
              "      <td>2015-02-24 11:14:45 -0800</td>\n",
              "      <td>NaN</td>\n",
              "      <td>Pacific Time (US &amp; Canada)</td>\n",
              "    </tr>\n",
              "  </tbody>\n",
              "</table>\n",
              "</div>"
            ],
            "text/plain": [
              "                   airline_sentiment  airline_sentiment_confidence  \\\n",
              "tweet_id                                                             \n",
              "570306133677760513           neutral                        1.0000   \n",
              "570301130888122368          positive                        0.3486   \n",
              "570301083672813571           neutral                        0.6837   \n",
              "570301031407624196          negative                        1.0000   \n",
              "570300817074462722          negative                        1.0000   \n",
              "\n",
              "                   negativereason  negativereason_confidence         airline  \\\n",
              "tweet_id                                                                       \n",
              "570306133677760513            NaN                        NaN  Virgin America   \n",
              "570301130888122368            NaN                     0.0000  Virgin America   \n",
              "570301083672813571            NaN                        NaN  Virgin America   \n",
              "570301031407624196     Bad Flight                     0.7033  Virgin America   \n",
              "570300817074462722     Can't Tell                     1.0000  Virgin America   \n",
              "\n",
              "                   airline_sentiment_gold        name negativereason_gold  \\\n",
              "tweet_id                                                                    \n",
              "570306133677760513                    NaN     cairdin                 NaN   \n",
              "570301130888122368                    NaN    jnardino                 NaN   \n",
              "570301083672813571                    NaN  yvonnalynn                 NaN   \n",
              "570301031407624196                    NaN    jnardino                 NaN   \n",
              "570300817074462722                    NaN    jnardino                 NaN   \n",
              "\n",
              "                    retweet_count  \\\n",
              "tweet_id                            \n",
              "570306133677760513              0   \n",
              "570301130888122368              0   \n",
              "570301083672813571              0   \n",
              "570301031407624196              0   \n",
              "570300817074462722              0   \n",
              "\n",
              "                                                                 text  \\\n",
              "tweet_id                                                                \n",
              "570306133677760513                @VirginAmerica What @dhepburn said.   \n",
              "570301130888122368  @VirginAmerica plus you've added commercials t...   \n",
              "570301083672813571  @VirginAmerica I didn't today... Must mean I n...   \n",
              "570301031407624196  @VirginAmerica it's really aggressive to blast...   \n",
              "570300817074462722  @VirginAmerica and it's a really big bad thing...   \n",
              "\n",
              "                   tweet_coord              tweet_created tweet_location  \\\n",
              "tweet_id                                                                   \n",
              "570306133677760513         NaN  2015-02-24 11:35:52 -0800            NaN   \n",
              "570301130888122368         NaN  2015-02-24 11:15:59 -0800            NaN   \n",
              "570301083672813571         NaN  2015-02-24 11:15:48 -0800      Lets Play   \n",
              "570301031407624196         NaN  2015-02-24 11:15:36 -0800            NaN   \n",
              "570300817074462722         NaN  2015-02-24 11:14:45 -0800            NaN   \n",
              "\n",
              "                                 user_timezone  \n",
              "tweet_id                                        \n",
              "570306133677760513  Eastern Time (US & Canada)  \n",
              "570301130888122368  Pacific Time (US & Canada)  \n",
              "570301083672813571  Central Time (US & Canada)  \n",
              "570301031407624196  Pacific Time (US & Canada)  \n",
              "570300817074462722  Pacific Time (US & Canada)  "
            ]
          },
          "metadata": {
            "tags": []
          },
          "execution_count": 6
        }
      ]
    },
    {
      "metadata": {
        "id": "IVZ-7Tw9lWhE",
        "colab_type": "code",
        "colab": {
          "autoexec": {
            "startup": false,
            "wait_interval": 0
          },
          "base_uri": "https://localhost:8080/",
          "height": 34
        },
        "outputId": "e1c86799-33b4-4435-917b-5e9cfe6750ee",
        "executionInfo": {
          "status": "ok",
          "timestamp": 1531671488707,
          "user_tz": 300,
          "elapsed": 605,
          "user": {
            "displayName": "GRISELA ALEXANDRA PINZON APONTE",
            "photoUrl": "https://lh3.googleusercontent.com/a/default-user=s128",
            "userId": "105630513318907034713"
          }
        }
      },
      "cell_type": "code",
      "source": [
        "tweets.shape"
      ],
      "execution_count": 7,
      "outputs": [
        {
          "output_type": "execute_result",
          "data": {
            "text/plain": [
              "(14640, 14)"
            ]
          },
          "metadata": {
            "tags": []
          },
          "execution_count": 7
        }
      ]
    },
    {
      "metadata": {
        "id": "__P6peQ0lWhK",
        "colab_type": "text"
      },
      "cell_type": "markdown",
      "source": [
        "### Proportion of tweets with each sentiment"
      ]
    },
    {
      "metadata": {
        "id": "I5XTIKyklWhL",
        "colab_type": "code",
        "colab": {
          "autoexec": {
            "startup": false,
            "wait_interval": 0
          },
          "base_uri": "https://localhost:8080/",
          "height": 85
        },
        "outputId": "754e894f-9336-4c50-df68-b929bf0721bc",
        "executionInfo": {
          "status": "ok",
          "timestamp": 1531671491320,
          "user_tz": 300,
          "elapsed": 414,
          "user": {
            "displayName": "GRISELA ALEXANDRA PINZON APONTE",
            "photoUrl": "https://lh3.googleusercontent.com/a/default-user=s128",
            "userId": "105630513318907034713"
          }
        }
      },
      "cell_type": "code",
      "source": [
        "tweets['airline_sentiment'].value_counts()"
      ],
      "execution_count": 8,
      "outputs": [
        {
          "output_type": "execute_result",
          "data": {
            "text/plain": [
              "negative    9178\n",
              "neutral     3099\n",
              "positive    2363\n",
              "Name: airline_sentiment, dtype: int64"
            ]
          },
          "metadata": {
            "tags": []
          },
          "execution_count": 8
        }
      ]
    },
    {
      "metadata": {
        "id": "WWybvRQzlWhQ",
        "colab_type": "text"
      },
      "cell_type": "markdown",
      "source": [
        "### Proportion of tweets per airline\n"
      ]
    },
    {
      "metadata": {
        "id": "9T91YknJlWhR",
        "colab_type": "code",
        "colab": {
          "autoexec": {
            "startup": false,
            "wait_interval": 0
          },
          "base_uri": "https://localhost:8080/",
          "height": 136
        },
        "outputId": "eec6244f-86b4-43bb-d2cf-6af3af4c4822",
        "executionInfo": {
          "status": "ok",
          "timestamp": 1531671493361,
          "user_tz": 300,
          "elapsed": 465,
          "user": {
            "displayName": "GRISELA ALEXANDRA PINZON APONTE",
            "photoUrl": "https://lh3.googleusercontent.com/a/default-user=s128",
            "userId": "105630513318907034713"
          }
        }
      },
      "cell_type": "code",
      "source": [
        "tweets['airline'].value_counts()"
      ],
      "execution_count": 9,
      "outputs": [
        {
          "output_type": "execute_result",
          "data": {
            "text/plain": [
              "United            3822\n",
              "US Airways        2913\n",
              "American          2759\n",
              "Southwest         2420\n",
              "Delta             2222\n",
              "Virgin America     504\n",
              "Name: airline, dtype: int64"
            ]
          },
          "metadata": {
            "tags": []
          },
          "execution_count": 9
        }
      ]
    },
    {
      "metadata": {
        "id": "GfB5nvCdlWhU",
        "colab_type": "code",
        "colab": {
          "autoexec": {
            "startup": false,
            "wait_interval": 0
          },
          "base_uri": "https://localhost:8080/",
          "height": 394
        },
        "outputId": "bd32678d-eb0a-4885-8804-44b4b29d59ef",
        "executionInfo": {
          "status": "ok",
          "timestamp": 1531671495464,
          "user_tz": 300,
          "elapsed": 619,
          "user": {
            "displayName": "GRISELA ALEXANDRA PINZON APONTE",
            "photoUrl": "https://lh3.googleusercontent.com/a/default-user=s128",
            "userId": "105630513318907034713"
          }
        }
      },
      "cell_type": "code",
      "source": [
        "pd.Series(tweets[\"airline\"]).value_counts().plot(kind = \"bar\",figsize=(8,6),rot = 0)"
      ],
      "execution_count": 10,
      "outputs": [
        {
          "output_type": "execute_result",
          "data": {
            "text/plain": [
              "<matplotlib.axes._subplots.AxesSubplot at 0x7f29d78f9f28>"
            ]
          },
          "metadata": {
            "tags": []
          },
          "execution_count": 10
        },
        {
          "output_type": "display_data",
          "data": {
            "image/png": "[encoded data removed]",
            "text/plain": [
              "<matplotlib.figure.Figure at 0x7f29d90c1438>"
            ]
          },
          "metadata": {
            "tags": []
          }
        }
      ]
    },
    {
      "metadata": {
        "id": "STwbL_ZTlWhY",
        "colab_type": "code",
        "colab": {
          "autoexec": {
            "startup": false,
            "wait_interval": 0
          },
          "base_uri": "https://localhost:8080/",
          "height": 420
        },
        "outputId": "b69699ca-8d83-4b0a-ff76-d10774a81a1e",
        "executionInfo": {
          "status": "ok",
          "timestamp": 1531671497245,
          "user_tz": 300,
          "elapsed": 740,
          "user": {
            "displayName": "GRISELA ALEXANDRA PINZON APONTE",
            "photoUrl": "https://lh3.googleusercontent.com/a/default-user=s128",
            "userId": "105630513318907034713"
          }
        }
      },
      "cell_type": "code",
      "source": [
        "pd.crosstab(index = tweets[\"airline\"],columns = tweets[\"airline_sentiment\"]).plot(kind='bar',figsize=(10, 6),alpha=0.5,rot=0,stacked=True,title=\"Sentiment by airline\")"
      ],
      "execution_count": 11,
      "outputs": [
        {
          "output_type": "execute_result",
          "data": {
            "text/plain": [
              "<matplotlib.axes._subplots.AxesSubplot at 0x7f29d7853400>"
            ]
          },
          "metadata": {
            "tags": []
          },
          "execution_count": 11
        },
        {
          "output_type": "display_data",
          "data": {
            "image/png": "[encoded data removed]",
            "text/plain": [
              "<matplotlib.figure.Figure at 0x7f29d78e0588>"
            ]
          },
          "metadata": {
            "tags": []
          }
        }
      ]
    },
    {
      "metadata": {
        "id": "iN4xs9CllWhb",
        "colab_type": "text"
      },
      "cell_type": "markdown",
      "source": [
        "# Exercise 8.1 \n",
        "\n",
        "Predict the sentiment using CountVectorizer, stopwords, n_grams, stemmer, TfidfVectorizer\n",
        "\n",
        "use Random Forest classifier"
      ]
    },
    {
      "metadata": {
        "id": "LzVT8VQJlWhc",
        "colab_type": "code",
        "colab": {
          "autoexec": {
            "startup": false,
            "wait_interval": 0
          }
        }
      },
      "cell_type": "code",
      "source": [
        "from sklearn.model_selection import train_test_split, cross_val_score\n",
        "from sklearn.feature_extraction.text import CountVectorizer, TfidfVectorizer\n",
        "from sklearn.ensemble import RandomForestClassifier\n",
        "from nltk.stem.snowball import SnowballStemmer\n",
        "from nltk.stem import WordNetLemmatizer"
      ],
      "execution_count": 0,
      "outputs": []
    },
    {
      "metadata": {
        "id": "SW9vZAYUlWhe",
        "colab_type": "code",
        "colab": {
          "autoexec": {
            "startup": false,
            "wait_interval": 0
          },
          "base_uri": "https://localhost:8080/",
          "height": 34
        },
        "outputId": "fb96d981-2b07-406d-aa48-19e45123a952",
        "executionInfo": {
          "status": "ok",
          "timestamp": 1531671505253,
          "user_tz": 300,
          "elapsed": 688,
          "user": {
            "displayName": "GRISELA ALEXANDRA PINZON APONTE",
            "photoUrl": "https://lh3.googleusercontent.com/a/default-user=s128",
            "userId": "105630513318907034713"
          }
        }
      },
      "cell_type": "code",
      "source": [
        "X = tweets['text']\n",
        "y = tweets['airline_sentiment'].map({'negative':-1,'neutral':0,'positive':1})\n",
        "print(X.shape)"
      ],
      "execution_count": 13,
      "outputs": [
        {
          "output_type": "stream",
          "text": [
            "(14640,)\n"
          ],
          "name": "stdout"
        }
      ]
    },
    {
      "metadata": {
        "id": "l67kF6dzvJef",
        "colab_type": "code",
        "colab": {
          "autoexec": {
            "startup": false,
            "wait_interval": 0
          }
        }
      },
      "cell_type": "code",
      "source": [
        "X_train, X_test, y_train, y_test = train_test_split(X, y, test_size=0.33, random_state=42)"
      ],
      "execution_count": 0,
      "outputs": []
    },
    {
      "metadata": {
        "id": "aspbl_bFpd0N",
        "colab_type": "text"
      },
      "cell_type": "markdown",
      "source": [
        "#Proband CountVectorizer"
      ]
    },
    {
      "metadata": {
        "id": "X5Jwqfxdpk6G",
        "colab_type": "code",
        "colab": {
          "autoexec": {
            "startup": false,
            "wait_interval": 0
          },
          "base_uri": "https://localhost:8080/",
          "height": 34
        },
        "outputId": "181f5103-7aa1-470d-834e-ecfc89718863",
        "executionInfo": {
          "status": "ok",
          "timestamp": 1531671554442,
          "user_tz": 300,
          "elapsed": 924,
          "user": {
            "displayName": "GRISELA ALEXANDRA PINZON APONTE",
            "photoUrl": "https://lh3.googleusercontent.com/a/default-user=s128",
            "userId": "105630513318907034713"
          }
        }
      },
      "cell_type": "code",
      "source": [
        "vect = CountVectorizer()\n",
        "dtm = vect.fit(X_train)\n",
        "X_train_transformado = vect.transform(X_train)\n",
        "X_train_transformado.shape"
      ],
      "execution_count": 16,
      "outputs": [
        {
          "output_type": "execute_result",
          "data": {
            "text/plain": [
              "(9808, 12056)"
            ]
          },
          "metadata": {
            "tags": []
          },
          "execution_count": 16
        }
      ]
    },
    {
      "metadata": {
        "id": "AH3X-NCVquEi",
        "colab_type": "code",
        "colab": {
          "autoexec": {
            "startup": false,
            "wait_interval": 0
          },
          "base_uri": "https://localhost:8080/",
          "height": 136
        },
        "outputId": "3d537b2d-9b9f-408b-c6b8-ccdaf130b81a",
        "executionInfo": {
          "status": "ok",
          "timestamp": 1531671562581,
          "user_tz": 300,
          "elapsed": 2018,
          "user": {
            "displayName": "GRISELA ALEXANDRA PINZON APONTE",
            "photoUrl": "https://lh3.googleusercontent.com/a/default-user=s128",
            "userId": "105630513318907034713"
          }
        }
      },
      "cell_type": "code",
      "source": [
        "#Modelo Random Forest\n",
        "RandomForest = RandomForestClassifier()\n",
        "RandomForest.fit(X_train_transformado, y_train)"
      ],
      "execution_count": 17,
      "outputs": [
        {
          "output_type": "execute_result",
          "data": {
            "text/plain": [
              "RandomForestClassifier(bootstrap=True, class_weight=None, criterion='gini',\n",
              "            max_depth=None, max_features='auto', max_leaf_nodes=None,\n",
              "            min_impurity_decrease=0.0, min_impurity_split=None,\n",
              "            min_samples_leaf=1, min_samples_split=2,\n",
              "            min_weight_fraction_leaf=0.0, n_estimators=10, n_jobs=1,\n",
              "            oob_score=False, random_state=None, verbose=0,\n",
              "            warm_start=False)"
            ]
          },
          "metadata": {
            "tags": []
          },
          "execution_count": 17
        }
      ]
    },
    {
      "metadata": {
        "id": "8s_DxWSyppZt",
        "colab_type": "code",
        "colab": {
          "autoexec": {
            "startup": false,
            "wait_interval": 0
          }
        }
      },
      "cell_type": "code",
      "source": [
        "#transforma test\n",
        "X_test_transformado = vect.transform(X_test)"
      ],
      "execution_count": 0,
      "outputs": []
    },
    {
      "metadata": {
        "id": "NZyJBsEKq1X-",
        "colab_type": "code",
        "colab": {
          "autoexec": {
            "startup": false,
            "wait_interval": 0
          },
          "base_uri": "https://localhost:8080/",
          "height": 170
        },
        "outputId": "95d3855a-7d28-4bfe-949f-e1f4217d8026",
        "executionInfo": {
          "status": "ok",
          "timestamp": 1531671572054,
          "user_tz": 300,
          "elapsed": 7527,
          "user": {
            "displayName": "GRISELA ALEXANDRA PINZON APONTE",
            "photoUrl": "https://lh3.googleusercontent.com/a/default-user=s128",
            "userId": "105630513318907034713"
          }
        }
      },
      "cell_type": "code",
      "source": [
        "#Validacion\n",
        "pd.Series(cross_val_score(RandomForest, X_test_transformado, y_test, cv=10)).describe()"
      ],
      "execution_count": 19,
      "outputs": [
        {
          "output_type": "execute_result",
          "data": {
            "text/plain": [
              "count    10.000000\n",
              "mean      0.731169\n",
              "std       0.012802\n",
              "min       0.715768\n",
              "25%       0.721734\n",
              "50%       0.732156\n",
              "75%       0.737356\n",
              "max       0.757261\n",
              "dtype: float64"
            ]
          },
          "metadata": {
            "tags": []
          },
          "execution_count": 19
        }
      ]
    },
    {
      "metadata": {
        "id": "aouuwW08rOem",
        "colab_type": "text"
      },
      "cell_type": "markdown",
      "source": [
        "#Proband Stopwords"
      ]
    },
    {
      "metadata": {
        "id": "V8bHLvaQrZOX",
        "colab_type": "code",
        "colab": {
          "autoexec": {
            "startup": false,
            "wait_interval": 0
          },
          "base_uri": "https://localhost:8080/",
          "height": 34
        },
        "outputId": "e896c067-9c6b-4c21-ccd6-d8be22f5c54e",
        "executionInfo": {
          "status": "ok",
          "timestamp": 1531671579718,
          "user_tz": 300,
          "elapsed": 625,
          "user": {
            "displayName": "GRISELA ALEXANDRA PINZON APONTE",
            "photoUrl": "https://lh3.googleusercontent.com/a/default-user=s128",
            "userId": "105630513318907034713"
          }
        }
      },
      "cell_type": "code",
      "source": [
        "vect = CountVectorizer(stop_words='english')\n",
        "dtm = vect.fit(X_train)\n",
        "X_train_transformado = vect.transform(X_train)\n",
        "X_train_transformado.shape"
      ],
      "execution_count": 20,
      "outputs": [
        {
          "output_type": "execute_result",
          "data": {
            "text/plain": [
              "(9808, 11777)"
            ]
          },
          "metadata": {
            "tags": []
          },
          "execution_count": 20
        }
      ]
    },
    {
      "metadata": {
        "id": "MD8rxTvCrcLR",
        "colab_type": "code",
        "colab": {
          "autoexec": {
            "startup": false,
            "wait_interval": 0
          },
          "base_uri": "https://localhost:8080/",
          "height": 136
        },
        "outputId": "e40cd07d-5700-4d51-8079-780ffe92b958",
        "executionInfo": {
          "status": "ok",
          "timestamp": 1531671583718,
          "user_tz": 300,
          "elapsed": 1950,
          "user": {
            "displayName": "GRISELA ALEXANDRA PINZON APONTE",
            "photoUrl": "https://lh3.googleusercontent.com/a/default-user=s128",
            "userId": "105630513318907034713"
          }
        }
      },
      "cell_type": "code",
      "source": [
        "#Modelo Random Forest\n",
        "RandomForest = RandomForestClassifier()\n",
        "RandomForest.fit(X_train_transformado, y_train)"
      ],
      "execution_count": 21,
      "outputs": [
        {
          "output_type": "execute_result",
          "data": {
            "text/plain": [
              "RandomForestClassifier(bootstrap=True, class_weight=None, criterion='gini',\n",
              "            max_depth=None, max_features='auto', max_leaf_nodes=None,\n",
              "            min_impurity_decrease=0.0, min_impurity_split=None,\n",
              "            min_samples_leaf=1, min_samples_split=2,\n",
              "            min_weight_fraction_leaf=0.0, n_estimators=10, n_jobs=1,\n",
              "            oob_score=False, random_state=None, verbose=0,\n",
              "            warm_start=False)"
            ]
          },
          "metadata": {
            "tags": []
          },
          "execution_count": 21
        }
      ]
    },
    {
      "metadata": {
        "id": "yeL9XFN_rmta",
        "colab_type": "code",
        "colab": {
          "autoexec": {
            "startup": false,
            "wait_interval": 0
          }
        }
      },
      "cell_type": "code",
      "source": [
        "#transforma test\n",
        "X_test_transformado = vect.transform(X_test)"
      ],
      "execution_count": 0,
      "outputs": []
    },
    {
      "metadata": {
        "id": "clVl-NZYrqWp",
        "colab_type": "code",
        "colab": {
          "autoexec": {
            "startup": false,
            "wait_interval": 0
          },
          "base_uri": "https://localhost:8080/",
          "height": 170
        },
        "outputId": "73cf6d3a-2574-4a21-876d-3c896225052f",
        "executionInfo": {
          "status": "ok",
          "timestamp": 1531671594811,
          "user_tz": 300,
          "elapsed": 8897,
          "user": {
            "displayName": "GRISELA ALEXANDRA PINZON APONTE",
            "photoUrl": "https://lh3.googleusercontent.com/a/default-user=s128",
            "userId": "105630513318907034713"
          }
        }
      },
      "cell_type": "code",
      "source": [
        "#Validacion\n",
        "pd.Series(cross_val_score(RandomForest, X_test_transformado, y_test, cv=10)).describe()"
      ],
      "execution_count": 23,
      "outputs": [
        {
          "output_type": "execute_result",
          "data": {
            "text/plain": [
              "count    10.000000\n",
              "mean      0.713774\n",
              "std       0.015813\n",
              "min       0.695021\n",
              "25%       0.702689\n",
              "50%       0.709392\n",
              "75%       0.728351\n",
              "max       0.736515\n",
              "dtype: float64"
            ]
          },
          "metadata": {
            "tags": []
          },
          "execution_count": 23
        }
      ]
    },
    {
      "metadata": {
        "id": "rC86VfCmsKj6",
        "colab_type": "text"
      },
      "cell_type": "markdown",
      "source": [
        "#Probando n_grams"
      ]
    },
    {
      "metadata": {
        "id": "6LGPCecYsWF6",
        "colab_type": "code",
        "colab": {
          "autoexec": {
            "startup": false,
            "wait_interval": 0
          },
          "base_uri": "https://localhost:8080/",
          "height": 34
        },
        "outputId": "9b9062e6-79be-4cf4-fce6-d61c5df3eb46",
        "executionInfo": {
          "status": "ok",
          "timestamp": 1531671599148,
          "user_tz": 300,
          "elapsed": 1494,
          "user": {
            "displayName": "GRISELA ALEXANDRA PINZON APONTE",
            "photoUrl": "https://lh3.googleusercontent.com/a/default-user=s128",
            "userId": "105630513318907034713"
          }
        }
      },
      "cell_type": "code",
      "source": [
        "vect = CountVectorizer(ngram_range=(1, 2), min_df=2)\n",
        "dtm = vect.fit(X_train)\n",
        "X_train_transformado = vect.transform(X_train)\n",
        "X_train_transformado.shape"
      ],
      "execution_count": 24,
      "outputs": [
        {
          "output_type": "execute_result",
          "data": {
            "text/plain": [
              "(9808, 22011)"
            ]
          },
          "metadata": {
            "tags": []
          },
          "execution_count": 24
        }
      ]
    },
    {
      "metadata": {
        "id": "GL2Z6DejsZa9",
        "colab_type": "code",
        "colab": {
          "autoexec": {
            "startup": false,
            "wait_interval": 0
          },
          "base_uri": "https://localhost:8080/",
          "height": 136
        },
        "outputId": "86d722c6-9f0b-4942-a8a1-0d5abcfd8add",
        "executionInfo": {
          "status": "ok",
          "timestamp": 1531671602541,
          "user_tz": 300,
          "elapsed": 2755,
          "user": {
            "displayName": "GRISELA ALEXANDRA PINZON APONTE",
            "photoUrl": "https://lh3.googleusercontent.com/a/default-user=s128",
            "userId": "105630513318907034713"
          }
        }
      },
      "cell_type": "code",
      "source": [
        "#Modelo Random Forest\n",
        "RandomForest = RandomForestClassifier()\n",
        "RandomForest.fit(X_train_transformado, y_train)"
      ],
      "execution_count": 25,
      "outputs": [
        {
          "output_type": "execute_result",
          "data": {
            "text/plain": [
              "RandomForestClassifier(bootstrap=True, class_weight=None, criterion='gini',\n",
              "            max_depth=None, max_features='auto', max_leaf_nodes=None,\n",
              "            min_impurity_decrease=0.0, min_impurity_split=None,\n",
              "            min_samples_leaf=1, min_samples_split=2,\n",
              "            min_weight_fraction_leaf=0.0, n_estimators=10, n_jobs=1,\n",
              "            oob_score=False, random_state=None, verbose=0,\n",
              "            warm_start=False)"
            ]
          },
          "metadata": {
            "tags": []
          },
          "execution_count": 25
        }
      ]
    },
    {
      "metadata": {
        "id": "IgIkF-8Wsfem",
        "colab_type": "code",
        "colab": {
          "autoexec": {
            "startup": false,
            "wait_interval": 0
          }
        }
      },
      "cell_type": "code",
      "source": [
        "#transforma test\n",
        "X_test_transformado = vect.transform(X_test)"
      ],
      "execution_count": 0,
      "outputs": []
    },
    {
      "metadata": {
        "id": "-Ip508UKsh83",
        "colab_type": "code",
        "colab": {
          "autoexec": {
            "startup": false,
            "wait_interval": 0
          },
          "base_uri": "https://localhost:8080/",
          "height": 170
        },
        "outputId": "4e343f15-fe0c-4d25-c837-5af328703e4c",
        "executionInfo": {
          "status": "ok",
          "timestamp": 1531671615267,
          "user_tz": 300,
          "elapsed": 10764,
          "user": {
            "displayName": "GRISELA ALEXANDRA PINZON APONTE",
            "photoUrl": "https://lh3.googleusercontent.com/a/default-user=s128",
            "userId": "105630513318907034713"
          }
        }
      },
      "cell_type": "code",
      "source": [
        "#Validacion\n",
        "pd.Series(cross_val_score(RandomForest, X_test_transformado, y_test, cv=10)).describe()"
      ],
      "execution_count": 27,
      "outputs": [
        {
          "output_type": "execute_result",
          "data": {
            "text/plain": [
              "count    10.000000\n",
              "mean      0.724579\n",
              "std       0.015904\n",
              "min       0.692784\n",
              "25%       0.716569\n",
              "50%       0.728216\n",
              "75%       0.734060\n",
              "max       0.744813\n",
              "dtype: float64"
            ]
          },
          "metadata": {
            "tags": []
          },
          "execution_count": 27
        }
      ]
    },
    {
      "metadata": {
        "id": "40Ln6Oz2tA-e",
        "colab_type": "text"
      },
      "cell_type": "markdown",
      "source": [
        "#Probando Stemmer"
      ]
    },
    {
      "metadata": {
        "id": "ZxP56lGmtDnE",
        "colab_type": "code",
        "colab": {
          "autoexec": {
            "startup": false,
            "wait_interval": 0
          }
        }
      },
      "cell_type": "code",
      "source": [
        "stemmer = SnowballStemmer('english')"
      ],
      "execution_count": 0,
      "outputs": []
    },
    {
      "metadata": {
        "id": "JBZqBORCtHzD",
        "colab_type": "code",
        "colab": {
          "autoexec": {
            "startup": false,
            "wait_interval": 0
          },
          "base_uri": "https://localhost:8080/",
          "height": 34
        },
        "outputId": "f27dd84c-3995-48ce-e698-4970bc1b9c81",
        "executionInfo": {
          "status": "ok",
          "timestamp": 1531671622767,
          "user_tz": 300,
          "elapsed": 5140,
          "user": {
            "displayName": "GRISELA ALEXANDRA PINZON APONTE",
            "photoUrl": "https://lh3.googleusercontent.com/a/default-user=s128",
            "userId": "105630513318907034713"
          }
        }
      },
      "cell_type": "code",
      "source": [
        "# define a function that accepts text and returns a list of lemmas\n",
        "def split_into_stemmer(text):\n",
        "    text = text.lower()\n",
        "    words = text.split()\n",
        "    return [stemmer.stem(word) for word in words]\n",
        "\n",
        "vect = CountVectorizer(analyzer=split_into_stemmer)\n",
        "dtm = vect.fit(X_train)\n",
        "X_train_transformado = vect.transform(X_train)\n",
        "X_train_transformado.shape"
      ],
      "execution_count": 29,
      "outputs": [
        {
          "output_type": "execute_result",
          "data": {
            "text/plain": [
              "(9808, 18559)"
            ]
          },
          "metadata": {
            "tags": []
          },
          "execution_count": 29
        }
      ]
    },
    {
      "metadata": {
        "id": "C40DuN_ttMqJ",
        "colab_type": "code",
        "colab": {
          "autoexec": {
            "startup": false,
            "wait_interval": 0
          },
          "base_uri": "https://localhost:8080/",
          "height": 136
        },
        "outputId": "6d695fca-1242-4d85-c5b3-9d923e08cc66",
        "executionInfo": {
          "status": "ok",
          "timestamp": 1531671626027,
          "user_tz": 300,
          "elapsed": 2215,
          "user": {
            "displayName": "GRISELA ALEXANDRA PINZON APONTE",
            "photoUrl": "https://lh3.googleusercontent.com/a/default-user=s128",
            "userId": "105630513318907034713"
          }
        }
      },
      "cell_type": "code",
      "source": [
        "#Modelo Random Forest\n",
        "RandomForest = RandomForestClassifier()\n",
        "RandomForest.fit(X_train_transformado, y_train)"
      ],
      "execution_count": 30,
      "outputs": [
        {
          "output_type": "execute_result",
          "data": {
            "text/plain": [
              "RandomForestClassifier(bootstrap=True, class_weight=None, criterion='gini',\n",
              "            max_depth=None, max_features='auto', max_leaf_nodes=None,\n",
              "            min_impurity_decrease=0.0, min_impurity_split=None,\n",
              "            min_samples_leaf=1, min_samples_split=2,\n",
              "            min_weight_fraction_leaf=0.0, n_estimators=10, n_jobs=1,\n",
              "            oob_score=False, random_state=None, verbose=0,\n",
              "            warm_start=False)"
            ]
          },
          "metadata": {
            "tags": []
          },
          "execution_count": 30
        }
      ]
    },
    {
      "metadata": {
        "id": "Vl2Yqo_-tQGi",
        "colab_type": "code",
        "colab": {
          "autoexec": {
            "startup": false,
            "wait_interval": 0
          }
        }
      },
      "cell_type": "code",
      "source": [
        "#transforma test\n",
        "X_test_transformado = vect.transform(X_test)"
      ],
      "execution_count": 0,
      "outputs": []
    },
    {
      "metadata": {
        "id": "m4P8dWPutR0A",
        "colab_type": "code",
        "colab": {
          "autoexec": {
            "startup": false,
            "wait_interval": 0
          },
          "base_uri": "https://localhost:8080/",
          "height": 170
        },
        "outputId": "edb92961-7bfa-439c-d2ae-2e794664861b",
        "executionInfo": {
          "status": "ok",
          "timestamp": 1531671641528,
          "user_tz": 300,
          "elapsed": 9341,
          "user": {
            "displayName": "GRISELA ALEXANDRA PINZON APONTE",
            "photoUrl": "https://lh3.googleusercontent.com/a/default-user=s128",
            "userId": "105630513318907034713"
          }
        }
      },
      "cell_type": "code",
      "source": [
        "#Validacion\n",
        "pd.Series(cross_val_score(RandomForest, X_test_transformado, y_test, cv=10)).describe()"
      ],
      "execution_count": 32,
      "outputs": [
        {
          "output_type": "execute_result",
          "data": {
            "text/plain": [
              "count    10.000000\n",
              "mean      0.720207\n",
              "std       0.010898\n",
              "min       0.701863\n",
              "25%       0.712433\n",
              "50%       0.721827\n",
              "75%       0.727412\n",
              "max       0.738589\n",
              "dtype: float64"
            ]
          },
          "metadata": {
            "tags": []
          },
          "execution_count": 32
        }
      ]
    },
    {
      "metadata": {
        "id": "JialyvU5lWhh",
        "colab_type": "text"
      },
      "cell_type": "markdown",
      "source": [
        "#Probando TfidfVectorizer"
      ]
    },
    {
      "metadata": {
        "id": "upZVOUEFlWhl",
        "colab_type": "code",
        "colab": {
          "autoexec": {
            "startup": false,
            "wait_interval": 0
          },
          "base_uri": "https://localhost:8080/",
          "height": 34
        },
        "outputId": "b80e6d77-37e8-4c4f-a411-728b1302b160",
        "executionInfo": {
          "status": "ok",
          "timestamp": 1531671671603,
          "user_tz": 300,
          "elapsed": 758,
          "user": {
            "displayName": "GRISELA ALEXANDRA PINZON APONTE",
            "photoUrl": "https://lh3.googleusercontent.com/a/default-user=s128",
            "userId": "105630513318907034713"
          }
        }
      },
      "cell_type": "code",
      "source": [
        "vect = TfidfVectorizer()\n",
        "dtm = vect.fit(X_train)\n",
        "X_train_transformado = vect.transform(X_train)\n",
        "X_train_transformado.shape"
      ],
      "execution_count": 33,
      "outputs": [
        {
          "output_type": "execute_result",
          "data": {
            "text/plain": [
              "(9808, 12056)"
            ]
          },
          "metadata": {
            "tags": []
          },
          "execution_count": 33
        }
      ]
    },
    {
      "metadata": {
        "id": "A5htoCvrlWho",
        "colab_type": "code",
        "colab": {
          "autoexec": {
            "startup": false,
            "wait_interval": 0
          },
          "base_uri": "https://localhost:8080/",
          "height": 136
        },
        "outputId": "ea6f9a0b-a5dc-4605-ec05-0cd11694b22a",
        "executionInfo": {
          "status": "ok",
          "timestamp": 1531671943082,
          "user_tz": 300,
          "elapsed": 1847,
          "user": {
            "displayName": "GRISELA ALEXANDRA PINZON APONTE",
            "photoUrl": "https://lh3.googleusercontent.com/a/default-user=s128",
            "userId": "105630513318907034713"
          }
        }
      },
      "cell_type": "code",
      "source": [
        "#Modelo Random Forest\n",
        "RandomForest = RandomForestClassifier()\n",
        "RandomForest.fit(X_train_transformado, y_train)"
      ],
      "execution_count": 37,
      "outputs": [
        {
          "output_type": "execute_result",
          "data": {
            "text/plain": [
              "RandomForestClassifier(bootstrap=True, class_weight=None, criterion='gini',\n",
              "            max_depth=None, max_features='auto', max_leaf_nodes=None,\n",
              "            min_impurity_decrease=0.0, min_impurity_split=None,\n",
              "            min_samples_leaf=1, min_samples_split=2,\n",
              "            min_weight_fraction_leaf=0.0, n_estimators=10, n_jobs=1,\n",
              "            oob_score=False, random_state=None, verbose=0,\n",
              "            warm_start=False)"
            ]
          },
          "metadata": {
            "tags": []
          },
          "execution_count": 37
        }
      ]
    },
    {
      "metadata": {
        "id": "FVlAXCcVwpC0",
        "colab_type": "code",
        "colab": {
          "autoexec": {
            "startup": false,
            "wait_interval": 0
          }
        }
      },
      "cell_type": "code",
      "source": [
        "#transforma test\n",
        "X_test_transformado = vect.transform(X_test)"
      ],
      "execution_count": 0,
      "outputs": []
    },
    {
      "metadata": {
        "id": "479ZiyJLwt7p",
        "colab_type": "code",
        "colab": {
          "autoexec": {
            "startup": false,
            "wait_interval": 0
          },
          "base_uri": "https://localhost:8080/",
          "height": 170
        },
        "outputId": "4c97aeb3-40dc-4a1c-8822-df8777632ffc",
        "executionInfo": {
          "status": "ok",
          "timestamp": 1531671952987,
          "user_tz": 300,
          "elapsed": 7506,
          "user": {
            "displayName": "GRISELA ALEXANDRA PINZON APONTE",
            "photoUrl": "https://lh3.googleusercontent.com/a/default-user=s128",
            "userId": "105630513318907034713"
          }
        }
      },
      "cell_type": "code",
      "source": [
        "#Evaluacion\n",
        "pd.Series(cross_val_score(RandomForest, X_test_transformado, y_test, cv=10)).describe()"
      ],
      "execution_count": 39,
      "outputs": [
        {
          "output_type": "execute_result",
          "data": {
            "text/plain": [
              "count    10.000000\n",
              "mean      0.721014\n",
              "std       0.015578\n",
              "min       0.699170\n",
              "25%       0.710513\n",
              "50%       0.723428\n",
              "75%       0.731443\n",
              "max       0.744813\n",
              "dtype: float64"
            ]
          },
          "metadata": {
            "tags": []
          },
          "execution_count": 39
        }
      ]
    },
    {
      "metadata": {
        "id": "bk2g4uEXlWiV",
        "colab_type": "text"
      },
      "cell_type": "markdown",
      "source": [
        "# Exercise 8.2\n",
        "\n",
        "Train a Deep Neural Network with the following architecture:\n",
        "\n",
        "- Input = text \n",
        "- Dense(128)\n",
        "- Relu Activation\n",
        "- BatchNormalization\n",
        "- Dropout(0.5)\n",
        "- Dense(10, Softmax)\n",
        "\n",
        "Optimized using rmsprop using as loss categorical_crossentropy\n",
        "\n",
        "Hints: \n",
        "- test with two iterations then try more. \n",
        "- learning can be ajusted\n",
        "\n",
        "Evaluate the performance using the testing set (aprox 55% with 50 epochs)"
      ]
    },
    {
      "metadata": {
        "id": "8prmEmBtlWiV",
        "colab_type": "code",
        "colab": {
          "autoexec": {
            "startup": false,
            "wait_interval": 0
          }
        }
      },
      "cell_type": "code",
      "source": [
        "from keras.models import Sequential\n",
        "from keras.utils import np_utils\n",
        "from keras.layers import Dense, Dropout, Activation, BatchNormalization\n",
        "from keras.optimizers import RMSprop\n",
        "from keras.callbacks import History\n",
        "from keras.datasets import reuters\n",
        "from keras.layers import Dropout\n",
        "from keras.preprocessing.text import Tokenizer\n",
        "import numpy as np\n",
        "import pylab as pl\n",
        "from sklearn.datasets.samples_generator import make_moons\n",
        "import keras\n",
        "from keras.models import Sequential\n",
        "from keras.layers import Dense, Activation\n",
        "from keras.optimizers import SGD\n",
        "from keras.layers.normalization import BatchNormalization"
      ],
      "execution_count": 0,
      "outputs": []
    },
    {
      "metadata": {
        "id": "-vAQt9jVlWiX",
        "colab_type": "code",
        "colab": {
          "autoexec": {
            "startup": false,
            "wait_interval": 0
          },
          "base_uri": "https://localhost:8080/",
          "height": 34
        },
        "outputId": "fc2cf175-6822-4991-f422-6c5d2d71a3e0",
        "executionInfo": {
          "status": "ok",
          "timestamp": 1531672083912,
          "user_tz": 300,
          "elapsed": 2468,
          "user": {
            "displayName": "GRISELA ALEXANDRA PINZON APONTE",
            "photoUrl": "https://lh3.googleusercontent.com/a/default-user=s128",
            "userId": "105630513318907034713"
          }
        }
      },
      "cell_type": "code",
      "source": [
        "# include 1-grams and 2-grams, and only include terms that appear at least 2 times\n",
        "y_train_cat = keras.utils.to_categorical(y_train,num_classes=3)\n",
        "y_test_cat = keras.utils.to_categorical(y_test,num_classes=3)\n",
        "\n",
        "vect = CountVectorizer(ngram_range=(1, 2), min_df=2)\n",
        "dtm = vect.fit(X_train)\n",
        "X_train_transformado = vect.transform(X_train)\n",
        "X_train_transformado.shape\n",
        "\n",
        "print(X_train_transformado.shape)\n",
        "tamano = X_train_transformado.shape[1]"
      ],
      "execution_count": 44,
      "outputs": [
        {
          "output_type": "stream",
          "text": [
            "(9808, 22011)\n"
          ],
          "name": "stdout"
        }
      ]
    },
    {
      "metadata": {
        "id": "0ctfLwLUlWic",
        "colab_type": "code",
        "colab": {
          "autoexec": {
            "startup": false,
            "wait_interval": 0
          }
        }
      },
      "cell_type": "code",
      "source": [
        "Newmodel = Sequential()\n",
        "\n",
        "Newmodel.add(Dense(128, input_shape=(tamano,)))\n",
        "Newmodel.add(Activation('relu'))\n",
        "Newmodel.add(BatchNormalization())\n",
        "Newmodel.add(Dropout(0.5))\n",
        "Newmodel.add(Dense(10))\n",
        "Newmodel.add(Activation('softmax'))\n",
        "Newmodel.add(Dense(3))\n",
        "Newmodel.add(Activation('softmax'))"
      ],
      "execution_count": 0,
      "outputs": []
    },
    {
      "metadata": {
        "id": "J0835fPhxoZi",
        "colab_type": "code",
        "colab": {
          "autoexec": {
            "startup": false,
            "wait_interval": 0
          },
          "base_uri": "https://localhost:8080/",
          "height": 408
        },
        "outputId": "6d6b3e14-6823-4861-b381-12c87a15e6d7",
        "executionInfo": {
          "status": "ok",
          "timestamp": 1531672179354,
          "user_tz": 300,
          "elapsed": 492,
          "user": {
            "displayName": "GRISELA ALEXANDRA PINZON APONTE",
            "photoUrl": "https://lh3.googleusercontent.com/a/default-user=s128",
            "userId": "105630513318907034713"
          }
        }
      },
      "cell_type": "code",
      "source": [
        "Newmodel.summary()"
      ],
      "execution_count": 46,
      "outputs": [
        {
          "output_type": "stream",
          "text": [
            "_________________________________________________________________\n",
            "Layer (type)                 Output Shape              Param #   \n",
            "=================================================================\n",
            "dense_4 (Dense)              (None, 128)               2817536   \n",
            "_________________________________________________________________\n",
            "activation_4 (Activation)    (None, 128)               0         \n",
            "_________________________________________________________________\n",
            "batch_normalization_2 (Batch (None, 128)               512       \n",
            "_________________________________________________________________\n",
            "dropout_2 (Dropout)          (None, 128)               0         \n",
            "_________________________________________________________________\n",
            "dense_5 (Dense)              (None, 10)                1290      \n",
            "_________________________________________________________________\n",
            "activation_5 (Activation)    (None, 10)                0         \n",
            "_________________________________________________________________\n",
            "dense_6 (Dense)              (None, 3)                 33        \n",
            "_________________________________________________________________\n",
            "activation_6 (Activation)    (None, 3)                 0         \n",
            "=================================================================\n",
            "Total params: 2,819,371\n",
            "Trainable params: 2,819,115\n",
            "Non-trainable params: 256\n",
            "_________________________________________________________________\n"
          ],
          "name": "stdout"
        }
      ]
    },
    {
      "metadata": {
        "id": "7lsji3Y_lWig",
        "colab_type": "code",
        "colab": {
          "autoexec": {
            "startup": false,
            "wait_interval": 0
          }
        }
      },
      "cell_type": "code",
      "source": [
        "from keras.optimizers import RMSprop\n",
        "Newmodel.compile(loss='categorical_crossentropy',\n",
        "              optimizer=RMSprop(),\n",
        "              metrics=['accuracy'])"
      ],
      "execution_count": 0,
      "outputs": []
    },
    {
      "metadata": {
        "id": "dNgbsYNylWii",
        "colab_type": "code",
        "colab": {
          "autoexec": {
            "startup": false,
            "wait_interval": 0
          },
          "base_uri": "https://localhost:8080/",
          "height": 37900
        },
        "outputId": "15899526-252a-49ea-db15-0a453b6a0500",
        "executionInfo": {
          "status": "ok",
          "timestamp": 1531672916050,
          "user_tz": 300,
          "elapsed": 696333,
          "user": {
            "displayName": "GRISELA ALEXANDRA PINZON APONTE",
            "photoUrl": "https://lh3.googleusercontent.com/a/default-user=s128",
            "userId": "105630513318907034713"
          }
        }
      },
      "cell_type": "code",
      "source": [
        "batch_size = 32\n",
        "epochs = 50\n",
        "history = Newmodel.fit(X_train_transformado, y_train_cat,\n",
        "                    batch_size=batch_size,\n",
        "                    epochs=epochs,\n",
        "                    verbose=1,\n",
        "                    validation_split=0.1)"
      ],
      "execution_count": 49,
      "outputs": [
        {
          "output_type": "stream",
          "text": [
            "Train on 8827 samples, validate on 981 samples\n",
            "Epoch 1/50\n",
            "8827/8827 [==============================] - 16s 2ms/step - loss: 0.6121 - acc: 0.8070 - val_loss: 0.6429 - val_acc: 0.7768\n",
            "Epoch 2/50\n",
            "7168/8827 [=======================>......] - ETA: 2s - loss: 0.5002 - acc: 0.8640"
          ],
          "name": "stdout"
        },
        {
          "output_type": "stream",
          "text": [
            "8827/8827 [==============================] - 15s 2ms/step - loss: 0.4946 - acc: 0.8651 - val_loss: 0.6026 - val_acc: 0.7941\n",
            "Epoch 3/50\n",
            "8827/8827 [==============================] - 16s 2ms/step - loss: 0.4071 - acc: 0.8903 - val_loss: 0.5917 - val_acc: 0.7859\n",
            "Epoch 4/50\n",
            "3264/8827 [==========>...................] - ETA: 9s - loss: 0.3417 - acc: 0.9157"
          ],
          "name": "stdout"
        },
        {
          "output_type": "stream",
          "text": [
            "8827/8827 [==============================] - 15s 2ms/step - loss: 0.3449 - acc: 0.9079 - val_loss: 0.6209 - val_acc: 0.7819\n",
            "Epoch 5/50\n",
            "8827/8827 [==============================] - 14s 2ms/step - loss: 0.2963 - acc: 0.9178 - val_loss: 0.6370 - val_acc: 0.7768\n",
            "Epoch 6/50\n",
            "3744/8827 [===========>..................] - ETA: 8s - loss: 0.2779 - acc: 0.9199"
          ],
          "name": "stdout"
        },
        {
          "output_type": "stream",
          "text": [
            "8827/8827 [==============================] - 15s 2ms/step - loss: 0.2780 - acc: 0.9170 - val_loss: 0.6611 - val_acc: 0.7706\n",
            "Epoch 7/50\n",
            "8827/8827 [==============================] - 14s 2ms/step - loss: 0.2413 - acc: 0.9326 - val_loss: 0.6741 - val_acc: 0.7747\n",
            "Epoch 8/50\n",
            "4000/8827 [============>.................] - ETA: 7s - loss: 0.1977 - acc: 0.9457"
          ],
          "name": "stdout"
        },
        {
          "output_type": "stream",
          "text": [
            "8827/8827 [==============================] - 14s 2ms/step - loss: 0.2175 - acc: 0.9391 - val_loss: 0.6770 - val_acc: 0.7788\n",
            "Epoch 9/50\n",
            "8827/8827 [==============================] - 14s 2ms/step - loss: 0.1998 - acc: 0.9439 - val_loss: 0.7425 - val_acc: 0.7666\n",
            "Epoch 10/50\n",
            "5728/8827 [==================>...........] - ETA: 4s - loss: 0.1907 - acc: 0.9443"
          ],
          "name": "stdout"
        },
        {
          "output_type": "stream",
          "text": [
            "8827/8827 [==============================] - 14s 2ms/step - loss: 0.1964 - acc: 0.9429 - val_loss: 0.7762 - val_acc: 0.7655\n",
            "Epoch 11/50\n",
            "8827/8827 [==============================] - 14s 2ms/step - loss: 0.1864 - acc: 0.9453 - val_loss: 0.7680 - val_acc: 0.7574\n",
            "Epoch 12/50\n",
            "7456/8827 [========================>.....] - ETA: 2s - loss: 0.1728 - acc: 0.9497"
          ],
          "name": "stdout"
        },
        {
          "output_type": "stream",
          "text": [
            "8827/8827 [==============================] - 14s 2ms/step - loss: 0.1755 - acc: 0.9490 - val_loss: 0.7872 - val_acc: 0.7625\n",
            "Epoch 13/50\n",
            "8827/8827 [==============================] - 13s 2ms/step - loss: 0.1789 - acc: 0.9466 - val_loss: 0.8129 - val_acc: 0.7655\n",
            "Epoch 14/50\n",
            "8827/8827 [==============================] - 14s 2ms/step - loss: 0.1635 - acc: 0.9530 - val_loss: 0.8022 - val_acc: 0.7625\n"
          ],
          "name": "stdout"
        },
        {
          "output_type": "stream",
          "text": [
            "Epoch 15/50\n",
            "8827/8827 [==============================] - 14s 2ms/step - loss: 0.1608 - acc: 0.9539 - val_loss: 0.8218 - val_acc: 0.7706\n",
            "Epoch 16/50\n",
            "8827/8827 [==============================] - 14s 2ms/step - loss: 0.1547 - acc: 0.9528 - val_loss: 0.8218 - val_acc: 0.7615\n",
            "Epoch 17/50\n",
            "6304/8827 [====================>.........] - ETA: 3s - loss: 0.1561 - acc: 0.9546"
          ],
          "name": "stdout"
        },
        {
          "output_type": "stream",
          "text": [
            "8827/8827 [==============================] - 14s 2ms/step - loss: 0.1479 - acc: 0.9575 - val_loss: 0.8351 - val_acc: 0.7584\n",
            "Epoch 18/50\n",
            "8827/8827 [==============================] - 14s 2ms/step - loss: 0.1323 - acc: 0.9607 - val_loss: 0.8606 - val_acc: 0.7594\n",
            "Epoch 19/50\n",
            "7520/8827 [========================>.....] - ETA: 1s - loss: 0.1364 - acc: 0.9601"
          ],
          "name": "stdout"
        },
        {
          "output_type": "stream",
          "text": [
            "8827/8827 [==============================] - 14s 2ms/step - loss: 0.1332 - acc: 0.9619 - val_loss: 0.8604 - val_acc: 0.7666\n",
            "Epoch 20/50\n",
            "8827/8827 [==============================] - 14s 2ms/step - loss: 0.1353 - acc: 0.9605 - val_loss: 0.8752 - val_acc: 0.7737\n",
            "Epoch 21/50\n",
            "6880/8827 [======================>.......] - ETA: 2s - loss: 0.1438 - acc: 0.9592"
          ],
          "name": "stdout"
        },
        {
          "output_type": "stream",
          "text": [
            "8827/8827 [==============================] - 14s 2ms/step - loss: 0.1397 - acc: 0.9600 - val_loss: 0.9168 - val_acc: 0.7574\n",
            "Epoch 22/50\n",
            "8827/8827 [==============================] - 14s 2ms/step - loss: 0.1323 - acc: 0.9634 - val_loss: 0.9050 - val_acc: 0.7574\n",
            "Epoch 23/50\n",
            "7968/8827 [==========================>...] - ETA: 1s - loss: 0.1352 - acc: 0.9615"
          ],
          "name": "stdout"
        },
        {
          "output_type": "stream",
          "text": [
            "8827/8827 [==============================] - 14s 2ms/step - loss: 0.1349 - acc: 0.9611 - val_loss: 0.9094 - val_acc: 0.7645\n",
            "Epoch 24/50\n",
            "8827/8827 [==============================] - 14s 2ms/step - loss: 0.1308 - acc: 0.9627 - val_loss: 0.8945 - val_acc: 0.7645\n",
            "Epoch 25/50\n",
            "6336/8827 [====================>.........] - ETA: 3s - loss: 0.1372 - acc: 0.9602"
          ],
          "name": "stdout"
        },
        {
          "output_type": "stream",
          "text": [
            "8827/8827 [==============================] - 14s 2ms/step - loss: 0.1312 - acc: 0.9622 - val_loss: 0.8839 - val_acc: 0.7655\n",
            "Epoch 26/50\n",
            "8827/8827 [==============================] - 14s 2ms/step - loss: 0.1321 - acc: 0.9611 - val_loss: 0.9138 - val_acc: 0.7717\n",
            "Epoch 27/50\n",
            "6144/8827 [===================>..........] - ETA: 4s - loss: 0.1125 - acc: 0.9665"
          ],
          "name": "stdout"
        },
        {
          "output_type": "stream",
          "text": [
            "8827/8827 [==============================] - 14s 2ms/step - loss: 0.1178 - acc: 0.9647 - val_loss: 0.9205 - val_acc: 0.7696\n",
            "Epoch 28/50\n",
            "8827/8827 [==============================] - 14s 2ms/step - loss: 0.1205 - acc: 0.9653 - val_loss: 0.9226 - val_acc: 0.7635\n",
            "Epoch 29/50\n",
            "7136/8827 [=======================>......] - ETA: 2s - loss: 0.1159 - acc: 0.9671"
          ],
          "name": "stdout"
        },
        {
          "output_type": "stream",
          "text": [
            "8827/8827 [==============================] - 14s 2ms/step - loss: 0.1159 - acc: 0.9668 - val_loss: 0.9233 - val_acc: 0.7645\n",
            "Epoch 30/50\n",
            "8827/8827 [==============================] - 14s 2ms/step - loss: 0.1166 - acc: 0.9664 - val_loss: 0.9496 - val_acc: 0.7615\n",
            "Epoch 31/50\n",
            "8827/8827 [==============================] - 14s 2ms/step - loss: 0.1203 - acc: 0.9653 - val_loss: 0.9414 - val_acc: 0.7655\n",
            "Epoch 32/50\n",
            " 160/8827 [..............................] - ETA: 13s - loss: 0.1009 - acc: 0.9750"
          ],
          "name": "stdout"
        },
        {
          "output_type": "stream",
          "text": [
            "8827/8827 [==============================] - 14s 2ms/step - loss: 0.1162 - acc: 0.9647 - val_loss: 0.9571 - val_acc: 0.7655\n",
            "Epoch 33/50\n",
            "8827/8827 [==============================] - 13s 2ms/step - loss: 0.1103 - acc: 0.9679 - val_loss: 0.9514 - val_acc: 0.7696\n",
            "Epoch 34/50\n",
            "6432/8827 [====================>.........] - ETA: 3s - loss: 0.1189 - acc: 0.9652"
          ],
          "name": "stdout"
        },
        {
          "output_type": "stream",
          "text": [
            "8827/8827 [==============================] - 14s 2ms/step - loss: 0.1142 - acc: 0.9666 - val_loss: 0.9506 - val_acc: 0.7727\n",
            "Epoch 35/50\n",
            "8827/8827 [==============================] - 13s 1ms/step - loss: 0.1115 - acc: 0.9677 - val_loss: 0.9431 - val_acc: 0.7686\n",
            "Epoch 36/50\n",
            "8827/8827 [==============================] - 14s 2ms/step - loss: 0.1192 - acc: 0.9674 - val_loss: 0.9642 - val_acc: 0.7604\n",
            "Epoch 37/50\n",
            " 320/8827 [>.............................] - ETA: 12s - loss: 0.1604 - acc: 0.9531"
          ],
          "name": "stdout"
        },
        {
          "output_type": "stream",
          "text": [
            "8827/8827 [==============================] - 14s 2ms/step - loss: 0.1164 - acc: 0.9650 - val_loss: 0.9826 - val_acc: 0.7686\n",
            "Epoch 38/50\n",
            "8827/8827 [==============================] - 13s 2ms/step - loss: 0.1008 - acc: 0.9708 - val_loss: 0.9418 - val_acc: 0.7645\n",
            "Epoch 39/50\n",
            "7264/8827 [=======================>......] - ETA: 2s - loss: 0.1206 - acc: 0.9657"
          ],
          "name": "stdout"
        },
        {
          "output_type": "stream",
          "text": [
            "8827/8827 [==============================] - 14s 2ms/step - loss: 0.1139 - acc: 0.9674 - val_loss: 0.9652 - val_acc: 0.7645\n",
            "Epoch 40/50\n",
            "8827/8827 [==============================] - 13s 2ms/step - loss: 0.1073 - acc: 0.9690 - val_loss: 0.9577 - val_acc: 0.7727\n",
            "Epoch 41/50\n",
            "8160/8827 [==========================>...] - ETA: 1s - loss: 0.1071 - acc: 0.9703"
          ],
          "name": "stdout"
        },
        {
          "output_type": "stream",
          "text": [
            "8827/8827 [==============================] - 14s 2ms/step - loss: 0.1086 - acc: 0.9698 - val_loss: 0.9686 - val_acc: 0.7727\n",
            "Epoch 42/50\n",
            "8827/8827 [==============================] - 14s 2ms/step - loss: 0.1103 - acc: 0.9694 - val_loss: 0.9863 - val_acc: 0.7727\n",
            "Epoch 43/50\n",
            "7776/8827 [=========================>....] - ETA: 1s - loss: 0.1082 - acc: 0.9697"
          ],
          "name": "stdout"
        },
        {
          "output_type": "stream",
          "text": [
            "8827/8827 [==============================] - 14s 2ms/step - loss: 0.1097 - acc: 0.9692 - val_loss: 0.9969 - val_acc: 0.7676\n",
            "Epoch 44/50\n",
            "8827/8827 [==============================] - 14s 2ms/step - loss: 0.1016 - acc: 0.9712 - val_loss: 1.0181 - val_acc: 0.7594\n",
            "Epoch 45/50\n",
            "8800/8827 [============================>.] - ETA: 0s - loss: 0.1012 - acc: 0.9707"
          ],
          "name": "stdout"
        },
        {
          "output_type": "stream",
          "text": [
            "8827/8827 [==============================] - 14s 2ms/step - loss: 0.1010 - acc: 0.9708 - val_loss: 1.0231 - val_acc: 0.7625\n",
            "Epoch 46/50\n",
            "8827/8827 [==============================] - 13s 2ms/step - loss: 0.0998 - acc: 0.9716 - val_loss: 1.0358 - val_acc: 0.7604\n",
            "Epoch 47/50\n",
            "8827/8827 [==============================] - 14s 2ms/step - loss: 0.0990 - acc: 0.9716 - val_loss: 1.0518 - val_acc: 0.7604\n",
            "Epoch 48/50\n",
            " 544/8827 [>.............................] - ETA: 12s - loss: 0.0921 - acc: 0.9761"
          ],
          "name": "stdout"
        },
        {
          "output_type": "stream",
          "text": [
            "8827/8827 [==============================] - 14s 2ms/step - loss: 0.1027 - acc: 0.9712 - val_loss: 1.0382 - val_acc: 0.7645\n",
            "Epoch 49/50\n",
            "8827/8827 [==============================] - 14s 2ms/step - loss: 0.1003 - acc: 0.9710 - val_loss: 1.0513 - val_acc: 0.7604\n",
            "Epoch 50/50\n",
            "6496/8827 [=====================>........] - ETA: 3s - loss: 0.1085 - acc: 0.9669"
          ],
          "name": "stdout"
        },
        {
          "output_type": "stream",
          "text": [
            "8827/8827 [==============================] - 14s 2ms/step - loss: 0.1049 - acc: 0.9690 - val_loss: 1.0287 - val_acc: 0.7615\n"
          ],
          "name": "stdout"
        }
      ]
    },
    {
      "metadata": {
        "id": "PiFk2CZKlWio",
        "colab_type": "code",
        "colab": {
          "autoexec": {
            "startup": false,
            "wait_interval": 0
          },
          "base_uri": "https://localhost:8080/",
          "height": 68
        },
        "outputId": "f3066448-bc0e-4a42-b97a-aff7841d0cf1",
        "executionInfo": {
          "status": "ok",
          "timestamp": 1531673002495,
          "user_tz": 300,
          "elapsed": 2324,
          "user": {
            "displayName": "GRISELA ALEXANDRA PINZON APONTE",
            "photoUrl": "https://lh3.googleusercontent.com/a/default-user=s128",
            "userId": "105630513318907034713"
          }
        }
      },
      "cell_type": "code",
      "source": [
        "X_test_transformado = vect.transform(X_test)\n",
        "score = Newmodel.evaluate(X_test_transformado, y_test_cat)\n",
        "print('Test score:', score[0])\n",
        "print('Test accuracy:', score[1])"
      ],
      "execution_count": 51,
      "outputs": [
        {
          "output_type": "stream",
          "text": [
            "4832/4832 [==============================] - 2s 335us/step\n",
            "Test score: 0.9178551319024421\n",
            "Test accuracy: 0.7837334437086093\n"
          ],
          "name": "stdout"
        }
      ]
    },
    {
      "metadata": {
        "id": "j43VCp7jlWir",
        "colab_type": "code",
        "colab": {
          "autoexec": {
            "startup": false,
            "wait_interval": 0
          }
        }
      },
      "cell_type": "code",
      "source": [
        ""
      ],
      "execution_count": 0,
      "outputs": []
    }
  ]
}