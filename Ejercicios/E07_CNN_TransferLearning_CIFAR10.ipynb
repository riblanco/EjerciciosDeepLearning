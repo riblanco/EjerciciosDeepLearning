{
  "nbformat": 4,
  "nbformat_minor": 0,
  "metadata": {
    "colab": {
      "name": "E07-CNN_TransferLearning_CIFAR10 en clase.ipynb",
      "version": "0.3.2",
      "views": {},
      "default_view": {},
      "provenance": [],
      "collapsed_sections": []
    },
    "kernelspec": {
      "display_name": "Python 3",
      "language": "python",
      "name": "python3"
    }
  },
  "cells": [
    {
      "metadata": {
        "id": "sZjt8k_up3eK",
        "colab_type": "text"
      },
      "cell_type": "markdown",
      "source": [
        "# Ejercicio presentado por:\n",
        "\n",
        "Alexandra Pinzon  Código: 201728019\n",
        "\n",
        "Ricardo Blanco      Código: 201727686"
      ]
    },
    {
      "metadata": {
        "id": "SGod1-a8yEy6",
        "colab_type": "text"
      },
      "cell_type": "markdown",
      "source": [
        "# Exercise 7\n",
        "\n",
        "Data Preparation"
      ]
    },
    {
      "metadata": {
        "id": "LVY9cQYCp3eM",
        "colab_type": "text"
      },
      "cell_type": "markdown",
      "source": [
        "We will train our network on the **CIFAR10** [dataset](https://www.cs.toronto.edu/~kriz/cifar.html), which contains `50,000` 32x32 color training images, labeled over 10 categories, and 10,000 test images. \n",
        "\n",
        "As this dataset is also included in Keras datasets, we just ask the `keras.datasets` module for the dataset.\n",
        "\n",
        "Training and test images are normalized to lie in the $\\left[0,1\\right]$ interval."
      ]
    },
    {
      "metadata": {
        "id": "FeXvYwWlp3eO",
        "colab_type": "code",
        "colab": {
          "autoexec": {
            "startup": false,
            "wait_interval": 0
          },
          "base_uri": "https://localhost:8080/",
          "height": 34
        },
        "outputId": "2d5128e1-c74c-4f5a-fbc0-c33668443bb0",
        "executionInfo": {
          "status": "ok",
          "timestamp": 1531597526467,
          "user_tz": 300,
          "elapsed": 1328,
          "user": {
            "displayName": "GRISELA ALEXANDRA PINZON APONTE",
            "photoUrl": "https://lh3.googleusercontent.com/a/default-user=s128",
            "userId": "105630513318907034713"
          }
        }
      },
      "cell_type": "code",
      "source": [
        "from keras.datasets import cifar10\n",
        "from keras.utils import np_utils\n",
        "import pandas as pd\n",
        "import numpy as np\n",
        "import matplotlib.pyplot as plt\n",
        "import matplotlib.image as mpimg\n",
        "%matplotlib inline"
      ],
      "execution_count": 1,
      "outputs": [
        {
          "output_type": "stream",
          "text": [
            "Using TensorFlow backend.\n"
          ],
          "name": "stderr"
        }
      ]
    },
    {
      "metadata": {
        "id": "K1IGDvCup3eW",
        "colab_type": "code",
        "colab": {
          "autoexec": {
            "startup": false,
            "wait_interval": 0
          }
        }
      },
      "cell_type": "code",
      "source": [
        "# Normal option with full database\n",
        "# (X_train, y_train), (X_test, y_test) = cifar10.load_data()  # File is 160MB"
      ],
      "execution_count": 0,
      "outputs": []
    },
    {
      "metadata": {
        "id": "9nZ1v5oBqA_o",
        "colab_type": "code",
        "colab": {
          "autoexec": {
            "startup": false,
            "wait_interval": 0
          },
          "base_uri": "https://localhost:8080/",
          "height": 139
        },
        "outputId": "6044f6d7-71be-4a47-a144-308678323620",
        "executionInfo": {
          "status": "ok",
          "timestamp": 1531597545110,
          "user_tz": 300,
          "elapsed": 15190,
          "user": {
            "displayName": "GRISELA ALEXANDRA PINZON APONTE",
            "photoUrl": "https://lh3.googleusercontent.com/a/default-user=s128",
            "userId": "105630513318907034713"
          }
        }
      },
      "cell_type": "code",
      "source": [
        "!apt-get install -y -qq software-properties-common python-software-properties module-init-tools\n",
        "!add-apt-repository -y ppa:alessandro-strada/ppa 2>&1 > /dev/null\n",
        "!apt-get update -qq 2>&1 > /dev/null\n",
        "!apt-get -y install -qq google-drive-ocamlfuse fuse"
      ],
      "execution_count": 3,
      "outputs": [
        {
          "output_type": "stream",
          "text": [
            "gpg: keybox '/tmp/tmp6zld4m5n/pubring.gpg' created\n",
            "gpg: /tmp/tmp6zld4m5n/trustdb.gpg: trustdb created\n",
            "gpg: key AD5F235DF639B041: public key \"Launchpad PPA for Alessandro Strada\" imported\n",
            "gpg: Total number processed: 1\n",
            "gpg:               imported: 1\n",
            "Warning: apt-key output should not be parsed (stdout is not a terminal)\n"
          ],
          "name": "stdout"
        }
      ]
    },
    {
      "metadata": {
        "id": "YZeKC_kMqIhL",
        "colab_type": "code",
        "colab": {
          "autoexec": {
            "startup": false,
            "wait_interval": 0
          }
        }
      },
      "cell_type": "code",
      "source": [
        "from google.colab import auth\n",
        "auth.authenticate_user()"
      ],
      "execution_count": 0,
      "outputs": []
    },
    {
      "metadata": {
        "id": "cwLFlFhHqZu1",
        "colab_type": "code",
        "colab": {
          "autoexec": {
            "startup": false,
            "wait_interval": 0
          },
          "base_uri": "https://localhost:8080/",
          "height": 40
        },
        "outputId": "66adfd4b-1784-41e8-d008-81b1c1ae0547",
        "executionInfo": {
          "status": "ok",
          "timestamp": 1531597697881,
          "user_tz": 300,
          "elapsed": 146499,
          "user": {
            "displayName": "GRISELA ALEXANDRA PINZON APONTE",
            "photoUrl": "https://lh3.googleusercontent.com/a/default-user=s128",
            "userId": "105630513318907034713"
          }
        }
      },
      "cell_type": "code",
      "source": [
        "from oauth2client.client import GoogleCredentials\n",
        "creds = GoogleCredentials.get_application_default()\n",
        "import getpass\n",
        "!google-drive-ocamlfuse -headless -id={creds.client_id} -secret={creds.client_secret} < /dev/null 2>&1 | grep URL\n",
        "vcode = getpass.getpass()\n",
        "!echo {vcode} | google-drive-ocamlfuse -headless -id={creds.client_id} -secret={creds.client_secret}"
      ],
      "execution_count": 5,
      "outputs": [
        {
          "output_type": "stream",
          "text": [
            "··········\n"
          ],
          "name": "stdout"
        }
      ]
    },
    {
      "metadata": {
        "id": "shSgvvijqz-4",
        "colab_type": "code",
        "colab": {
          "autoexec": {
            "startup": false,
            "wait_interval": 0
          },
          "base_uri": "https://localhost:8080/",
          "height": 51
        },
        "outputId": "8127c342-5750-4f35-e15f-4147fb67f26e",
        "executionInfo": {
          "status": "ok",
          "timestamp": 1531597706494,
          "user_tz": 300,
          "elapsed": 5010,
          "user": {
            "displayName": "GRISELA ALEXANDRA PINZON APONTE",
            "photoUrl": "https://lh3.googleusercontent.com/a/default-user=s128",
            "userId": "105630513318907034713"
          }
        }
      },
      "cell_type": "code",
      "source": [
        "!mkdir -p drive\n",
        "!google-drive-ocamlfuse drive"
      ],
      "execution_count": 6,
      "outputs": [
        {
          "output_type": "stream",
          "text": [
            "fuse: mountpoint is not empty\r\n",
            "fuse: if you are sure this is safe, use the 'nonempty' mount option\r\n"
          ],
          "name": "stdout"
        }
      ]
    },
    {
      "metadata": {
        "id": "bujfy38Rq8jt",
        "colab_type": "code",
        "colab": {
          "autoexec": {
            "startup": false,
            "wait_interval": 0
          },
          "base_uri": "https://localhost:8080/",
          "height": 51
        },
        "outputId": "50963ae5-326c-4443-b28a-b04f24071321",
        "executionInfo": {
          "status": "ok",
          "timestamp": 1531597710637,
          "user_tz": 300,
          "elapsed": 1440,
          "user": {
            "displayName": "GRISELA ALEXANDRA PINZON APONTE",
            "photoUrl": "https://lh3.googleusercontent.com/a/default-user=s128",
            "userId": "105630513318907034713"
          }
        }
      },
      "cell_type": "code",
      "source": [
        "print('cifar-10-python_trainingbatch1_test.tar.gz:')\n",
        "!ls drive/cifar-10-python_trainingbatch1_test.tar.gz"
      ],
      "execution_count": 7,
      "outputs": [
        {
          "output_type": "stream",
          "text": [
            "cifar-10-python_trainingbatch1_test.tar.gz:\n",
            "drive/cifar-10-python_trainingbatch1_test.tar.gz\n"
          ],
          "name": "stdout"
        }
      ]
    },
    {
      "metadata": {
        "id": "IETuo47ip3eb",
        "colab_type": "code",
        "colab": {
          "autoexec": {
            "startup": false,
            "wait_interval": 0
          }
        }
      },
      "cell_type": "code",
      "source": [
        "# Only the first training batch and testing  # File is 58MB\n",
        "import tarfile\n",
        "from six.moves import cPickle\n",
        "\n",
        "# Use local copy of the cifar-10 database\n",
        "data_tar = tarfile.open('drive/cifar-10-python_trainingbatch1_test.tar.gz')\n",
        "\n",
        "def extract_xy(member, data_tar):\n",
        "    d = cPickle.load(data_tar.extractfile(member), encoding='bytes')\n",
        "    d_decoded = {}\n",
        "    for k, v in d.items():\n",
        "        d_decoded[k.decode('utf8')] = v\n",
        "    d = d_decoded\n",
        "    X = d['data']\n",
        "    X = X.reshape(X.shape[0], 3, 32, 32)\n",
        "    y = d['labels']\n",
        "    return X.transpose(0, 2, 3, 1), np.reshape(y, (len(y), 1))\n",
        "\n",
        "X_train, y_train = extract_xy('cifar-10-batches-py/data_batch_1', data_tar)\n",
        "X_test, y_test = extract_xy('cifar-10-batches-py/test_batch', data_tar)\n"
      ],
      "execution_count": 0,
      "outputs": []
    },
    {
      "metadata": {
        "id": "ljuLeO4Xp3ef",
        "colab_type": "code",
        "colab": {
          "autoexec": {
            "startup": false,
            "wait_interval": 0
          },
          "base_uri": "https://localhost:8080/",
          "height": 34
        },
        "outputId": "386f5a98-cf0e-4178-fdc6-80c2a55f8750",
        "executionInfo": {
          "status": "ok",
          "timestamp": 1531597725948,
          "user_tz": 300,
          "elapsed": 364,
          "user": {
            "displayName": "GRISELA ALEXANDRA PINZON APONTE",
            "photoUrl": "https://lh3.googleusercontent.com/a/default-user=s128",
            "userId": "105630513318907034713"
          }
        }
      },
      "cell_type": "code",
      "source": [
        "X_train.shape, X_test.shape"
      ],
      "execution_count": 9,
      "outputs": [
        {
          "output_type": "execute_result",
          "data": {
            "text/plain": [
              "((10000, 32, 32, 3), (10000, 32, 32, 3))"
            ]
          },
          "metadata": {
            "tags": []
          },
          "execution_count": 9
        }
      ]
    },
    {
      "metadata": {
        "id": "6iz5bXjFp3en",
        "colab_type": "code",
        "colab": {
          "autoexec": {
            "startup": false,
            "wait_interval": 0
          }
        }
      },
      "cell_type": "code",
      "source": [
        "nb_classes = y_train.max() + 1\n",
        "Y_train = np_utils.to_categorical(y_train, nb_classes)\n",
        "Y_test = np_utils.to_categorical(y_test, nb_classes)\n",
        "X_train = X_train.astype(\"float32\")\n",
        "X_test = X_test.astype(\"float32\")\n",
        "X_train /= 255\n",
        "X_test /= 255"
      ],
      "execution_count": 0,
      "outputs": []
    },
    {
      "metadata": {
        "id": "BRITBndkp3er",
        "colab_type": "code",
        "colab": {
          "autoexec": {
            "startup": false,
            "wait_interval": 0
          }
        }
      },
      "cell_type": "code",
      "source": [
        "labels = ['airplane', 'automobile','bird', 'cat', 'deer', 'dog', 'frog', 'horse', 'ship','truck']"
      ],
      "execution_count": 0,
      "outputs": []
    },
    {
      "metadata": {
        "id": "JWYbTMSgp3ew",
        "colab_type": "code",
        "colab": {
          "autoexec": {
            "startup": false,
            "wait_interval": 0
          },
          "base_uri": "https://localhost:8080/",
          "height": 34
        },
        "outputId": "51bd5ab9-29a0-4406-f0dd-b0dc0ae11646",
        "executionInfo": {
          "status": "ok",
          "timestamp": 1531597733444,
          "user_tz": 300,
          "elapsed": 401,
          "user": {
            "displayName": "GRISELA ALEXANDRA PINZON APONTE",
            "photoUrl": "https://lh3.googleusercontent.com/a/default-user=s128",
            "userId": "105630513318907034713"
          }
        }
      },
      "cell_type": "code",
      "source": [
        "X_train[0].shape"
      ],
      "execution_count": 12,
      "outputs": [
        {
          "output_type": "execute_result",
          "data": {
            "text/plain": [
              "(32, 32, 3)"
            ]
          },
          "metadata": {
            "tags": []
          },
          "execution_count": 12
        }
      ]
    },
    {
      "metadata": {
        "id": "WM6upKoIp3e0",
        "colab_type": "code",
        "colab": {
          "autoexec": {
            "startup": false,
            "wait_interval": 0
          },
          "base_uri": "https://localhost:8080/",
          "height": 34
        },
        "outputId": "8f741929-9833-45c1-8450-083ec6815d9c",
        "executionInfo": {
          "status": "ok",
          "timestamp": 1531597735100,
          "user_tz": 300,
          "elapsed": 579,
          "user": {
            "displayName": "GRISELA ALEXANDRA PINZON APONTE",
            "photoUrl": "https://lh3.googleusercontent.com/a/default-user=s128",
            "userId": "105630513318907034713"
          }
        }
      },
      "cell_type": "code",
      "source": [
        "y_train[0]"
      ],
      "execution_count": 13,
      "outputs": [
        {
          "output_type": "execute_result",
          "data": {
            "text/plain": [
              "array([6])"
            ]
          },
          "metadata": {
            "tags": []
          },
          "execution_count": 13
        }
      ]
    },
    {
      "metadata": {
        "id": "D7lgXKgYp3e6",
        "colab_type": "code",
        "colab": {
          "autoexec": {
            "startup": false,
            "wait_interval": 0
          },
          "base_uri": "https://localhost:8080/",
          "height": 34
        },
        "outputId": "073e8ce3-fd88-414a-e6d2-12c212d528af",
        "executionInfo": {
          "status": "ok",
          "timestamp": 1531597736393,
          "user_tz": 300,
          "elapsed": 580,
          "user": {
            "displayName": "GRISELA ALEXANDRA PINZON APONTE",
            "photoUrl": "https://lh3.googleusercontent.com/a/default-user=s128",
            "userId": "105630513318907034713"
          }
        }
      },
      "cell_type": "code",
      "source": [
        "Y_train[0]"
      ],
      "execution_count": 14,
      "outputs": [
        {
          "output_type": "execute_result",
          "data": {
            "text/plain": [
              "array([0., 0., 0., 0., 0., 0., 1., 0., 0., 0.], dtype=float32)"
            ]
          },
          "metadata": {
            "tags": []
          },
          "execution_count": 14
        }
      ]
    },
    {
      "metadata": {
        "id": "Dt63kBHQp3e_",
        "colab_type": "code",
        "colab": {
          "autoexec": {
            "startup": false,
            "wait_interval": 0
          },
          "base_uri": "https://localhost:8080/",
          "height": 627
        },
        "outputId": "93bef596-f7b7-4f1d-bd68-ec394409dfd9",
        "executionInfo": {
          "status": "ok",
          "timestamp": 1531597739403,
          "user_tz": 300,
          "elapsed": 1144,
          "user": {
            "displayName": "GRISELA ALEXANDRA PINZON APONTE",
            "photoUrl": "https://lh3.googleusercontent.com/a/default-user=s128",
            "userId": "105630513318907034713"
          }
        }
      },
      "cell_type": "code",
      "source": [
        "# Select one image per y\n",
        "images = [np.nonzero(Y_train[:,i] == 1)[0][0] for i in range(nb_classes)]\n",
        "\n",
        "# Plot all images\n",
        "fig, ax = plt.subplots(4,3, figsize=(10,10))\n",
        "ax = ax.reshape(12)\n",
        "for i in range(nb_classes):\n",
        "    ax[i].imshow(X_train[images[i]])\n",
        "    ax[i].set_title(labels[y_train[images[i]][0]])\n",
        "    ax[i].axis('off')\n",
        "\n",
        "ax[-1].axis('off')\n",
        "ax[-2].axis('off')\n",
        "plt.show()"
      ],
      "execution_count": 15,
      "outputs": [
        {
          "output_type": "display_data",
          "data": {
            "image/png": "[encoded data removed]",
            "text/plain": [
              "<matplotlib.figure.Figure at 0x7f555db084a8>"
            ]
          },
          "metadata": {
            "tags": []
          }
        }
      ]
    },
    {
      "metadata": {
        "id": "dweIBxHPp3fD",
        "colab_type": "text"
      },
      "cell_type": "markdown",
      "source": [
        "# Exercise 08.1\n",
        "\n",
        "Train a Softmax regression using keras\n",
        "Optimized using rmsprop using as loss categorical_crossentropy\n",
        "\n",
        "Hints: \n",
        "- test with two iterations then try more. \n",
        "- learning can be ajusted\n",
        "\n",
        "Evaluate the performance using the testing set (aprox 31% with 50 epochs)"
      ]
    },
    {
      "metadata": {
        "id": "eO_S0cFVp3fD",
        "colab_type": "code",
        "colab": {
          "autoexec": {
            "startup": false,
            "wait_interval": 0
          }
        }
      },
      "cell_type": "code",
      "source": [
        "from keras.models import Sequential\n",
        "from keras.layers import Dense, Dropout, Activation, Flatten, Lambda\n",
        "from keras.layers import Conv2D, MaxPooling2D\n",
        "from keras import backend as K\n",
        "from keras.optimizers import SGD"
      ],
      "execution_count": 0,
      "outputs": []
    },
    {
      "metadata": {
        "id": "7MTxXg-_p3fL",
        "colab_type": "code",
        "colab": {
          "autoexec": {
            "startup": false,
            "wait_interval": 0
          }
        }
      },
      "cell_type": "code",
      "source": [
        "model = Sequential()\n",
        "\n",
        "model.add(Flatten(input_shape= (32, 32, 3)))\n",
        "model.add(Dense(units=10))\n",
        "model.add(Lambda(lambda x:K.tf.nn.softmax(x)))\n"
      ],
      "execution_count": 0,
      "outputs": []
    },
    {
      "metadata": {
        "id": "mIGXs8dtp3fO",
        "colab_type": "code",
        "colab": {
          "autoexec": {
            "startup": false,
            "wait_interval": 0
          },
          "base_uri": "https://localhost:8080/",
          "height": 238
        },
        "outputId": "59a464d0-681f-4f18-835b-e6044fe1c4d3",
        "executionInfo": {
          "status": "ok",
          "timestamp": 1531597838619,
          "user_tz": 300,
          "elapsed": 413,
          "user": {
            "displayName": "GRISELA ALEXANDRA PINZON APONTE",
            "photoUrl": "https://lh3.googleusercontent.com/a/default-user=s128",
            "userId": "105630513318907034713"
          }
        }
      },
      "cell_type": "code",
      "source": [
        "model.summary()"
      ],
      "execution_count": 23,
      "outputs": [
        {
          "output_type": "stream",
          "text": [
            "_________________________________________________________________\n",
            "Layer (type)                 Output Shape              Param #   \n",
            "=================================================================\n",
            "flatten_3 (Flatten)          (None, 3072)              0         \n",
            "_________________________________________________________________\n",
            "dense_3 (Dense)              (None, 10)                30730     \n",
            "_________________________________________________________________\n",
            "lambda_3 (Lambda)            (None, 10)                0         \n",
            "=================================================================\n",
            "Total params: 30,730\n",
            "Trainable params: 30,730\n",
            "Non-trainable params: 0\n",
            "_________________________________________________________________\n"
          ],
          "name": "stdout"
        }
      ]
    },
    {
      "metadata": {
        "id": "3DBEa2YJp3fU",
        "colab_type": "code",
        "colab": {
          "autoexec": {
            "startup": false,
            "wait_interval": 0
          }
        }
      },
      "cell_type": "code",
      "source": [
        "model.compile(loss='categorical_crossentropy',\n",
        "              optimizer=SGD(),\n",
        "              #optimizer='rmsprop',\n",
        "              metrics=['accuracy'])"
      ],
      "execution_count": 0,
      "outputs": []
    },
    {
      "metadata": {
        "id": "dOpqEPCep3fa",
        "colab_type": "code",
        "colab": {
          "autoexec": {
            "startup": false,
            "wait_interval": 0
          },
          "base_uri": "https://localhost:8080/",
          "height": 374
        },
        "outputId": "9b442479-c951-4307-bb86-3a92efdf24d8",
        "executionInfo": {
          "status": "ok",
          "timestamp": 1531605659048,
          "user_tz": 300,
          "elapsed": 10788,
          "user": {
            "displayName": "GRISELA ALEXANDRA PINZON APONTE",
            "photoUrl": "https://lh3.googleusercontent.com/a/default-user=s128",
            "userId": "105630513318907034713"
          }
        }
      },
      "cell_type": "code",
      "source": [
        "model.fit(X_train, Y_train, epochs=10, verbose=2)"
      ],
      "execution_count": 102,
      "outputs": [
        {
          "output_type": "stream",
          "text": [
            "Epoch 1/10\n",
            " - 1s - loss: 1.5930 - acc: 0.4530\n",
            "Epoch 2/10\n",
            " - 1s - loss: 1.5918 - acc: 0.4485\n",
            "Epoch 3/10\n",
            " - 1s - loss: 1.5928 - acc: 0.4500\n",
            "Epoch 4/10\n",
            " - 1s - loss: 1.5925 - acc: 0.4519\n",
            "Epoch 5/10\n",
            " - 1s - loss: 1.5883 - acc: 0.4591\n",
            "Epoch 6/10\n",
            " - 1s - loss: 1.5819 - acc: 0.4591\n",
            "Epoch 7/10\n",
            " - 1s - loss: 1.5884 - acc: 0.4572\n",
            "Epoch 8/10\n",
            " - 1s - loss: 1.5908 - acc: 0.4523\n",
            "Epoch 9/10\n",
            " - 1s - loss: 1.5795 - acc: 0.4590\n",
            "Epoch 10/10\n",
            " - 1s - loss: 1.5771 - acc: 0.4572\n"
          ],
          "name": "stdout"
        },
        {
          "output_type": "execute_result",
          "data": {
            "text/plain": [
              "<keras.callbacks.History at 0x7f5540722c50>"
            ]
          },
          "metadata": {
            "tags": []
          },
          "execution_count": 102
        }
      ]
    },
    {
      "metadata": {
        "id": "uaE6-jDRp3ff",
        "colab_type": "code",
        "colab": {
          "autoexec": {
            "startup": false,
            "wait_interval": 0
          },
          "base_uri": "https://localhost:8080/",
          "height": 68
        },
        "outputId": "c8d4f566-6579-45c4-da0e-c48de7cace4a",
        "executionInfo": {
          "status": "ok",
          "timestamp": 1531599996876,
          "user_tz": 300,
          "elapsed": 729,
          "user": {
            "displayName": "GRISELA ALEXANDRA PINZON APONTE",
            "photoUrl": "https://lh3.googleusercontent.com/a/default-user=s128",
            "userId": "105630513318907034713"
          }
        }
      },
      "cell_type": "code",
      "source": [
        "score_model1= model.evaluate(X_test, Y_test)\n",
        "print('Test score model:', score_model1[0])\n",
        "print('Test accuracy model:', score_model1[1])"
      ],
      "execution_count": 42,
      "outputs": [
        {
          "output_type": "stream",
          "text": [
            "10000/10000 [==============================] - 0s 43us/step\n",
            "Test score model: 1.8145821069717407\n",
            "Test accuracy model: 0.3636\n"
          ],
          "name": "stdout"
        }
      ]
    },
    {
      "metadata": {
        "id": "rUdzNL8vp3fl",
        "colab_type": "text"
      },
      "cell_type": "markdown",
      "source": [
        "# Exercise 08.2\n",
        "\n",
        "Train a Deep Neural Network with the following architecture:\n",
        "\n",
        "- Input = Image (32, 32, 3)\n",
        "- Conv2d(32, (3,3), padding='same')\n",
        "- Relu Activation\n",
        "- MaxPooling2D (2,2)\n",
        "- Dropout(0.5)\n",
        "- Flattern\n",
        "- Dense(10, Softmax)\n",
        "\n",
        "Optimized using rmsprop using as loss categorical_crossentropy\n",
        "\n",
        "Hints: \n",
        "- test with two iterations then try more. \n",
        "- learning can be ajusted\n",
        "\n",
        "Evaluate the performance using the testing set (aprox 55% with 50 epochs)"
      ]
    },
    {
      "metadata": {
        "id": "u80u6uypp3fm",
        "colab_type": "code",
        "colab": {
          "autoexec": {
            "startup": false,
            "wait_interval": 0
          }
        }
      },
      "cell_type": "code",
      "source": [
        "model_2 = Sequential()\n",
        "model_2.add(Conv2D(32, (3,3), padding='same',input_shape= (32, 32, 3)))\n",
        "model_2.add(Activation('relu'))\n",
        "model_2.add(MaxPooling2D(2,2))\n",
        "model_2.add(Dropout(0.5))\n",
        "model_2.add(Flatten())\n",
        "model_2.add(Dense(units=10))\n",
        "model_2.add(Lambda(lambda x:K.tf.nn.softmax(x)))\n"
      ],
      "execution_count": 0,
      "outputs": []
    },
    {
      "metadata": {
        "id": "gm9BMXZ7p3fo",
        "colab_type": "code",
        "colab": {
          "autoexec": {
            "startup": false,
            "wait_interval": 0
          },
          "base_uri": "https://localhost:8080/",
          "height": 374
        },
        "outputId": "83ef0f24-f6f4-4c3a-8235-cad5e2ce6118",
        "executionInfo": {
          "status": "ok",
          "timestamp": 1531597900539,
          "user_tz": 300,
          "elapsed": 400,
          "user": {
            "displayName": "GRISELA ALEXANDRA PINZON APONTE",
            "photoUrl": "https://lh3.googleusercontent.com/a/default-user=s128",
            "userId": "105630513318907034713"
          }
        }
      },
      "cell_type": "code",
      "source": [
        "model_2.summary()"
      ],
      "execution_count": 28,
      "outputs": [
        {
          "output_type": "stream",
          "text": [
            "_________________________________________________________________\n",
            "Layer (type)                 Output Shape              Param #   \n",
            "=================================================================\n",
            "conv2d_1 (Conv2D)            (None, 32, 32, 32)        896       \n",
            "_________________________________________________________________\n",
            "activation_1 (Activation)    (None, 32, 32, 32)        0         \n",
            "_________________________________________________________________\n",
            "max_pooling2d_1 (MaxPooling2 (None, 16, 16, 32)        0         \n",
            "_________________________________________________________________\n",
            "dropout_1 (Dropout)          (None, 16, 16, 32)        0         \n",
            "_________________________________________________________________\n",
            "flatten_4 (Flatten)          (None, 8192)              0         \n",
            "_________________________________________________________________\n",
            "dense_4 (Dense)              (None, 10)                81930     \n",
            "_________________________________________________________________\n",
            "lambda_4 (Lambda)            (None, 10)                0         \n",
            "=================================================================\n",
            "Total params: 82,826\n",
            "Trainable params: 82,826\n",
            "Non-trainable params: 0\n",
            "_________________________________________________________________\n"
          ],
          "name": "stdout"
        }
      ]
    },
    {
      "metadata": {
        "id": "7OPKYcN_p3fs",
        "colab_type": "code",
        "colab": {
          "autoexec": {
            "startup": false,
            "wait_interval": 0
          }
        }
      },
      "cell_type": "code",
      "source": [
        "model_2.compile(loss='categorical_crossentropy',\n",
        "              #optimizer=SGD(),\n",
        "              optimizer='rmsprop',\n",
        "              metrics=['accuracy'])"
      ],
      "execution_count": 0,
      "outputs": []
    },
    {
      "metadata": {
        "id": "weUsL0Sdp3fw",
        "colab_type": "code",
        "colab": {
          "autoexec": {
            "startup": false,
            "wait_interval": 0
          },
          "base_uri": "https://localhost:8080/",
          "height": 374
        },
        "outputId": "75aeaf99-0ea8-4f94-f634-b91f6ee86ace",
        "executionInfo": {
          "status": "ok",
          "timestamp": 1531605790896,
          "user_tz": 300,
          "elapsed": 112410,
          "user": {
            "displayName": "GRISELA ALEXANDRA PINZON APONTE",
            "photoUrl": "https://lh3.googleusercontent.com/a/default-user=s128",
            "userId": "105630513318907034713"
          }
        }
      },
      "cell_type": "code",
      "source": [
        "model_2.fit(X_train, Y_train, epochs=10, verbose=2)"
      ],
      "execution_count": 103,
      "outputs": [
        {
          "output_type": "stream",
          "text": [
            "Epoch 1/10\n",
            " - 10s - loss: 0.7571 - acc: 0.7401\n",
            "Epoch 2/10\n",
            " - 11s - loss: 0.7471 - acc: 0.7385\n",
            "Epoch 3/10\n",
            " - 11s - loss: 0.7408 - acc: 0.7487\n",
            "Epoch 4/10\n",
            " - 11s - loss: 0.7409 - acc: 0.7468\n",
            "Epoch 5/10\n",
            " - 11s - loss: 0.7343 - acc: 0.7462\n",
            "Epoch 6/10\n",
            " - 11s - loss: 0.7367 - acc: 0.7510\n",
            "Epoch 7/10\n",
            " - 11s - loss: 0.7366 - acc: 0.7457\n",
            "Epoch 8/10\n",
            " - 11s - loss: 0.7442 - acc: 0.7486\n",
            "Epoch 9/10\n",
            " - 12s - loss: 0.7363 - acc: 0.7491\n",
            "Epoch 10/10\n",
            " - 11s - loss: 0.7181 - acc: 0.7515\n"
          ],
          "name": "stdout"
        },
        {
          "output_type": "execute_result",
          "data": {
            "text/plain": [
              "<keras.callbacks.History at 0x7f554245da58>"
            ]
          },
          "metadata": {
            "tags": []
          },
          "execution_count": 103
        }
      ]
    },
    {
      "metadata": {
        "id": "jsbTCNSIp3fz",
        "colab_type": "code",
        "colab": {
          "autoexec": {
            "startup": false,
            "wait_interval": 0
          },
          "base_uri": "https://localhost:8080/",
          "height": 68
        },
        "outputId": "a44482c6-db74-457f-f4a9-94bb6563bcda",
        "executionInfo": {
          "status": "ok",
          "timestamp": 1531599909109,
          "user_tz": 300,
          "elapsed": 4722,
          "user": {
            "displayName": "GRISELA ALEXANDRA PINZON APONTE",
            "photoUrl": "https://lh3.googleusercontent.com/a/default-user=s128",
            "userId": "105630513318907034713"
          }
        }
      },
      "cell_type": "code",
      "source": [
        "score_model2= model_2.evaluate(X_test, Y_test)\n",
        "print('Test score model2:', score_model2[0])\n",
        "print('Test accuracy model 2:', score_model2[1])"
      ],
      "execution_count": 39,
      "outputs": [
        {
          "output_type": "stream",
          "text": [
            "10000/10000 [==============================] - 4s 447us/step\n",
            "Test score model2: 1.3584555904388427\n",
            "Test accuracy model 2: 0.5841\n"
          ],
          "name": "stdout"
        }
      ]
    },
    {
      "metadata": {
        "id": "xOnUwzDfp3f4",
        "colab_type": "text"
      },
      "cell_type": "markdown",
      "source": [
        "# Exercise 08.3\n",
        "\n",
        "Use the last layer of VGG16 as the input to a neural network with softmax output\n",
        "\n",
        "- Input = Image (32, 32, 3)\n",
        "- VGG16 \n",
        "- Flattern\n",
        "- Dense(512, Softmax)\n",
        "- Dropout(0.5)\n",
        "- Dense(10, Softmax)\n",
        "\n",
        "Optimized using rmsprop using as loss categorical_crossentropy\n",
        "\n",
        "Hints: \n",
        "- test with two iterations then try more. \n",
        "- learning can be ajusted\n",
        "\n",
        "Evaluate the performance using the testing set (aprox 57% with 50 epochs)"
      ]
    },
    {
      "metadata": {
        "id": "62Q9XPwJeJzE",
        "colab_type": "text"
      },
      "cell_type": "markdown",
      "source": [
        "#Probando VGG16"
      ]
    },
    {
      "metadata": {
        "id": "0_qJwiFj9Q_G",
        "colab_type": "code",
        "colab": {
          "autoexec": {
            "startup": false,
            "wait_interval": 0
          }
        }
      },
      "cell_type": "code",
      "source": [
        "from keras.applications.vgg16 import VGG16\n",
        "model_vgg16 = VGG16(weights='imagenet', include_top=False)"
      ],
      "execution_count": 0,
      "outputs": []
    },
    {
      "metadata": {
        "id": "hr2eT0cJ9UwO",
        "colab_type": "code",
        "colab": {
          "autoexec": {
            "startup": false,
            "wait_interval": 0
          }
        }
      },
      "cell_type": "code",
      "source": [
        "new_x_train = model_vgg16.predict(X_train)"
      ],
      "execution_count": 0,
      "outputs": []
    },
    {
      "metadata": {
        "id": "mN4wdFCH94ci",
        "colab_type": "code",
        "colab": {
          "autoexec": {
            "startup": false,
            "wait_interval": 0
          },
          "base_uri": "https://localhost:8080/",
          "height": 34
        },
        "outputId": "e2a779f6-d2ae-4d70-e31d-3da10d75685e",
        "executionInfo": {
          "status": "ok",
          "timestamp": 1531599738366,
          "user_tz": 300,
          "elapsed": 368,
          "user": {
            "displayName": "GRISELA ALEXANDRA PINZON APONTE",
            "photoUrl": "https://lh3.googleusercontent.com/a/default-user=s128",
            "userId": "105630513318907034713"
          }
        }
      },
      "cell_type": "code",
      "source": [
        "  new_x_train.shape"
      ],
      "execution_count": 33,
      "outputs": [
        {
          "output_type": "execute_result",
          "data": {
            "text/plain": [
              "(10000, 1, 1, 512)"
            ]
          },
          "metadata": {
            "tags": []
          },
          "execution_count": 33
        }
      ]
    },
    {
      "metadata": {
        "id": "Yxl5YJvY8orL",
        "colab_type": "code",
        "colab": {
          "autoexec": {
            "startup": false,
            "wait_interval": 0
          }
        }
      },
      "cell_type": "code",
      "source": [
        "model_3 = Sequential()\n",
        "model_3.add(Flatten(input_shape= (1, 1, 512)))\n",
        "model_3.add(Dense(512))\n",
        "model_3.add(Lambda(lambda x:K.tf.nn.softmax(x)))\n",
        "model_3.add(Dropout(0.5))\n",
        "model_3.add(Dense(10))\n",
        "model_3.add(Lambda(lambda x:K.tf.nn.softmax(x)))\n",
        "\n"
      ],
      "execution_count": 0,
      "outputs": []
    },
    {
      "metadata": {
        "id": "yibn5QAQAK2V",
        "colab_type": "code",
        "colab": {
          "autoexec": {
            "startup": false,
            "wait_interval": 0
          },
          "base_uri": "https://localhost:8080/",
          "height": 340
        },
        "outputId": "e0d2857f-0ceb-4159-f64e-be86fe5d4570",
        "executionInfo": {
          "status": "ok",
          "timestamp": 1531599742945,
          "user_tz": 300,
          "elapsed": 386,
          "user": {
            "displayName": "GRISELA ALEXANDRA PINZON APONTE",
            "photoUrl": "https://lh3.googleusercontent.com/a/default-user=s128",
            "userId": "105630513318907034713"
          }
        }
      },
      "cell_type": "code",
      "source": [
        "model_3.summary()"
      ],
      "execution_count": 35,
      "outputs": [
        {
          "output_type": "stream",
          "text": [
            "_________________________________________________________________\n",
            "Layer (type)                 Output Shape              Param #   \n",
            "=================================================================\n",
            "flatten_5 (Flatten)          (None, 512)               0         \n",
            "_________________________________________________________________\n",
            "dense_5 (Dense)              (None, 512)               262656    \n",
            "_________________________________________________________________\n",
            "lambda_5 (Lambda)            (None, 512)               0         \n",
            "_________________________________________________________________\n",
            "dropout_2 (Dropout)          (None, 512)               0         \n",
            "_________________________________________________________________\n",
            "dense_6 (Dense)              (None, 10)                5130      \n",
            "_________________________________________________________________\n",
            "lambda_6 (Lambda)            (None, 10)                0         \n",
            "=================================================================\n",
            "Total params: 267,786\n",
            "Trainable params: 267,786\n",
            "Non-trainable params: 0\n",
            "_________________________________________________________________\n"
          ],
          "name": "stdout"
        }
      ]
    },
    {
      "metadata": {
        "id": "ENhXu8w8-jNh",
        "colab_type": "code",
        "colab": {
          "autoexec": {
            "startup": false,
            "wait_interval": 0
          }
        }
      },
      "cell_type": "code",
      "source": [
        "model_3.compile(loss='categorical_crossentropy',\n",
        "              #optimizer=SGD(),\n",
        "              optimizer='rmsprop',\n",
        "              metrics=['accuracy'])"
      ],
      "execution_count": 0,
      "outputs": []
    },
    {
      "metadata": {
        "id": "7J2CXwNV-tdf",
        "colab_type": "code",
        "colab": {
          "autoexec": {
            "startup": false,
            "wait_interval": 0
          },
          "base_uri": "https://localhost:8080/",
          "height": 374
        },
        "outputId": "42329c80-be4c-4f3e-c151-8ab042fac201",
        "executionInfo": {
          "status": "ok",
          "timestamp": 1531599765997,
          "user_tz": 300,
          "elapsed": 18256,
          "user": {
            "displayName": "GRISELA ALEXANDRA PINZON APONTE",
            "photoUrl": "https://lh3.googleusercontent.com/a/default-user=s128",
            "userId": "105630513318907034713"
          }
        }
      },
      "cell_type": "code",
      "source": [
        "model_3.fit(new_x_train, Y_train, epochs=10, verbose=2)"
      ],
      "execution_count": 37,
      "outputs": [
        {
          "output_type": "stream",
          "text": [
            "Epoch 1/10\n",
            " - 2s - loss: 2.2582 - acc: 0.2074\n",
            "Epoch 2/10\n",
            " - 2s - loss: 2.1705 - acc: 0.2620\n",
            "Epoch 3/10\n",
            " - 2s - loss: 2.0938 - acc: 0.3077\n",
            "Epoch 4/10\n",
            " - 2s - loss: 2.0140 - acc: 0.3414\n",
            "Epoch 5/10\n",
            " - 2s - loss: 1.9498 - acc: 0.3642\n",
            "Epoch 6/10\n",
            " - 2s - loss: 1.8935 - acc: 0.3880\n",
            "Epoch 7/10\n",
            " - 2s - loss: 1.8468 - acc: 0.3936\n",
            "Epoch 8/10\n",
            " - 2s - loss: 1.8048 - acc: 0.4124\n",
            "Epoch 9/10\n",
            " - 2s - loss: 1.7545 - acc: 0.4260\n",
            "Epoch 10/10\n",
            " - 2s - loss: 1.7301 - acc: 0.4367\n"
          ],
          "name": "stdout"
        },
        {
          "output_type": "execute_result",
          "data": {
            "text/plain": [
              "<keras.callbacks.History at 0x7f5557dc2390>"
            ]
          },
          "metadata": {
            "tags": []
          },
          "execution_count": 37
        }
      ]
    },
    {
      "metadata": {
        "id": "9INEPpux-4HN",
        "colab_type": "code",
        "colab": {
          "autoexec": {
            "startup": false,
            "wait_interval": 0
          }
        }
      },
      "cell_type": "code",
      "source": [
        "new_x_test = model_vgg16.predict(X_test)"
      ],
      "execution_count": 0,
      "outputs": []
    },
    {
      "metadata": {
        "id": "CII-cjKg-_4r",
        "colab_type": "code",
        "colab": {
          "autoexec": {
            "startup": false,
            "wait_interval": 0
          },
          "base_uri": "https://localhost:8080/",
          "height": 68
        },
        "outputId": "89f2cbef-8784-4543-852f-0936b62b5d96",
        "executionInfo": {
          "status": "ok",
          "timestamp": 1531600154638,
          "user_tz": 300,
          "elapsed": 851,
          "user": {
            "displayName": "GRISELA ALEXANDRA PINZON APONTE",
            "photoUrl": "https://lh3.googleusercontent.com/a/default-user=s128",
            "userId": "105630513318907034713"
          }
        }
      },
      "cell_type": "code",
      "source": [
        "score_VGG16 = model_3.evaluate(new_x_test, Y_test)\n",
        "print('Test score VGG16:', score_VGG16[0])\n",
        "print('Test accuracy VVG16:', score_VGG16[1])"
      ],
      "execution_count": 43,
      "outputs": [
        {
          "output_type": "stream",
          "text": [
            "10000/10000 [==============================] - 1s 61us/step\n",
            "Test score VGG16: 1.656557464981079\n",
            "Test accuracy VVG16: 0.4827\n"
          ],
          "name": "stdout"
        }
      ]
    },
    {
      "metadata": {
        "id": "o7oSV4nqp3gG",
        "colab_type": "text"
      },
      "cell_type": "markdown",
      "source": [
        "# Exercise *08.4 (Bonus)\n",
        "\n",
        "Test a different pre-train algorithm (https://keras.io/applications/#usage-examples-for-image-classification-models) "
      ]
    },
    {
      "metadata": {
        "id": "8bWXyxRpDpBg",
        "colab_type": "text"
      },
      "cell_type": "markdown",
      "source": [
        "#Probando MobileNet"
      ]
    },
    {
      "metadata": {
        "id": "oJhfwX3PAQcM",
        "colab_type": "code",
        "colab": {
          "autoexec": {
            "startup": false,
            "wait_interval": 0
          },
          "base_uri": "https://localhost:8080/",
          "height": 171
        },
        "outputId": "0b1dba38-5268-4466-a852-63f6b04e6c42",
        "executionInfo": {
          "status": "ok",
          "timestamp": 1531600169879,
          "user_tz": 300,
          "elapsed": 4774,
          "user": {
            "displayName": "GRISELA ALEXANDRA PINZON APONTE",
            "photoUrl": "https://lh3.googleusercontent.com/a/default-user=s128",
            "userId": "105630513318907034713"
          }
        }
      },
      "cell_type": "code",
      "source": [
        "from keras.applications.mobilenet import MobileNet\n",
        "model_MN = MobileNet(weights='imagenet', include_top=False)"
      ],
      "execution_count": 44,
      "outputs": [
        {
          "output_type": "stream",
          "text": [
            "/usr/local/lib/python3.6/dist-packages/keras/applications/mobilenet.py:224: UserWarning: MobileNet shape is undefined. Weights for input shape (224, 224) will be loaded.\n",
            "  warnings.warn('MobileNet shape is undefined.'\n"
          ],
          "name": "stderr"
        }
      ]
    },
    {
      "metadata": {
        "id": "UTNbr1IzAV2m",
        "colab_type": "code",
        "colab": {
          "autoexec": {
            "startup": false,
            "wait_interval": 0
          }
        }
      },
      "cell_type": "code",
      "source": [
        "MN_x_train = model_MN.predict(X_train)"
      ],
      "execution_count": 0,
      "outputs": []
    },
    {
      "metadata": {
        "id": "kghnvxP0AZ2-",
        "colab_type": "code",
        "colab": {
          "autoexec": {
            "startup": false,
            "wait_interval": 0
          },
          "base_uri": "https://localhost:8080/",
          "height": 34
        },
        "outputId": "c55b2745-54e3-461a-890a-3558b580832c",
        "executionInfo": {
          "status": "ok",
          "timestamp": 1531600231570,
          "user_tz": 300,
          "elapsed": 372,
          "user": {
            "displayName": "GRISELA ALEXANDRA PINZON APONTE",
            "photoUrl": "https://lh3.googleusercontent.com/a/default-user=s128",
            "userId": "105630513318907034713"
          }
        }
      },
      "cell_type": "code",
      "source": [
        "MN_x_train.shape"
      ],
      "execution_count": 46,
      "outputs": [
        {
          "output_type": "execute_result",
          "data": {
            "text/plain": [
              "(10000, 1, 1, 1024)"
            ]
          },
          "metadata": {
            "tags": []
          },
          "execution_count": 46
        }
      ]
    },
    {
      "metadata": {
        "id": "YNc9tE1RAcAQ",
        "colab_type": "code",
        "colab": {
          "autoexec": {
            "startup": false,
            "wait_interval": 0
          }
        }
      },
      "cell_type": "code",
      "source": [
        "model_4 = Sequential()\n",
        "model_4.add(Flatten(input_shape= (1, 1, 1024)))\n",
        "model_4.add(Dense(512))\n",
        "model_4.add(Lambda(lambda x:K.tf.nn.softmax(x)))\n",
        "model_4.add(Dropout(0.5))\n",
        "model_4.add(Dense(10))\n",
        "model_4.add(Lambda(lambda x:K.tf.nn.softmax(x)))"
      ],
      "execution_count": 0,
      "outputs": []
    },
    {
      "metadata": {
        "id": "9OHFIjibp3gH",
        "colab_type": "code",
        "colab": {
          "autoexec": {
            "startup": false,
            "wait_interval": 0
          },
          "base_uri": "https://localhost:8080/",
          "height": 340
        },
        "outputId": "2bc66ef4-90b8-49ae-891e-47d4b2b365dd",
        "executionInfo": {
          "status": "ok",
          "timestamp": 1531600236699,
          "user_tz": 300,
          "elapsed": 592,
          "user": {
            "displayName": "GRISELA ALEXANDRA PINZON APONTE",
            "photoUrl": "https://lh3.googleusercontent.com/a/default-user=s128",
            "userId": "105630513318907034713"
          }
        }
      },
      "cell_type": "code",
      "source": [
        "model_4.summary()"
      ],
      "execution_count": 48,
      "outputs": [
        {
          "output_type": "stream",
          "text": [
            "_________________________________________________________________\n",
            "Layer (type)                 Output Shape              Param #   \n",
            "=================================================================\n",
            "flatten_6 (Flatten)          (None, 1024)              0         \n",
            "_________________________________________________________________\n",
            "dense_7 (Dense)              (None, 512)               524800    \n",
            "_________________________________________________________________\n",
            "lambda_7 (Lambda)            (None, 512)               0         \n",
            "_________________________________________________________________\n",
            "dropout_3 (Dropout)          (None, 512)               0         \n",
            "_________________________________________________________________\n",
            "dense_8 (Dense)              (None, 10)                5130      \n",
            "_________________________________________________________________\n",
            "lambda_8 (Lambda)            (None, 10)                0         \n",
            "=================================================================\n",
            "Total params: 529,930\n",
            "Trainable params: 529,930\n",
            "Non-trainable params: 0\n",
            "_________________________________________________________________\n"
          ],
          "name": "stdout"
        }
      ]
    },
    {
      "metadata": {
        "id": "CwaEJZVrp3gJ",
        "colab_type": "code",
        "colab": {
          "autoexec": {
            "startup": false,
            "wait_interval": 0
          }
        }
      },
      "cell_type": "code",
      "source": [
        "model_4.compile(loss='categorical_crossentropy',\n",
        "              #optimizer=SGD(),\n",
        "              optimizer='rmsprop',\n",
        "              metrics=['accuracy'])"
      ],
      "execution_count": 0,
      "outputs": []
    },
    {
      "metadata": {
        "id": "GFhlamWYp3gL",
        "colab_type": "code",
        "colab": {
          "autoexec": {
            "startup": false,
            "wait_interval": 0
          },
          "base_uri": "https://localhost:8080/",
          "height": 374
        },
        "outputId": "68ce865c-11e1-47bc-84fd-3a7537466414",
        "executionInfo": {
          "status": "ok",
          "timestamp": 1531600268701,
          "user_tz": 300,
          "elapsed": 28067,
          "user": {
            "displayName": "GRISELA ALEXANDRA PINZON APONTE",
            "photoUrl": "https://lh3.googleusercontent.com/a/default-user=s128",
            "userId": "105630513318907034713"
          }
        }
      },
      "cell_type": "code",
      "source": [
        "model_4.fit(MN_x_train, Y_train, epochs=10, verbose=2)"
      ],
      "execution_count": 50,
      "outputs": [
        {
          "output_type": "stream",
          "text": [
            "Epoch 1/10\n",
            " - 3s - loss: 2.3026 - acc: 0.0989\n",
            "Epoch 2/10\n",
            " - 3s - loss: 2.3024 - acc: 0.1029\n",
            "Epoch 3/10\n",
            " - 3s - loss: 2.3020 - acc: 0.1035\n",
            "Epoch 4/10\n",
            " - 3s - loss: 2.3013 - acc: 0.1125\n",
            "Epoch 5/10\n",
            " - 3s - loss: 2.3000 - acc: 0.1154\n",
            "Epoch 6/10\n",
            " - 3s - loss: 2.2977 - acc: 0.1244\n",
            "Epoch 7/10\n",
            " - 3s - loss: 2.2948 - acc: 0.1304\n",
            "Epoch 8/10\n",
            " - 3s - loss: 2.2908 - acc: 0.1319\n",
            "Epoch 9/10\n",
            " - 3s - loss: 2.2877 - acc: 0.1341\n",
            "Epoch 10/10\n",
            " - 3s - loss: 2.2847 - acc: 0.1346\n"
          ],
          "name": "stdout"
        },
        {
          "output_type": "execute_result",
          "data": {
            "text/plain": [
              "<keras.callbacks.History at 0x7f555595d358>"
            ]
          },
          "metadata": {
            "tags": []
          },
          "execution_count": 50
        }
      ]
    },
    {
      "metadata": {
        "id": "FMBrbSe8p3gO",
        "colab_type": "code",
        "colab": {
          "autoexec": {
            "startup": false,
            "wait_interval": 0
          }
        }
      },
      "cell_type": "code",
      "source": [
        "new_x_test = model_MN.predict(X_test)"
      ],
      "execution_count": 0,
      "outputs": []
    },
    {
      "metadata": {
        "id": "RKrlPDdlp3gQ",
        "colab_type": "code",
        "colab": {
          "autoexec": {
            "startup": false,
            "wait_interval": 0
          },
          "base_uri": "https://localhost:8080/",
          "height": 68
        },
        "outputId": "d2346235-0f1e-4ce0-e518-cd4f785390d1",
        "executionInfo": {
          "status": "ok",
          "timestamp": 1531601384943,
          "user_tz": 300,
          "elapsed": 996,
          "user": {
            "displayName": "GRISELA ALEXANDRA PINZON APONTE",
            "photoUrl": "https://lh3.googleusercontent.com/a/default-user=s128",
            "userId": "105630513318907034713"
          }
        }
      },
      "cell_type": "code",
      "source": [
        "score_MobileNet = model_4.evaluate(new_x_test, Y_test)\n",
        "print('Test score Mobilnet:', score_MobileNet[0])\n",
        "print('Test accuracy Mobilnet:', score_MobileNet[1])"
      ],
      "execution_count": 81,
      "outputs": [
        {
          "output_type": "stream",
          "text": [
            "10000/10000 [==============================] - 1s 63us/step\n",
            "Test score Mobilnet: 2.28174390335083\n",
            "Test accuracy Mobilnet: 0.1361\n"
          ],
          "name": "stdout"
        }
      ]
    },
    {
      "metadata": {
        "id": "XDnLXn_IDhYd",
        "colab_type": "text"
      },
      "cell_type": "markdown",
      "source": [
        "#Probando VGG19\n",
        "\n"
      ]
    },
    {
      "metadata": {
        "id": "WoE6k90WDj6W",
        "colab_type": "code",
        "colab": {
          "autoexec": {
            "startup": false,
            "wait_interval": 0
          }
        }
      },
      "cell_type": "code",
      "source": [
        "from keras.applications.vgg19 import VGG19\n",
        "model_vgg19 = VGG19(weights='imagenet', include_top=False)"
      ],
      "execution_count": 0,
      "outputs": []
    },
    {
      "metadata": {
        "id": "gnVtzsgMEhj4",
        "colab_type": "code",
        "colab": {
          "autoexec": {
            "startup": false,
            "wait_interval": 0
          }
        }
      },
      "cell_type": "code",
      "source": [
        "VGG19_X_train = model_vgg19.predict(X_train)"
      ],
      "execution_count": 0,
      "outputs": []
    },
    {
      "metadata": {
        "id": "OqRqiFM0EDvp",
        "colab_type": "code",
        "colab": {
          "autoexec": {
            "startup": false,
            "wait_interval": 0
          },
          "base_uri": "https://localhost:8080/",
          "height": 34
        },
        "outputId": "2272c60b-2fd8-415b-cb54-ff82baf13e47",
        "executionInfo": {
          "status": "ok",
          "timestamp": 1531600500652,
          "user_tz": 300,
          "elapsed": 1449,
          "user": {
            "displayName": "GRISELA ALEXANDRA PINZON APONTE",
            "photoUrl": "https://lh3.googleusercontent.com/a/default-user=s128",
            "userId": "105630513318907034713"
          }
        }
      },
      "cell_type": "code",
      "source": [
        "VGG19_X_train.shape"
      ],
      "execution_count": 55,
      "outputs": [
        {
          "output_type": "execute_result",
          "data": {
            "text/plain": [
              "(10000, 1, 1, 512)"
            ]
          },
          "metadata": {
            "tags": []
          },
          "execution_count": 55
        }
      ]
    },
    {
      "metadata": {
        "id": "TAp8l-82Ez5W",
        "colab_type": "code",
        "colab": {
          "autoexec": {
            "startup": false,
            "wait_interval": 0
          }
        }
      },
      "cell_type": "code",
      "source": [
        "model_5 = Sequential()\n",
        "model_5.add(Flatten(input_shape= (1, 1, 512)))\n",
        "model_5.add(Dense(512))\n",
        "model_5.add(Lambda(lambda x:K.tf.nn.softmax(x)))\n",
        "model_5.add(Dropout(0.5))\n",
        "model_5.add(Dense(10))\n",
        "model_5.add(Lambda(lambda x:K.tf.nn.softmax(x)))"
      ],
      "execution_count": 0,
      "outputs": []
    },
    {
      "metadata": {
        "id": "Fq82dKWqE8uX",
        "colab_type": "code",
        "colab": {
          "autoexec": {
            "startup": false,
            "wait_interval": 0
          },
          "base_uri": "https://localhost:8080/",
          "height": 340
        },
        "outputId": "74a8138d-7949-450f-a4f2-e3f4aab4e8f1",
        "executionInfo": {
          "status": "ok",
          "timestamp": 1531600503078,
          "user_tz": 300,
          "elapsed": 401,
          "user": {
            "displayName": "GRISELA ALEXANDRA PINZON APONTE",
            "photoUrl": "https://lh3.googleusercontent.com/a/default-user=s128",
            "userId": "105630513318907034713"
          }
        }
      },
      "cell_type": "code",
      "source": [
        "model_5.summary()"
      ],
      "execution_count": 57,
      "outputs": [
        {
          "output_type": "stream",
          "text": [
            "_________________________________________________________________\n",
            "Layer (type)                 Output Shape              Param #   \n",
            "=================================================================\n",
            "flatten_7 (Flatten)          (None, 512)               0         \n",
            "_________________________________________________________________\n",
            "dense_9 (Dense)              (None, 512)               262656    \n",
            "_________________________________________________________________\n",
            "lambda_9 (Lambda)            (None, 512)               0         \n",
            "_________________________________________________________________\n",
            "dropout_4 (Dropout)          (None, 512)               0         \n",
            "_________________________________________________________________\n",
            "dense_10 (Dense)             (None, 10)                5130      \n",
            "_________________________________________________________________\n",
            "lambda_10 (Lambda)           (None, 10)                0         \n",
            "=================================================================\n",
            "Total params: 267,786\n",
            "Trainable params: 267,786\n",
            "Non-trainable params: 0\n",
            "_________________________________________________________________\n"
          ],
          "name": "stdout"
        }
      ]
    },
    {
      "metadata": {
        "id": "UyMibNyRG68n",
        "colab_type": "code",
        "colab": {
          "autoexec": {
            "startup": false,
            "wait_interval": 0
          }
        }
      },
      "cell_type": "code",
      "source": [
        "model_5.compile(loss='categorical_crossentropy',\n",
        "              #optimizer=SGD(),\n",
        "              optimizer='rmsprop',\n",
        "              metrics=['accuracy'])"
      ],
      "execution_count": 0,
      "outputs": []
    },
    {
      "metadata": {
        "id": "-sc4DiQvG_ow",
        "colab_type": "code",
        "colab": {
          "autoexec": {
            "startup": false,
            "wait_interval": 0
          },
          "base_uri": "https://localhost:8080/",
          "height": 374
        },
        "outputId": "21f453a3-19ad-4499-9cdf-be161d4bdc90",
        "executionInfo": {
          "status": "ok",
          "timestamp": 1531600526272,
          "user_tz": 300,
          "elapsed": 18992,
          "user": {
            "displayName": "GRISELA ALEXANDRA PINZON APONTE",
            "photoUrl": "https://lh3.googleusercontent.com/a/default-user=s128",
            "userId": "105630513318907034713"
          }
        }
      },
      "cell_type": "code",
      "source": [
        "model_5.fit(VGG19_X_train, Y_train, epochs=10, verbose=2)"
      ],
      "execution_count": 59,
      "outputs": [
        {
          "output_type": "stream",
          "text": [
            "Epoch 1/10\n",
            " - 2s - loss: 2.2529 - acc: 0.2133\n",
            "Epoch 2/10\n",
            " - 2s - loss: 2.1639 - acc: 0.2616\n",
            "Epoch 3/10\n",
            " - 2s - loss: 2.0817 - acc: 0.3131\n",
            "Epoch 4/10\n",
            " - 2s - loss: 2.0163 - acc: 0.3342\n",
            "Epoch 5/10\n",
            " - 2s - loss: 1.9563 - acc: 0.3530\n",
            "Epoch 6/10\n",
            " - 2s - loss: 1.9026 - acc: 0.3681\n",
            "Epoch 7/10\n",
            " - 2s - loss: 1.8624 - acc: 0.3801\n",
            "Epoch 8/10\n",
            " - 2s - loss: 1.8203 - acc: 0.3938\n",
            "Epoch 9/10\n",
            " - 2s - loss: 1.7941 - acc: 0.3932\n",
            "Epoch 10/10\n",
            " - 2s - loss: 1.7650 - acc: 0.4024\n"
          ],
          "name": "stdout"
        },
        {
          "output_type": "execute_result",
          "data": {
            "text/plain": [
              "<keras.callbacks.History at 0x7f5555af3d30>"
            ]
          },
          "metadata": {
            "tags": []
          },
          "execution_count": 59
        }
      ]
    },
    {
      "metadata": {
        "id": "BoMxg-D6MCV_",
        "colab_type": "code",
        "colab": {
          "autoexec": {
            "startup": false,
            "wait_interval": 0
          }
        }
      },
      "cell_type": "code",
      "source": [
        "new_x_test = model_vgg19.predict(X_test)"
      ],
      "execution_count": 0,
      "outputs": []
    },
    {
      "metadata": {
        "id": "zPm9TYFfMX8x",
        "colab_type": "code",
        "colab": {
          "autoexec": {
            "startup": false,
            "wait_interval": 0
          },
          "base_uri": "https://localhost:8080/",
          "height": 68
        },
        "outputId": "d76e6b8c-6728-44a4-c300-7ed9664ff812",
        "executionInfo": {
          "status": "ok",
          "timestamp": 1531600801323,
          "user_tz": 300,
          "elapsed": 1190,
          "user": {
            "displayName": "GRISELA ALEXANDRA PINZON APONTE",
            "photoUrl": "https://lh3.googleusercontent.com/a/default-user=s128",
            "userId": "105630513318907034713"
          }
        }
      },
      "cell_type": "code",
      "source": [
        "score_VGG19 = model_5.evaluate(new_x_test, Y_test)\n",
        "print('Test score VVG19:', score_VGG19[0])\n",
        "print('Test accuracy VVG19:', score_VGG19[1])"
      ],
      "execution_count": 64,
      "outputs": [
        {
          "output_type": "stream",
          "text": [
            "10000/10000 [==============================] - 1s 87us/step\n",
            "Test score VVG19: 1.673152433013916\n",
            "Test accuracy VVG19: 0.4628\n"
          ],
          "name": "stdout"
        }
      ]
    },
    {
      "metadata": {
        "id": "Iw7PcssZNB-r",
        "colab_type": "text"
      },
      "cell_type": "markdown",
      "source": [
        "# Probando Xception"
      ]
    },
    {
      "metadata": {
        "id": "K1Tid1HtNUVm",
        "colab_type": "code",
        "colab": {
          "autoexec": {
            "startup": false,
            "wait_interval": 0
          }
        }
      },
      "cell_type": "code",
      "source": [
        "from keras.applications.xception import Xception\n",
        "model_xception = Xception(weights='imagenet', include_top=False)"
      ],
      "execution_count": 0,
      "outputs": []
    },
    {
      "metadata": {
        "id": "3qMojrMBQOSH",
        "colab_type": "code",
        "colab": {
          "autoexec": {
            "startup": false,
            "wait_interval": 0
          }
        }
      },
      "cell_type": "code",
      "source": [
        "Xception_X_train = model_xception.predict(X_train)"
      ],
      "execution_count": 0,
      "outputs": []
    },
    {
      "metadata": {
        "id": "NAwFWtSuQRcE",
        "colab_type": "code",
        "colab": {
          "autoexec": {
            "startup": false,
            "wait_interval": 0
          },
          "base_uri": "https://localhost:8080/",
          "height": 34
        },
        "outputId": "209cf9af-0f14-4f26-ea76-81bee174b334",
        "executionInfo": {
          "status": "ok",
          "timestamp": 1531600925278,
          "user_tz": 300,
          "elapsed": 370,
          "user": {
            "displayName": "GRISELA ALEXANDRA PINZON APONTE",
            "photoUrl": "https://lh3.googleusercontent.com/a/default-user=s128",
            "userId": "105630513318907034713"
          }
        }
      },
      "cell_type": "code",
      "source": [
        "Xception_X_train.shape"
      ],
      "execution_count": 67,
      "outputs": [
        {
          "output_type": "execute_result",
          "data": {
            "text/plain": [
              "(10000, 1, 1, 2048)"
            ]
          },
          "metadata": {
            "tags": []
          },
          "execution_count": 67
        }
      ]
    },
    {
      "metadata": {
        "id": "LoID1wOsRKR5",
        "colab_type": "code",
        "colab": {
          "autoexec": {
            "startup": false,
            "wait_interval": 0
          }
        }
      },
      "cell_type": "code",
      "source": [
        "model_6 = Sequential()\n",
        "model_6.add(Flatten(input_shape= (1, 1, 2048)))\n",
        "model_6.add(Dense(512))\n",
        "model_6.add(Lambda(lambda x:K.tf.nn.softmax(x)))\n",
        "model_6.add(Dropout(0.5))\n",
        "model_6.add(Dense(10))\n",
        "model_6.add(Lambda(lambda x:K.tf.nn.softmax(x)))"
      ],
      "execution_count": 0,
      "outputs": []
    },
    {
      "metadata": {
        "id": "PPJnnWS4RX3b",
        "colab_type": "code",
        "colab": {
          "autoexec": {
            "startup": false,
            "wait_interval": 0
          },
          "base_uri": "https://localhost:8080/",
          "height": 340
        },
        "outputId": "b1bfac93-c5a0-451e-f2ec-7e17eaa9683b",
        "executionInfo": {
          "status": "ok",
          "timestamp": 1531600931023,
          "user_tz": 300,
          "elapsed": 367,
          "user": {
            "displayName": "GRISELA ALEXANDRA PINZON APONTE",
            "photoUrl": "https://lh3.googleusercontent.com/a/default-user=s128",
            "userId": "105630513318907034713"
          }
        }
      },
      "cell_type": "code",
      "source": [
        "model_6.summary()"
      ],
      "execution_count": 69,
      "outputs": [
        {
          "output_type": "stream",
          "text": [
            "_________________________________________________________________\n",
            "Layer (type)                 Output Shape              Param #   \n",
            "=================================================================\n",
            "flatten_8 (Flatten)          (None, 2048)              0         \n",
            "_________________________________________________________________\n",
            "dense_11 (Dense)             (None, 512)               1049088   \n",
            "_________________________________________________________________\n",
            "lambda_11 (Lambda)           (None, 512)               0         \n",
            "_________________________________________________________________\n",
            "dropout_5 (Dropout)          (None, 512)               0         \n",
            "_________________________________________________________________\n",
            "dense_12 (Dense)             (None, 10)                5130      \n",
            "_________________________________________________________________\n",
            "lambda_12 (Lambda)           (None, 10)                0         \n",
            "=================================================================\n",
            "Total params: 1,054,218\n",
            "Trainable params: 1,054,218\n",
            "Non-trainable params: 0\n",
            "_________________________________________________________________\n"
          ],
          "name": "stdout"
        }
      ]
    },
    {
      "metadata": {
        "id": "UBVU9pazRetq",
        "colab_type": "code",
        "colab": {
          "autoexec": {
            "startup": false,
            "wait_interval": 0
          }
        }
      },
      "cell_type": "code",
      "source": [
        "model_6.compile(loss='categorical_crossentropy',\n",
        "              #optimizer=SGD(),\n",
        "              optimizer='rmsprop',\n",
        "              metrics=['accuracy'])"
      ],
      "execution_count": 0,
      "outputs": []
    },
    {
      "metadata": {
        "id": "xZXI8WK0Rim8",
        "colab_type": "code",
        "colab": {
          "autoexec": {
            "startup": false,
            "wait_interval": 0
          },
          "base_uri": "https://localhost:8080/",
          "height": 374
        },
        "outputId": "1cdaa759-8c42-4974-fd3b-111384931db9",
        "executionInfo": {
          "status": "ok",
          "timestamp": 1531600991078,
          "user_tz": 300,
          "elapsed": 52170,
          "user": {
            "displayName": "GRISELA ALEXANDRA PINZON APONTE",
            "photoUrl": "https://lh3.googleusercontent.com/a/default-user=s128",
            "userId": "105630513318907034713"
          }
        }
      },
      "cell_type": "code",
      "source": [
        "model_6.fit(Xception_X_train, Y_train, epochs=10, verbose=2)"
      ],
      "execution_count": 71,
      "outputs": [
        {
          "output_type": "stream",
          "text": [
            "Epoch 1/10\n",
            " - 6s - loss: 2.2997 - acc: 0.1175\n",
            "Epoch 2/10\n",
            " - 5s - loss: 2.2901 - acc: 0.1616\n",
            "Epoch 3/10\n",
            " - 5s - loss: 2.2735 - acc: 0.2030\n",
            "Epoch 4/10\n",
            " - 5s - loss: 2.2519 - acc: 0.2172\n",
            "Epoch 5/10\n",
            " - 5s - loss: 2.2271 - acc: 0.2298\n",
            "Epoch 6/10\n",
            " - 5s - loss: 2.2036 - acc: 0.2363\n",
            "Epoch 7/10\n",
            " - 5s - loss: 2.1764 - acc: 0.2482\n",
            "Epoch 8/10\n",
            " - 5s - loss: 2.1501 - acc: 0.2588\n",
            "Epoch 9/10\n",
            " - 5s - loss: 2.1247 - acc: 0.2677\n",
            "Epoch 10/10\n",
            " - 5s - loss: 2.1040 - acc: 0.2736\n"
          ],
          "name": "stdout"
        },
        {
          "output_type": "execute_result",
          "data": {
            "text/plain": [
              "<keras.callbacks.History at 0x7f5552050470>"
            ]
          },
          "metadata": {
            "tags": []
          },
          "execution_count": 71
        }
      ]
    },
    {
      "metadata": {
        "id": "rawx3OZ4SBg8",
        "colab_type": "code",
        "colab": {
          "autoexec": {
            "startup": false,
            "wait_interval": 0
          }
        }
      },
      "cell_type": "code",
      "source": [
        "new_x_test = model_xception.predict(X_test)"
      ],
      "execution_count": 0,
      "outputs": []
    },
    {
      "metadata": {
        "id": "o1nIklBmRpzN",
        "colab_type": "code",
        "colab": {
          "autoexec": {
            "startup": false,
            "wait_interval": 0
          },
          "base_uri": "https://localhost:8080/",
          "height": 68
        },
        "outputId": "59a06acc-0c34-45c5-d3a2-3d8ecd7fbc40",
        "executionInfo": {
          "status": "ok",
          "timestamp": 1531601128199,
          "user_tz": 300,
          "elapsed": 1683,
          "user": {
            "displayName": "GRISELA ALEXANDRA PINZON APONTE",
            "photoUrl": "https://lh3.googleusercontent.com/a/default-user=s128",
            "userId": "105630513318907034713"
          }
        }
      },
      "cell_type": "code",
      "source": [
        "score_Xception = model_6.evaluate(new_x_test, Y_test)\n",
        "print('Test score Xception:', score_Xception[0])\n",
        "print('Test accuracy Xception:', score_Xception[1])"
      ],
      "execution_count": 73,
      "outputs": [
        {
          "output_type": "stream",
          "text": [
            "10000/10000 [==============================] - 1s 135us/step\n",
            "Test score Xception: 2.092807643508911\n",
            "Test accuracy Xception: 0.2792\n"
          ],
          "name": "stdout"
        }
      ]
    },
    {
      "metadata": {
        "id": "iZExrANlnnvP",
        "colab_type": "text"
      },
      "cell_type": "markdown",
      "source": [
        "#Probando DenseNet"
      ]
    },
    {
      "metadata": {
        "id": "etWBz0hSnw2Y",
        "colab_type": "code",
        "colab": {
          "autoexec": {
            "startup": false,
            "wait_interval": 0
          }
        }
      },
      "cell_type": "code",
      "source": [
        "from keras.applications.densenet import DenseNet121\n",
        "model_densenet = DenseNet121(weights='imagenet', include_top=False)"
      ],
      "execution_count": 0,
      "outputs": []
    },
    {
      "metadata": {
        "id": "Obq-GSrxolz4",
        "colab_type": "code",
        "colab": {
          "autoexec": {
            "startup": false,
            "wait_interval": 0
          }
        }
      },
      "cell_type": "code",
      "source": [
        "Densenet_X_train = model_densenet.predict(X_train)"
      ],
      "execution_count": 0,
      "outputs": []
    },
    {
      "metadata": {
        "id": "DEo0Z5LurOnN",
        "colab_type": "code",
        "colab": {
          "autoexec": {
            "startup": false,
            "wait_interval": 0
          },
          "base_uri": "https://localhost:8080/",
          "height": 34
        },
        "outputId": "9057de9b-89b8-430c-900d-b6f78a8aea14",
        "executionInfo": {
          "status": "ok",
          "timestamp": 1531603403240,
          "user_tz": 300,
          "elapsed": 559,
          "user": {
            "displayName": "GRISELA ALEXANDRA PINZON APONTE",
            "photoUrl": "https://lh3.googleusercontent.com/a/default-user=s128",
            "userId": "105630513318907034713"
          }
        }
      },
      "cell_type": "code",
      "source": [
        "Densenet_X_train.shape"
      ],
      "execution_count": 88,
      "outputs": [
        {
          "output_type": "execute_result",
          "data": {
            "text/plain": [
              "(10000, 1, 1, 1024)"
            ]
          },
          "metadata": {
            "tags": []
          },
          "execution_count": 88
        }
      ]
    },
    {
      "metadata": {
        "id": "5bcxIPilrYIK",
        "colab_type": "code",
        "colab": {
          "autoexec": {
            "startup": false,
            "wait_interval": 0
          }
        }
      },
      "cell_type": "code",
      "source": [
        "model_7 = Sequential()\n",
        "model_7.add(Flatten(input_shape= (1, 1, 1024)))\n",
        "model_7.add(Dense(512))\n",
        "model_7.add(Lambda(lambda x:K.tf.nn.softmax(x)))\n",
        "model_7.add(Dropout(0.5))\n",
        "model_7.add(Dense(10))\n",
        "model_7.add(Lambda(lambda x:K.tf.nn.softmax(x)))"
      ],
      "execution_count": 0,
      "outputs": []
    },
    {
      "metadata": {
        "id": "0kcYeWfjrb4E",
        "colab_type": "code",
        "colab": {
          "autoexec": {
            "startup": false,
            "wait_interval": 0
          },
          "base_uri": "https://localhost:8080/",
          "height": 340
        },
        "outputId": "1d69545b-f383-4f32-feed-414b88fa1d82",
        "executionInfo": {
          "status": "ok",
          "timestamp": 1531603471705,
          "user_tz": 300,
          "elapsed": 424,
          "user": {
            "displayName": "GRISELA ALEXANDRA PINZON APONTE",
            "photoUrl": "https://lh3.googleusercontent.com/a/default-user=s128",
            "userId": "105630513318907034713"
          }
        }
      },
      "cell_type": "code",
      "source": [
        "model_7.summary()"
      ],
      "execution_count": 91,
      "outputs": [
        {
          "output_type": "stream",
          "text": [
            "_________________________________________________________________\n",
            "Layer (type)                 Output Shape              Param #   \n",
            "=================================================================\n",
            "flatten_10 (Flatten)         (None, 1024)              0         \n",
            "_________________________________________________________________\n",
            "dense_15 (Dense)             (None, 512)               524800    \n",
            "_________________________________________________________________\n",
            "lambda_15 (Lambda)           (None, 512)               0         \n",
            "_________________________________________________________________\n",
            "dropout_7 (Dropout)          (None, 512)               0         \n",
            "_________________________________________________________________\n",
            "dense_16 (Dense)             (None, 10)                5130      \n",
            "_________________________________________________________________\n",
            "lambda_16 (Lambda)           (None, 10)                0         \n",
            "=================================================================\n",
            "Total params: 529,930\n",
            "Trainable params: 529,930\n",
            "Non-trainable params: 0\n",
            "_________________________________________________________________\n"
          ],
          "name": "stdout"
        }
      ]
    },
    {
      "metadata": {
        "id": "iCh_k4Ynrl4I",
        "colab_type": "code",
        "colab": {
          "autoexec": {
            "startup": false,
            "wait_interval": 0
          }
        }
      },
      "cell_type": "code",
      "source": [
        "model_7.compile(loss='categorical_crossentropy',\n",
        "              #optimizer=SGD(),\n",
        "              optimizer='rmsprop',\n",
        "              metrics=['accuracy'])"
      ],
      "execution_count": 0,
      "outputs": []
    },
    {
      "metadata": {
        "id": "baWchd-yrqZE",
        "colab_type": "code",
        "colab": {
          "autoexec": {
            "startup": false,
            "wait_interval": 0
          },
          "base_uri": "https://localhost:8080/",
          "height": 374
        },
        "outputId": "d512d62e-3b12-4e08-a50c-434215caf69f",
        "executionInfo": {
          "status": "ok",
          "timestamp": 1531603622232,
          "user_tz": 300,
          "elapsed": 39918,
          "user": {
            "displayName": "GRISELA ALEXANDRA PINZON APONTE",
            "photoUrl": "https://lh3.googleusercontent.com/a/default-user=s128",
            "userId": "105630513318907034713"
          }
        }
      },
      "cell_type": "code",
      "source": [
        "model_7.fit(Densenet_X_train, Y_train, epochs=10, verbose=2)"
      ],
      "execution_count": 94,
      "outputs": [
        {
          "output_type": "stream",
          "text": [
            "Epoch 1/10\n",
            " - 8s - loss: 2.2067 - acc: 0.2837\n",
            "Epoch 2/10\n",
            " - 3s - loss: 2.0697 - acc: 0.3144\n",
            "Epoch 3/10\n",
            " - 4s - loss: 1.9710 - acc: 0.3247\n",
            "Epoch 4/10\n",
            " - 3s - loss: 1.8875 - acc: 0.3370\n",
            "Epoch 5/10\n",
            " - 4s - loss: 1.8438 - acc: 0.3448\n",
            "Epoch 6/10\n",
            " - 3s - loss: 1.7824 - acc: 0.3755\n",
            "Epoch 7/10\n",
            " - 3s - loss: 1.7414 - acc: 0.3894\n",
            "Epoch 8/10\n",
            " - 3s - loss: 1.7048 - acc: 0.3989\n",
            "Epoch 9/10\n",
            " - 3s - loss: 1.6808 - acc: 0.4200\n",
            "Epoch 10/10\n",
            " - 3s - loss: 1.6429 - acc: 0.4243\n"
          ],
          "name": "stdout"
        },
        {
          "output_type": "execute_result",
          "data": {
            "text/plain": [
              "<keras.callbacks.History at 0x7f5540998128>"
            ]
          },
          "metadata": {
            "tags": []
          },
          "execution_count": 94
        }
      ]
    },
    {
      "metadata": {
        "id": "ligny5rCsB03",
        "colab_type": "code",
        "colab": {
          "autoexec": {
            "startup": false,
            "wait_interval": 0
          }
        }
      },
      "cell_type": "code",
      "source": [
        "new_x_test = model_densenet.predict(X_test)"
      ],
      "execution_count": 0,
      "outputs": []
    },
    {
      "metadata": {
        "id": "uG-evJOLt_7O",
        "colab_type": "code",
        "colab": {
          "autoexec": {
            "startup": false,
            "wait_interval": 0
          },
          "base_uri": "https://localhost:8080/",
          "height": 68
        },
        "outputId": "3061ae7e-4719-47ae-ccee-c7b406cda56a",
        "executionInfo": {
          "status": "ok",
          "timestamp": 1531604300515,
          "user_tz": 300,
          "elapsed": 3716,
          "user": {
            "displayName": "GRISELA ALEXANDRA PINZON APONTE",
            "photoUrl": "https://lh3.googleusercontent.com/a/default-user=s128",
            "userId": "105630513318907034713"
          }
        }
      },
      "cell_type": "code",
      "source": [
        "score_densenet = model_7.evaluate(new_x_test, Y_test)\n",
        "print('Test score Densenet:', score_densenet[0])\n",
        "print('Test accuracy Densenet:', score_densenet[1])"
      ],
      "execution_count": 100,
      "outputs": [
        {
          "output_type": "stream",
          "text": [
            "10000/10000 [==============================] - 3s 330us/step\n",
            "Test score Densenet: 1.4752374240875243\n",
            "Test accuracy Densenet: 0.5792\n"
          ],
          "name": "stdout"
        }
      ]
    },
    {
      "metadata": {
        "id": "IUq9uB1rnkMU",
        "colab_type": "text"
      },
      "cell_type": "markdown",
      "source": [
        "#Resultados de los modelos "
      ]
    },
    {
      "metadata": {
        "id": "Fp-bxvunSe3C",
        "colab_type": "code",
        "colab": {
          "autoexec": {
            "startup": false,
            "wait_interval": 0
          },
          "base_uri": "https://localhost:8080/",
          "height": 136
        },
        "outputId": "2da146bf-eea9-49bc-cc88-ec8112025462",
        "executionInfo": {
          "status": "ok",
          "timestamp": 1531604373981,
          "user_tz": 300,
          "elapsed": 523,
          "user": {
            "displayName": "GRISELA ALEXANDRA PINZON APONTE",
            "photoUrl": "https://lh3.googleusercontent.com/a/default-user=s128",
            "userId": "105630513318907034713"
          }
        }
      },
      "cell_type": "code",
      "source": [
        "print('Test accuracy model1:', score_model1[1])\n",
        "print('Test accuracy model 2:', score_model2[1])\n",
        "print('Test accuracy VVG16:', score_VGG16[1])\n",
        "print('Test accuracy Mobilnet:', score_MobileNet[1])\n",
        "print('Test accuracy VVG19:', score_VGG19[1])\n",
        "print('Test accuracy Xception:', score_Xception[1])\n",
        "print('Test accuracy Densenet:', score_densenet[1])\n"
      ],
      "execution_count": 101,
      "outputs": [
        {
          "output_type": "stream",
          "text": [
            "Test accuracy model1: 0.3636\n",
            "Test accuracy model 2: 0.5841\n",
            "Test accuracy VVG16: 0.4827\n",
            "Test accuracy Mobilnet: 0.1361\n",
            "Test accuracy VVG19: 0.4628\n",
            "Test accuracy Xception: 0.2792\n",
            "Test accuracy Densenet: 0.5792\n"
          ],
          "name": "stdout"
        }
      ]
    }
  ]
}