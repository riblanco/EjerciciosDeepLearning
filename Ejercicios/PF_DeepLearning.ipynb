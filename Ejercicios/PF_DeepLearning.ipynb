{
  "nbformat": 4,
  "nbformat_minor": 0,
  "metadata": {
    "colab": {
      "name": "PF_DeepLearning.ipynb",
      "version": "0.3.2",
      "views": {},
      "default_view": {},
      "provenance": [
        {
          "file_id": "1MgDnHSSww_rxbnuEgfj-7Gtnpwi44spB",
          "timestamp": 1532358681878
        },
        {
          "file_id": "1_RR7xzWzr4iEi6XwOlgwYu6-Bp5fg5rw",
          "timestamp": 1532305066595
        },
        {
          "file_id": "1lwXQFOIrR4sgeHj7f2rrYpoujSAxaYLT",
          "timestamp": 1532188576930
        },
        {
          "file_id": "1y_IW5DEpDoaylke4seumJQf0qCCWrS2R",
          "timestamp": 1532135988709
        }
      ],
      "collapsed_sections": [
        "SRqpXMRUojie",
        "1TyCTNa2WOfG",
        "afwU7nX_rEdE",
        "JCsSPD7SYwYA",
        "vapOFB0lZuAG",
        "0OJVgdhUfX_z",
        "EFJ2e_Y0ndXR",
        "RjQXYHpl7Y5A",
        "0IxTfAz5qe-i",
        "Islbw2cbq14B",
        "9Nv7R8mKWrSU",
        "zVa0gawZBnti"
      ]
    },
    "kernelspec": {
      "name": "python3",
      "display_name": "Python 3"
    }
  },
  "cells": [
    {
      "metadata": {
        "id": "SRqpXMRUojie",
        "colab_type": "text"
      },
      "cell_type": "markdown",
      "source": [
        "# Work Environment Configuration"
      ]
    },
    {
      "metadata": {
        "id": "jGewCYaf8bAR",
        "colab_type": "code",
        "colab": {
          "autoexec": {
            "startup": false,
            "wait_interval": 0
          },
          "base_uri": "https://localhost:8080/",
          "height": 887
        },
        "outputId": "37991338-89e2-4060-bdfa-ff699e02acee",
        "executionInfo": {
          "status": "ok",
          "timestamp": 1532358835587,
          "user_tz": 300,
          "elapsed": 17980,
          "user": {
            "displayName": "Ricardo Blanco",
            "photoUrl": "https://lh3.googleusercontent.com/a/default-user=s128",
            "userId": "110684667121152931194"
          }
        }
      },
      "cell_type": "code",
      "source": [
        "!apt-get install -y -qq software-properties-common python-software-properties module-init-tools\n",
        "!add-apt-repository -y ppa:alessandro-strada/ppa 2>&1 > /dev/null\n",
        "!apt-get update -qq 2>&1 > /dev/null\n",
        "!apt-get -y install -qq google-drive-ocamlfuse fuse\n",
        "!pip install livelossplot # Instalar nuevos paquetes\n",
        "!pip install tqdm"
      ],
      "execution_count": 2,
      "outputs": [
        {
          "output_type": "stream",
          "text": [
            "gpg: keybox '/tmp/tmpiygkrqs7/pubring.gpg' created\n",
            "gpg: /tmp/tmpiygkrqs7/trustdb.gpg: trustdb created\n",
            "gpg: key AD5F235DF639B041: public key \"Launchpad PPA for Alessandro Strada\" imported\n",
            "gpg: Total number processed: 1\n",
            "gpg:               imported: 1\n",
            "Warning: apt-key output should not be parsed (stdout is not a terminal)\n",
            "Requirement already satisfied: livelossplot in /usr/local/lib/python3.6/dist-packages (0.2.0)\n",
            "Requirement already satisfied: notebook in /usr/local/lib/python3.6/dist-packages (from livelossplot) (5.2.2)\n",
            "Requirement already satisfied: matplotlib in /usr/local/lib/python3.6/dist-packages (from livelossplot) (2.1.2)\n",
            "Requirement already satisfied: jupyter-core in /usr/local/lib/python3.6/dist-packages (from notebook->livelossplot) (4.4.0)\n",
            "Requirement already satisfied: ipykernel in /usr/local/lib/python3.6/dist-packages (from notebook->livelossplot) (4.6.1)\n",
            "Requirement already satisfied: traitlets>=4.2.1 in /usr/local/lib/python3.6/dist-packages (from notebook->livelossplot) (4.3.2)\n",
            "Requirement already satisfied: tornado>=4 in /usr/local/lib/python3.6/dist-packages (from notebook->livelossplot) (4.5.3)\n",
            "Requirement already satisfied: ipython-genutils in /usr/local/lib/python3.6/dist-packages (from notebook->livelossplot) (0.2.0)\n",
            "Requirement already satisfied: nbconvert in /usr/local/lib/python3.6/dist-packages (from notebook->livelossplot) (5.3.1)\n",
            "Requirement already satisfied: nbformat in /usr/local/lib/python3.6/dist-packages (from notebook->livelossplot) (4.4.0)\n",
            "Requirement already satisfied: jinja2 in /usr/local/lib/python3.6/dist-packages (from notebook->livelossplot) (2.10)\n",
            "Requirement already satisfied: jupyter-client in /usr/local/lib/python3.6/dist-packages (from notebook->livelossplot) (5.2.3)\n",
            "Requirement already satisfied: terminado>=0.3.3; sys_platform != \"win32\" in /usr/local/lib/python3.6/dist-packages (from notebook->livelossplot) (0.8.1)\n",
            "Requirement already satisfied: python-dateutil>=2.1 in /usr/local/lib/python3.6/dist-packages (from matplotlib->livelossplot) (2.5.3)\n",
            "Requirement already satisfied: pytz in /usr/local/lib/python3.6/dist-packages (from matplotlib->livelossplot) (2018.5)\n",
            "Requirement already satisfied: cycler>=0.10 in /usr/local/lib/python3.6/dist-packages (from matplotlib->livelossplot) (0.10.0)\n",
            "Requirement already satisfied: numpy>=1.7.1 in /usr/local/lib/python3.6/dist-packages (from matplotlib->livelossplot) (1.14.5)\n",
            "Requirement already satisfied: pyparsing!=2.0.4,!=2.1.2,!=2.1.6,>=2.0.1 in /usr/local/lib/python3.6/dist-packages (from matplotlib->livelossplot) (2.2.0)\n",
            "Requirement already satisfied: six>=1.10 in /usr/local/lib/python3.6/dist-packages (from matplotlib->livelossplot) (1.11.0)\n",
            "Requirement already satisfied: ipython>=4.0.0 in /usr/local/lib/python3.6/dist-packages (from ipykernel->notebook->livelossplot) (5.5.0)\n",
            "Requirement already satisfied: decorator in /usr/local/lib/python3.6/dist-packages (from traitlets>=4.2.1->notebook->livelossplot) (4.3.0)\n",
            "Requirement already satisfied: bleach in /usr/local/lib/python3.6/dist-packages (from nbconvert->notebook->livelossplot) (2.1.3)\n",
            "Requirement already satisfied: pygments in /usr/local/lib/python3.6/dist-packages (from nbconvert->notebook->livelossplot) (2.1.3)\n",
            "Requirement already satisfied: entrypoints>=0.2.2 in /usr/local/lib/python3.6/dist-packages (from nbconvert->notebook->livelossplot) (0.2.3)\n",
            "Requirement already satisfied: pandocfilters>=1.4.1 in /usr/local/lib/python3.6/dist-packages (from nbconvert->notebook->livelossplot) (1.4.2)\n",
            "Requirement already satisfied: testpath in /usr/local/lib/python3.6/dist-packages (from nbconvert->notebook->livelossplot) (0.3.1)\n",
            "Requirement already satisfied: mistune>=0.7.4 in /usr/local/lib/python3.6/dist-packages (from nbconvert->notebook->livelossplot) (0.8.3)\n",
            "Requirement already satisfied: jsonschema!=2.5.0,>=2.4 in /usr/local/lib/python3.6/dist-packages (from nbformat->notebook->livelossplot) (2.6.0)\n",
            "Requirement already satisfied: MarkupSafe>=0.23 in /usr/local/lib/python3.6/dist-packages (from jinja2->notebook->livelossplot) (1.0)\n",
            "Requirement already satisfied: pyzmq>=13 in /usr/local/lib/python3.6/dist-packages (from jupyter-client->notebook->livelossplot) (16.0.4)\n",
            "Requirement already satisfied: ptyprocess; os_name != \"nt\" in /usr/local/lib/python3.6/dist-packages (from terminado>=0.3.3; sys_platform != \"win32\"->notebook->livelossplot) (0.6.0)\n",
            "Requirement already satisfied: pexpect; sys_platform != \"win32\" in /usr/local/lib/python3.6/dist-packages (from ipython>=4.0.0->ipykernel->notebook->livelossplot) (4.6.0)\n",
            "Requirement already satisfied: prompt-toolkit<2.0.0,>=1.0.4 in /usr/local/lib/python3.6/dist-packages (from ipython>=4.0.0->ipykernel->notebook->livelossplot) (1.0.15)\n",
            "Requirement already satisfied: setuptools>=18.5 in /usr/local/lib/python3.6/dist-packages (from ipython>=4.0.0->ipykernel->notebook->livelossplot) (39.1.0)\n",
            "Requirement already satisfied: pickleshare in /usr/local/lib/python3.6/dist-packages (from ipython>=4.0.0->ipykernel->notebook->livelossplot) (0.7.4)\n",
            "Requirement already satisfied: simplegeneric>0.8 in /usr/local/lib/python3.6/dist-packages (from ipython>=4.0.0->ipykernel->notebook->livelossplot) (0.8.1)\n",
            "Requirement already satisfied: html5lib!=1.0b1,!=1.0b2,!=1.0b3,!=1.0b4,!=1.0b5,!=1.0b6,!=1.0b7,!=1.0b8,>=0.99999999pre in /usr/local/lib/python3.6/dist-packages (from bleach->nbconvert->notebook->livelossplot) (1.0.1)\n",
            "Requirement already satisfied: wcwidth in /usr/local/lib/python3.6/dist-packages (from prompt-toolkit<2.0.0,>=1.0.4->ipython>=4.0.0->ipykernel->notebook->livelossplot) (0.1.7)\n",
            "Requirement already satisfied: webencodings in /usr/local/lib/python3.6/dist-packages (from html5lib!=1.0b1,!=1.0b2,!=1.0b3,!=1.0b4,!=1.0b5,!=1.0b6,!=1.0b7,!=1.0b8,>=0.99999999pre->bleach->nbconvert->notebook->livelossplot) (0.5.1)\n",
            "\u001b[33mYou are using pip version 10.0.1, however version 18.0 is available.\n",
            "You should consider upgrading via the 'pip install --upgrade pip' command.\u001b[0m\n",
            "Requirement already satisfied: tqdm in /usr/local/lib/python3.6/dist-packages (4.23.4)\n",
            "\u001b[33mYou are using pip version 10.0.1, however version 18.0 is available.\n",
            "You should consider upgrading via the 'pip install --upgrade pip' command.\u001b[0m\n"
          ],
          "name": "stdout"
        }
      ]
    },
    {
      "metadata": {
        "id": "t2CDhrZT8f2v",
        "colab_type": "code",
        "colab": {
          "autoexec": {
            "startup": false,
            "wait_interval": 0
          }
        }
      },
      "cell_type": "code",
      "source": [
        "from google.colab import auth\n",
        "auth.authenticate_user()"
      ],
      "execution_count": 0,
      "outputs": []
    },
    {
      "metadata": {
        "id": "zDWXmSmn8ii6",
        "colab_type": "code",
        "colab": {
          "autoexec": {
            "startup": false,
            "wait_interval": 0
          },
          "base_uri": "https://localhost:8080/",
          "height": 34
        },
        "outputId": "a0691da0-a6be-4707-82e3-6dfa9054f202",
        "executionInfo": {
          "status": "ok",
          "timestamp": 1532358862683,
          "user_tz": 300,
          "elapsed": 15088,
          "user": {
            "displayName": "Ricardo Blanco",
            "photoUrl": "https://lh3.googleusercontent.com/a/default-user=s128",
            "userId": "110684667121152931194"
          }
        }
      },
      "cell_type": "code",
      "source": [
        "from oauth2client.client import GoogleCredentials\n",
        "creds = GoogleCredentials.get_application_default()\n",
        "import getpass\n",
        "!google-drive-ocamlfuse -headless -id={creds.client_id} -secret={creds.client_secret} < /dev/null 2>&1 | grep URL\n",
        "vcode = getpass.getpass()\n",
        "!echo {vcode} | google-drive-ocamlfuse -headless -id={creds.client_id} -secret={creds.client_secret}"
      ],
      "execution_count": 4,
      "outputs": [
        {
          "output_type": "stream",
          "text": [
            "··········\n"
          ],
          "name": "stdout"
        }
      ]
    },
    {
      "metadata": {
        "id": "Mibk6VVY8kcW",
        "colab_type": "code",
        "colab": {
          "autoexec": {
            "startup": false,
            "wait_interval": 0
          },
          "base_uri": "https://localhost:8080/",
          "height": 51
        },
        "outputId": "51c14990-e629-4201-f349-b42d9696fbc9",
        "executionInfo": {
          "status": "ok",
          "timestamp": 1532358868566,
          "user_tz": 300,
          "elapsed": 3345,
          "user": {
            "displayName": "Ricardo Blanco",
            "photoUrl": "https://lh3.googleusercontent.com/a/default-user=s128",
            "userId": "110684667121152931194"
          }
        }
      },
      "cell_type": "code",
      "source": [
        "!mkdir -p drive\n",
        "!google-drive-ocamlfuse drive"
      ],
      "execution_count": 5,
      "outputs": [
        {
          "output_type": "stream",
          "text": [
            "fuse: mountpoint is not empty\r\n",
            "fuse: if you are sure this is safe, use the 'nonempty' mount option\r\n"
          ],
          "name": "stdout"
        }
      ]
    },
    {
      "metadata": {
        "id": "0Qz1kOhPmA9o",
        "colab_type": "text"
      },
      "cell_type": "markdown",
      "source": [
        "Libraries and other definitions"
      ]
    },
    {
      "metadata": {
        "id": "Ek9SiQaQl_B0",
        "colab_type": "code",
        "colab": {
          "autoexec": {
            "startup": false,
            "wait_interval": 0
          },
          "base_uri": "https://localhost:8080/",
          "height": 68
        },
        "outputId": "c316e5c9-8fe4-4197-ba4c-dc03af927fee",
        "executionInfo": {
          "status": "ok",
          "timestamp": 1532358880762,
          "user_tz": 300,
          "elapsed": 2636,
          "user": {
            "displayName": "Ricardo Blanco",
            "photoUrl": "https://lh3.googleusercontent.com/a/default-user=s128",
            "userId": "110684667121152931194"
          }
        }
      },
      "cell_type": "code",
      "source": [
        "import pandas as pd\n",
        "import os\n",
        "import numpy as np\n",
        "from sklearn.preprocessing import MultiLabelBinarizer\n",
        "from sklearn.multiclass import OneVsRestClassifier\n",
        "from sklearn.ensemble import RandomForestRegressor, RandomForestClassifier\n",
        "from sklearn.metrics import r2_score, roc_auc_score\n",
        "from sklearn.model_selection import train_test_split\n",
        "from sklearn.decomposition import PCA\n",
        "import matplotlib.pyplot as plt\n",
        "\n",
        "from skimage import io\n",
        "from tqdm import tqdm\n",
        "\n",
        "\n",
        "from keras.models import Sequential\n",
        "from keras.preprocessing import sequence\n",
        "from keras.layers import Conv2D, MaxPooling2D,Conv1D\n",
        "from keras.layers import Activation, Dropout, Flatten, Dense\n",
        "from keras.layers import Dense, Dropout, Activation, BatchNormalization\n",
        "from keras.layers.recurrent import LSTM\n",
        "from keras.optimizers import RMSprop\n",
        "from keras.optimizers import Adagrad\n",
        "from keras.optimizers import SGD\n",
        "from keras.optimizers import Adam\n",
        "from keras import backend as K\n",
        "%matplotlib inline\n",
        "\n",
        "from keras import optimizers\n",
        "from  livelossplot import PlotLossesKeras\n",
        "\n",
        "import tensorflow as tf\n",
        "\n",
        "from livelossplot import PlotLossesKeras\n",
        "\n",
        "from sklearn.feature_extraction.text import CountVectorizer\n",
        "from nltk.stem import WordNetLemmatizer\n",
        "import nltk\n",
        "nltk.download('wordnet')\n",
        "\n",
        "from keras.models import Sequential\n",
        "from keras.layers.recurrent import LSTM\n",
        "from keras.layers.core import Dense, Dropout\n",
        "from keras.layers.embeddings import Embedding\n",
        "from keras.preprocessing import sequence\n",
        "from livelossplot import PlotLossesKeras\n",
        "from keras import optimizers\n",
        "\n",
        "import keras\n",
        "from keras.layers import Input, Dense, concatenate, Conv2D, BatchNormalization, Activation, MaxPooling2D, Dropout, GlobalMaxPool2D\n",
        "from keras.models import Model\n",
        "from scipy.ndimage import rotate as rot\n",
        "\n",
        "from keras import optimizers\n",
        "from  livelossplot import PlotLossesKeras"
      ],
      "execution_count": 6,
      "outputs": [
        {
          "output_type": "stream",
          "text": [
            "Using TensorFlow backend.\n"
          ],
          "name": "stderr"
        },
        {
          "output_type": "stream",
          "text": [
            "[nltk_data] Downloading package wordnet to /content/nltk_data...\n",
            "[nltk_data]   Package wordnet is already up-to-date!\n"
          ],
          "name": "stdout"
        }
      ]
    },
    {
      "metadata": {
        "id": "1TyCTNa2WOfG",
        "colab_type": "text"
      },
      "cell_type": "markdown",
      "source": [
        "# Maching Learning Algorithm with Images and Text "
      ]
    },
    {
      "metadata": {
        "id": "afwU7nX_rEdE",
        "colab_type": "text"
      },
      "cell_type": "markdown",
      "source": [
        "##  Random Forest (Images)"
      ]
    },
    {
      "metadata": {
        "id": "lHEuNSsfYqj9",
        "colab_type": "text"
      },
      "cell_type": "markdown",
      "source": [
        "We load preprocessed images in a text format (flattened)"
      ]
    },
    {
      "metadata": {
        "id": "qlp_K-JBWUOX",
        "colab_type": "code",
        "colab": {
          "autoexec": {
            "startup": false,
            "wait_interval": 0
          }
        }
      },
      "cell_type": "code",
      "source": [
        "import pickle \n",
        "with open(\"drive/ProyectoFinalDeepLearnig/images_training_gray.txt\", \"rb\") as fp:   # Unpickling\n",
        "  images_training_gray_planas = pickle.load(fp)\n",
        "\n",
        "with open(\"drive/ProyectoFinalDeepLearnig//images_testing_gray.txt\", \"rb\") as fp:   # Unpickling\n",
        "  images_testing_gray_planas = pickle.load(fp)"
      ],
      "execution_count": 0,
      "outputs": []
    },
    {
      "metadata": {
        "id": "rwXHIQaxXKKQ",
        "colab_type": "code",
        "colab": {
          "autoexec": {
            "startup": false,
            "wait_interval": 0
          },
          "base_uri": "https://localhost:8080/",
          "height": 34
        },
        "outputId": "c7bf29a6-d6b9-448e-97ab-7f3a9c0e579e",
        "executionInfo": {
          "status": "ok",
          "timestamp": 1532343787784,
          "user_tz": 300,
          "elapsed": 416,
          "user": {
            "displayName": "Ricardo Blanco",
            "photoUrl": "https://lh3.googleusercontent.com/a/default-user=s128",
            "userId": "110684667121152931194"
          }
        }
      },
      "cell_type": "code",
      "source": [
        "print(images_training_gray_planas.shape,images_testing_gray_planas.shape)"
      ],
      "execution_count": 0,
      "outputs": [
        {
          "output_type": "stream",
          "text": [
            "(7895, 40960) (3383, 40960)\n"
          ],
          "name": "stdout"
        }
      ]
    },
    {
      "metadata": {
        "id": "k6UCvwVlnMps",
        "colab_type": "text"
      },
      "cell_type": "markdown",
      "source": [
        "We load train and test text"
      ]
    },
    {
      "metadata": {
        "id": "EcuaVmjxnJ2F",
        "colab_type": "code",
        "colab": {
          "autoexec": {
            "startup": false,
            "wait_interval": 0
          }
        }
      },
      "cell_type": "code",
      "source": [
        "path = 'drive/ProyectoFinalDeepLearnig'\n",
        "dataTraining = pd.read_csv(os.path.join(path, '', 'dataTraining.csv'), encoding='UTF-8', index_col=0)\n",
        "dataTesting = pd.read_csv(os.path.join(path, '', 'dataTesting.csv'), encoding='UTF-8', index_col=0)\n",
        "dataTraining['genres'] = dataTraining['genres'].map(lambda x: eval(x))\n",
        "le = MultiLabelBinarizer()\n",
        "y_genres = le.fit_transform(dataTraining['genres'])"
      ],
      "execution_count": 0,
      "outputs": []
    },
    {
      "metadata": {
        "id": "K5X5l9IVXSyp",
        "colab_type": "text"
      },
      "cell_type": "markdown",
      "source": [
        "We apply PCA and we create \"y\""
      ]
    },
    {
      "metadata": {
        "id": "WEeHHUU-XVMG",
        "colab_type": "code",
        "colab": {
          "autoexec": {
            "startup": false,
            "wait_interval": 0
          }
        }
      },
      "cell_type": "code",
      "source": [
        "pca = PCA(n_components=32)\n",
        "images_training_pca = pca.fit_transform(images_training_gray_planas)\n",
        "images_testing_pca = pca.transform(images_testing_gray_planas)\n",
        "\n",
        "X_train_pca, X_test_pca, y_train_genres_pca, y_test_genres_pca = train_test_split(images_training_pca, y_genres, test_size=0.33, random_state=42)"
      ],
      "execution_count": 0,
      "outputs": []
    },
    {
      "metadata": {
        "id": "dKv8Xlv0XxOc",
        "colab_type": "text"
      },
      "cell_type": "markdown",
      "source": [
        "We apply Random Forest"
      ]
    },
    {
      "metadata": {
        "id": "0h_eD1bNXsv-",
        "colab_type": "code",
        "colab": {
          "autoexec": {
            "startup": false,
            "wait_interval": 0
          },
          "base_uri": "https://localhost:8080/",
          "height": 136
        },
        "outputId": "0c597612-f463-4e80-c914-851d40d6d4ed",
        "executionInfo": {
          "status": "ok",
          "timestamp": 1532336128238,
          "user_tz": 300,
          "elapsed": 174234,
          "user": {
            "displayName": "Ricardo Blanco",
            "photoUrl": "https://lh3.googleusercontent.com/a/default-user=s128",
            "userId": "110684667121152931194"
          }
        }
      },
      "cell_type": "code",
      "source": [
        "clf_RF = OneVsRestClassifier(RandomForestClassifier(n_jobs=-1, n_estimators=500, max_depth=10, random_state=42))\n",
        "clf_RF.fit(X_train_pca, y_train_genres_pca)"
      ],
      "execution_count": 0,
      "outputs": [
        {
          "output_type": "execute_result",
          "data": {
            "text/plain": [
              "OneVsRestClassifier(estimator=RandomForestClassifier(bootstrap=True, class_weight=None, criterion='gini',\n",
              "            max_depth=10, max_features='auto', max_leaf_nodes=None,\n",
              "            min_impurity_decrease=0.0, min_impurity_split=None,\n",
              "            min_samples_leaf=1, min_samples_split=2,\n",
              "            min_weight_fraction_leaf=0.0, n_estimators=500, n_jobs=-1,\n",
              "            oob_score=False, random_state=42, verbose=0, warm_start=False),\n",
              "          n_jobs=1)"
            ]
          },
          "metadata": {
            "tags": []
          },
          "execution_count": 10
        }
      ]
    },
    {
      "metadata": {
        "id": "xMiAj0J5X7EX",
        "colab_type": "code",
        "colab": {
          "autoexec": {
            "startup": false,
            "wait_interval": 0
          },
          "base_uri": "https://localhost:8080/",
          "height": 34
        },
        "outputId": "cd56c728-aa59-4a2d-c9e2-005fd8791f8c",
        "executionInfo": {
          "status": "ok",
          "timestamp": 1532336139178,
          "user_tz": 300,
          "elapsed": 6230,
          "user": {
            "displayName": "Ricardo Blanco",
            "photoUrl": "https://lh3.googleusercontent.com/a/default-user=s128",
            "userId": "110684667121152931194"
          }
        }
      },
      "cell_type": "code",
      "source": [
        "y_pred_genres = clf_RF.predict_proba(X_test_pca)\n",
        "roc_auc_score(y_test_genres_pca, y_pred_genres, average='macro')"
      ],
      "execution_count": 0,
      "outputs": [
        {
          "output_type": "execute_result",
          "data": {
            "text/plain": [
              "0.5863234448854417"
            ]
          },
          "metadata": {
            "tags": []
          },
          "execution_count": 11
        }
      ]
    },
    {
      "metadata": {
        "id": "JCsSPD7SYwYA",
        "colab_type": "text"
      },
      "cell_type": "markdown",
      "source": [
        "## Random Forest  (Text)"
      ]
    },
    {
      "metadata": {
        "id": "3sdtXWE9YyqY",
        "colab_type": "code",
        "colab": {
          "autoexec": {
            "startup": false,
            "wait_interval": 0
          }
        }
      },
      "cell_type": "code",
      "source": [
        "X_train_texto, X_test_texto, y_train_genres_texto, y_test_genres_texto = train_test_split(dataTraining['plot']\n",
        "                                                                  , y_genres, test_size=0.33, random_state=42)"
      ],
      "execution_count": 0,
      "outputs": []
    },
    {
      "metadata": {
        "id": "_yHbhoIJYytG",
        "colab_type": "code",
        "colab": {
          "autoexec": {
            "startup": false,
            "wait_interval": 0
          }
        }
      },
      "cell_type": "code",
      "source": [
        "from sklearn.feature_extraction.text import CountVectorizer\n",
        "vect = CountVectorizer(ngram_range=(1, 2), max_features=2000)\n",
        "X_dtm = vect.fit(X_train_texto)\n",
        "X_train_transformado = vect.transform(X_train_texto)\n",
        "X_train_transformado.shape\n",
        "X_test_transformado = vect.transform(X_test_texto)"
      ],
      "execution_count": 0,
      "outputs": []
    },
    {
      "metadata": {
        "id": "61XeDK3MZOS-",
        "colab_type": "code",
        "colab": {
          "autoexec": {
            "startup": false,
            "wait_interval": 0
          },
          "base_uri": "https://localhost:8080/",
          "height": 136
        },
        "outputId": "a8bab57c-30e9-455f-e31d-70e19932594f",
        "executionInfo": {
          "status": "ok",
          "timestamp": 1532336213505,
          "user_tz": 300,
          "elapsed": 53913,
          "user": {
            "displayName": "Ricardo Blanco",
            "photoUrl": "https://lh3.googleusercontent.com/a/default-user=s128",
            "userId": "110684667121152931194"
          }
        }
      },
      "cell_type": "code",
      "source": [
        "clf = OneVsRestClassifier(RandomForestClassifier(n_jobs=-1, n_estimators=500, max_depth=10, random_state=42))\n",
        "clf.fit(X_train_transformado, y_train_genres_texto)"
      ],
      "execution_count": 0,
      "outputs": [
        {
          "output_type": "execute_result",
          "data": {
            "text/plain": [
              "OneVsRestClassifier(estimator=RandomForestClassifier(bootstrap=True, class_weight=None, criterion='gini',\n",
              "            max_depth=10, max_features='auto', max_leaf_nodes=None,\n",
              "            min_impurity_decrease=0.0, min_impurity_split=None,\n",
              "            min_samples_leaf=1, min_samples_split=2,\n",
              "            min_weight_fraction_leaf=0.0, n_estimators=500, n_jobs=-1,\n",
              "            oob_score=False, random_state=42, verbose=0, warm_start=False),\n",
              "          n_jobs=1)"
            ]
          },
          "metadata": {
            "tags": []
          },
          "execution_count": 14
        }
      ]
    },
    {
      "metadata": {
        "id": "G_LfnPciZW5O",
        "colab_type": "code",
        "colab": {
          "autoexec": {
            "startup": false,
            "wait_interval": 0
          },
          "base_uri": "https://localhost:8080/",
          "height": 34
        },
        "outputId": "4d151fcf-b377-4920-cb79-6dd688a45f80",
        "executionInfo": {
          "status": "ok",
          "timestamp": 1532336229665,
          "user_tz": 300,
          "elapsed": 8236,
          "user": {
            "displayName": "Ricardo Blanco",
            "photoUrl": "https://lh3.googleusercontent.com/a/default-user=s128",
            "userId": "110684667121152931194"
          }
        }
      },
      "cell_type": "code",
      "source": [
        "y_pred_genres  = clf.predict_proba(vect.transform(X_test_texto))\n",
        "roc_auc_score(y_test_genres_texto, y_pred_genres, average='macro')"
      ],
      "execution_count": 0,
      "outputs": [
        {
          "output_type": "execute_result",
          "data": {
            "text/plain": [
              "0.7881633733238281"
            ]
          },
          "metadata": {
            "tags": []
          },
          "execution_count": 15
        }
      ]
    },
    {
      "metadata": {
        "id": "vapOFB0lZuAG",
        "colab_type": "text"
      },
      "cell_type": "markdown",
      "source": [
        "## Estimate with mean prediction between  images and text"
      ]
    },
    {
      "metadata": {
        "id": "exC57hl_t0Oh",
        "colab_type": "code",
        "colab": {
          "autoexec": {
            "startup": false,
            "wait_interval": 0
          }
        }
      },
      "cell_type": "code",
      "source": [
        "from sklearn.model_selection import train_test_split\n",
        "X_train_ima_machin, X_test_ima_machin, y_train_ima_machin, y_test_ima_machin, X_train_texto_machin, X_Test_texto_machin = train_test_split(\n",
        "    images_training_gray_planas, y_genres,dataTraining['plot'], test_size=0.33, random_state=45)"
      ],
      "execution_count": 0,
      "outputs": []
    },
    {
      "metadata": {
        "id": "pA_PpDyiaoE2",
        "colab_type": "code",
        "colab": {
          "autoexec": {
            "startup": false,
            "wait_interval": 0
          },
          "base_uri": "https://localhost:8080/",
          "height": 68
        },
        "outputId": "418db7a6-a410-4339-8418-8c1412b61e35",
        "executionInfo": {
          "status": "ok",
          "timestamp": 1532336258291,
          "user_tz": 300,
          "elapsed": 15879,
          "user": {
            "displayName": "Ricardo Blanco",
            "photoUrl": "https://lh3.googleusercontent.com/a/default-user=s128",
            "userId": "110684667121152931194"
          }
        }
      },
      "cell_type": "code",
      "source": [
        "Prediccion_texto = clf.predict_proba(vect.transform(X_Test_texto_machin))\n",
        "Prediccion_imagen = clf_RF.predict_proba(pca.transform(X_test_ima_machin))\n",
        "print(\"tamano texto\", Prediccion_texto.shape)\n",
        "print(\"tamano imagen\", Prediccion_imagen.shape)\n",
        "union_promedio = (Prediccion_texto + Prediccion_imagen)/2\n",
        "\n",
        "roc_auc_score(y_test_ima_machin, union_promedio, average='macro')"
      ],
      "execution_count": 0,
      "outputs": [
        {
          "output_type": "stream",
          "text": [
            "tamano texto (2606, 24)\n",
            "tamano imagen (2606, 24)\n"
          ],
          "name": "stdout"
        },
        {
          "output_type": "execute_result",
          "data": {
            "text/plain": [
              "0.9332119963854447"
            ]
          },
          "metadata": {
            "tags": []
          },
          "execution_count": 17
        }
      ]
    },
    {
      "metadata": {
        "id": "QgsOaHiCvCh7",
        "colab_type": "text"
      },
      "cell_type": "markdown",
      "source": [
        "Download predictions for test base in kaggle competition"
      ]
    },
    {
      "metadata": {
        "id": "pq6WnOqqbuoN",
        "colab_type": "code",
        "colab": {
          "autoexec": {
            "startup": false,
            "wait_interval": 0
          }
        }
      },
      "cell_type": "code",
      "source": [
        "y_pred_avg = (clf.predict_proba(vect.transform(dataTesting['plot'])) + clf_RF.predict_proba(pca.transform(images_testing_gray_planas)))/2\n",
        "cols = ['p_Action', 'p_Adventure', 'p_Animation', 'p_Biography', 'p_Comedy', 'p_Crime', 'p_Documentary', 'p_Drama', 'p_Family',\n",
        "        'p_Fantasy', 'p_Film-Noir', 'p_History', 'p_Horror', 'p_Music', 'p_Musical', 'p_Mystery', 'p_News', 'p_Romance',\n",
        "        'p_Sci-Fi', 'p_Short', 'p_Sport', 'p_Thriller', 'p_War', 'p_Western']\n",
        "\n",
        "pd.DataFrame(y_pred_avg, index=dataTesting.index, columns=cols).to_csv('Prediction_Machine_Learning.csv', index_label='ID')\n",
        "from google.colab import files\n",
        "files.download('Prediction_Machine_Learning.csv')"
      ],
      "execution_count": 0,
      "outputs": []
    },
    {
      "metadata": {
        "id": "9mkdCRbAn_Xx",
        "colab_type": "text"
      },
      "cell_type": "markdown",
      "source": [
        "# Deep Learning Algorithms with Images and Text"
      ]
    },
    {
      "metadata": {
        "id": "0OJVgdhUfX_z",
        "colab_type": "text"
      },
      "cell_type": "markdown",
      "source": [
        "## Convolutional Neural Network CNN  (Images)"
      ]
    },
    {
      "metadata": {
        "id": "g8ESgYkof0ZY",
        "colab_type": "text"
      },
      "cell_type": "markdown",
      "source": [
        "Black and white images were the input to execute a convolutional neuronal network."
      ]
    },
    {
      "metadata": {
        "id": "NGPxJoA2fbvq",
        "colab_type": "code",
        "colab": {
          "autoexec": {
            "startup": false,
            "wait_interval": 0
          }
        }
      },
      "cell_type": "code",
      "source": [
        "import pickle \n",
        "with open(\"drive/ProyectoFinalDeepLearnig/Images_grey_train_text.txt\", \"rb\") as fp:   # Unpickling\n",
        "   images_training_grey = pickle.load(fp)"
      ],
      "execution_count": 0,
      "outputs": []
    },
    {
      "metadata": {
        "id": "Xd58Yqbn-zx8",
        "colab_type": "code",
        "colab": {
          "autoexec": {
            "startup": false,
            "wait_interval": 0
          }
        }
      },
      "cell_type": "code",
      "source": [
        "import pickle\n",
        "with open(\"drive/ProyectoFinalDeepLearnig/Images_grey_test_text.txt\", \"rb\") as fp:   # Unpickling\n",
        "   images_testing_grey = pickle.load(fp)"
      ],
      "execution_count": 0,
      "outputs": []
    },
    {
      "metadata": {
        "id": "1wRdCjXTgkNb",
        "colab_type": "code",
        "colab": {
          "autoexec": {
            "startup": false,
            "wait_interval": 0
          },
          "base_uri": "https://localhost:8080/",
          "height": 51
        },
        "outputId": "e817a47f-a1c4-4c1a-f5a5-2471f6bf32b9",
        "executionInfo": {
          "status": "ok",
          "timestamp": 1532343922900,
          "user_tz": 300,
          "elapsed": 408,
          "user": {
            "displayName": "Ricardo Blanco",
            "photoUrl": "https://lh3.googleusercontent.com/a/default-user=s128",
            "userId": "110684667121152931194"
          }
        }
      },
      "cell_type": "code",
      "source": [
        "print(images_training_grey.shape)\n",
        "print(images_testing_grey.shape)"
      ],
      "execution_count": 0,
      "outputs": [
        {
          "output_type": "stream",
          "text": [
            "(7895, 256, 160, 1)\n",
            "(3383, 256, 160, 1)\n"
          ],
          "name": "stdout"
        }
      ]
    },
    {
      "metadata": {
        "id": "lDfXjX1egnUC",
        "colab_type": "code",
        "colab": {
          "autoexec": {
            "startup": false,
            "wait_interval": 0
          },
          "base_uri": "https://localhost:8080/",
          "height": 34
        },
        "outputId": "d169537d-45a2-4097-d5dc-29aa025e6dc7",
        "executionInfo": {
          "status": "ok",
          "timestamp": 1532343925806,
          "user_tz": 300,
          "elapsed": 838,
          "user": {
            "displayName": "Ricardo Blanco",
            "photoUrl": "https://lh3.googleusercontent.com/a/default-user=s128",
            "userId": "110684667121152931194"
          }
        }
      },
      "cell_type": "code",
      "source": [
        "from sklearn.model_selection import train_test_split\n",
        "X_train_grey, X_test_grey, y_train_grey, y_test_grey = train_test_split(images_training_grey, y_genres, test_size=0.33, random_state=31415)\n",
        "print(X_train_grey.shape, X_test_grey.shape, y_train_grey.shape, y_test_grey.shape)"
      ],
      "execution_count": 0,
      "outputs": [
        {
          "output_type": "stream",
          "text": [
            "(5289, 256, 160, 1) (2606, 256, 160, 1) (5289, 24) (2606, 24)\n"
          ],
          "name": "stdout"
        }
      ]
    },
    {
      "metadata": {
        "id": "NHPsLarV6Ic_",
        "colab_type": "text"
      },
      "cell_type": "markdown",
      "source": [
        "Loading test color images in shape (,5,5,512)"
      ]
    },
    {
      "metadata": {
        "id": "sWjg0NHrheqk",
        "colab_type": "code",
        "colab": {
          "autoexec": {
            "startup": false,
            "wait_interval": 0
          },
          "base_uri": "https://localhost:8080/",
          "height": 646
        },
        "outputId": "a2c172d3-779b-430f-8627-23b3579e4ac9",
        "executionInfo": {
          "status": "ok",
          "timestamp": 1532337681758,
          "user_tz": 300,
          "elapsed": 562,
          "user": {
            "displayName": "Ricardo Blanco",
            "photoUrl": "https://lh3.googleusercontent.com/a/default-user=s128",
            "userId": "110684667121152931194"
          }
        }
      },
      "cell_type": "code",
      "source": [
        "model_CNN = Sequential()\n",
        "model_CNN.add(Conv2D(32, (3, 3), input_shape=(256, 160,1),kernel_initializer = 'RandomNormal'))\n",
        "model_CNN.add(Activation('selu'))\n",
        "model_CNN.add(MaxPooling2D(pool_size=(2, 2)))\n",
        "\n",
        "model_CNN.add(Conv2D(32, (3, 3)))\n",
        "model_CNN.add(Activation('selu'))\n",
        "model_CNN.add(MaxPooling2D(pool_size=(2, 2)))\n",
        "\n",
        "model_CNN.add(Conv2D(64, (3, 3)))\n",
        "model_CNN.add(Activation('selu'))\n",
        "model_CNN.add(MaxPooling2D(pool_size=(2, 2)))\n",
        "\n",
        "model_CNN.add(Flatten())\n",
        "model_CNN.add(Dense(64))\n",
        "model_CNN.add(Activation('selu'))\n",
        "model_CNN.add(Dropout(0.5))\n",
        "model_CNN.add(Dense(24))\n",
        "model_CNN.add(Activation('sigmoid'))\n",
        "\n",
        "model_CNN.summary()"
      ],
      "execution_count": 0,
      "outputs": [
        {
          "output_type": "stream",
          "text": [
            "_________________________________________________________________\n",
            "Layer (type)                 Output Shape              Param #   \n",
            "=================================================================\n",
            "conv2d_1 (Conv2D)            (None, 254, 158, 32)      320       \n",
            "_________________________________________________________________\n",
            "activation_1 (Activation)    (None, 254, 158, 32)      0         \n",
            "_________________________________________________________________\n",
            "max_pooling2d_1 (MaxPooling2 (None, 127, 79, 32)       0         \n",
            "_________________________________________________________________\n",
            "conv2d_2 (Conv2D)            (None, 125, 77, 32)       9248      \n",
            "_________________________________________________________________\n",
            "activation_2 (Activation)    (None, 125, 77, 32)       0         \n",
            "_________________________________________________________________\n",
            "max_pooling2d_2 (MaxPooling2 (None, 62, 38, 32)        0         \n",
            "_________________________________________________________________\n",
            "conv2d_3 (Conv2D)            (None, 60, 36, 64)        18496     \n",
            "_________________________________________________________________\n",
            "activation_3 (Activation)    (None, 60, 36, 64)        0         \n",
            "_________________________________________________________________\n",
            "max_pooling2d_3 (MaxPooling2 (None, 30, 18, 64)        0         \n",
            "_________________________________________________________________\n",
            "flatten_1 (Flatten)          (None, 34560)             0         \n",
            "_________________________________________________________________\n",
            "dense_1 (Dense)              (None, 64)                2211904   \n",
            "_________________________________________________________________\n",
            "activation_4 (Activation)    (None, 64)                0         \n",
            "_________________________________________________________________\n",
            "dropout_1 (Dropout)          (None, 64)                0         \n",
            "_________________________________________________________________\n",
            "dense_2 (Dense)              (None, 24)                1560      \n",
            "_________________________________________________________________\n",
            "activation_5 (Activation)    (None, 24)                0         \n",
            "=================================================================\n",
            "Total params: 2,241,528\n",
            "Trainable params: 2,241,528\n",
            "Non-trainable params: 0\n",
            "_________________________________________________________________\n"
          ],
          "name": "stdout"
        }
      ]
    },
    {
      "metadata": {
        "id": "HPPBCDFrltH4",
        "colab_type": "code",
        "colab": {
          "autoexec": {
            "startup": false,
            "wait_interval": 0
          }
        }
      },
      "cell_type": "code",
      "source": [
        "rate = 0.1\n",
        "model_CNN.compile(loss='categorical_crossentropy',\n",
        "              optimizer=SGD(),\n",
        "              metrics=['acc']\n",
        "              )"
      ],
      "execution_count": 0,
      "outputs": []
    },
    {
      "metadata": {
        "id": "zc9Bb8Qjl0j5",
        "colab_type": "code",
        "colab": {
          "autoexec": {
            "startup": false,
            "wait_interval": 0
          },
          "base_uri": "https://localhost:8080/",
          "height": 326
        },
        "outputId": "b6f913d5-7e8c-4828-fbd7-78b40f5a68ef",
        "executionInfo": {
          "status": "ok",
          "timestamp": 1532341320510,
          "user_tz": 300,
          "elapsed": 195,
          "user": {
            "displayName": "Ricardo Blanco",
            "photoUrl": "https://lh3.googleusercontent.com/a/default-user=s128",
            "userId": "110684667121152931194"
          }
        }
      },
      "cell_type": "code",
      "source": [
        "batch_size = 32\n",
        "epochs = 10\n",
        "history = model_CNN.fit(X_train_grey, y_train_grey,\n",
        "                    batch_size=batch_size,\n",
        "                    epochs=epochs,\n",
        "                    verbose=1,\n",
        "                    validation_split=0.3,\n",
        "                    shuffle=False,\n",
        "                    callbacks=[PlotLossesKeras()])"
      ],
      "execution_count": 0,
      "outputs": [
        {
          "output_type": "display_data",
          "data": {
            "image/png": "[encoded data removed]",
            "text/plain": [
              "<matplotlib.figure.Figure at 0x7f3097e1e8d0>"
            ]
          },
          "metadata": {
            "tags": []
          }
        }
      ]
    },
    {
      "metadata": {
        "id": "cTcW3s4OmRmh",
        "colab_type": "code",
        "colab": {
          "autoexec": {
            "startup": false,
            "wait_interval": 0
          },
          "base_uri": "https://localhost:8080/",
          "height": 34
        },
        "outputId": "9d07a225-2df7-4ef1-a51c-2a0fbaef534b",
        "executionInfo": {
          "status": "ok",
          "timestamp": 1532341425461,
          "user_tz": 300,
          "elapsed": 68114,
          "user": {
            "displayName": "Ricardo Blanco",
            "photoUrl": "https://lh3.googleusercontent.com/a/default-user=s128",
            "userId": "110684667121152931194"
          }
        }
      },
      "cell_type": "code",
      "source": [
        "y_pred_genres = model_CNN.predict_proba(X_test_grey)\n",
        "roc_auc_score(y_test_grey, y_pred_genres, average='macro')"
      ],
      "execution_count": 0,
      "outputs": [
        {
          "output_type": "execute_result",
          "data": {
            "text/plain": [
              "0.5"
            ]
          },
          "metadata": {
            "tags": []
          },
          "execution_count": 32
        }
      ]
    },
    {
      "metadata": {
        "id": "EFJ2e_Y0ndXR",
        "colab_type": "text"
      },
      "cell_type": "markdown",
      "source": [
        "## **Transfer Learning + LSTM ** (Images)"
      ]
    },
    {
      "metadata": {
        "id": "RjQXYHpl7Y5A",
        "colab_type": "text"
      },
      "cell_type": "markdown",
      "source": [
        "### VGG16\n",
        "\n",
        "From local machines we obtained the result of the processing of the images with the algorithm VGG16, from this result we train a recurrent neural network."
      ]
    },
    {
      "metadata": {
        "id": "2D1OC26H5ppL",
        "colab_type": "code",
        "colab": {
          "autoexec": {
            "startup": false,
            "wait_interval": 0
          }
        }
      },
      "cell_type": "code",
      "source": [
        "import pickle\n",
        "with open(\"drive/ProyectoFinalDeepLearnig/training_color_160.txt\", \"rb\") as fp:   # Unpickling\n",
        "   images_training_color = pickle.load(fp)\n",
        "\n",
        "import pickle\n",
        "with open(\"drive/ProyectoFinalDeepLearnig/testing_color_160.txt\", \"rb\") as fp:   # Unpickling\n",
        "   images_testing_color = pickle.load(fp)"
      ],
      "execution_count": 0,
      "outputs": []
    },
    {
      "metadata": {
        "id": "k2kHTtmSNe-f",
        "colab_type": "code",
        "colab": {
          "autoexec": {
            "startup": false,
            "wait_interval": 0
          },
          "base_uri": "https://localhost:8080/",
          "height": 51
        },
        "outputId": "39303882-f804-4f88-b47e-cfce9f92587e",
        "executionInfo": {
          "status": "ok",
          "timestamp": 1532359901611,
          "user_tz": 300,
          "elapsed": 820,
          "user": {
            "displayName": "Ricardo Blanco",
            "photoUrl": "https://lh3.googleusercontent.com/a/default-user=s128",
            "userId": "110684667121152931194"
          }
        }
      },
      "cell_type": "code",
      "source": [
        "print(images_training_color.shape)\n",
        "print(images_testing_color.shape)"
      ],
      "execution_count": 24,
      "outputs": [
        {
          "output_type": "stream",
          "text": [
            "(7895, 5, 5, 512)\n",
            "(3383, 5, 5, 512)\n"
          ],
          "name": "stdout"
        }
      ]
    },
    {
      "metadata": {
        "id": "kMf4_gEo89Q8",
        "colab_type": "code",
        "colab": {
          "autoexec": {
            "startup": false,
            "wait_interval": 0
          },
          "base_uri": "https://localhost:8080/",
          "height": 34
        },
        "outputId": "8ce39b71-ebad-4f0c-82d4-45f2a8de6596",
        "executionInfo": {
          "status": "ok",
          "timestamp": 1532359910760,
          "user_tz": 300,
          "elapsed": 531,
          "user": {
            "displayName": "Ricardo Blanco",
            "photoUrl": "https://lh3.googleusercontent.com/a/default-user=s128",
            "userId": "110684667121152931194"
          }
        }
      },
      "cell_type": "code",
      "source": [
        "from sklearn.model_selection import train_test_split\n",
        "X_train_ima, X_test_ima, y_train_ima, y_test_ima = train_test_split(images_training_color, y_genres, test_size=0.33, random_state=31415)\n",
        "print(X_train_ima.shape, X_test_ima.shape, y_train_ima.shape, y_test_ima.shape)"
      ],
      "execution_count": 25,
      "outputs": [
        {
          "output_type": "stream",
          "text": [
            "(5289, 5, 5, 512) (2606, 5, 5, 512) (5289, 24) (2606, 24)\n"
          ],
          "name": "stdout"
        }
      ]
    },
    {
      "metadata": {
        "id": "at86YeXx9J0F",
        "colab_type": "code",
        "colab": {
          "autoexec": {
            "startup": false,
            "wait_interval": 0
          },
          "base_uri": "https://localhost:8080/",
          "height": 306
        },
        "outputId": "61f795b2-bae2-4765-f92a-7d39704e1a90",
        "executionInfo": {
          "status": "ok",
          "timestamp": 1532359916469,
          "user_tz": 300,
          "elapsed": 386,
          "user": {
            "displayName": "Ricardo Blanco",
            "photoUrl": "https://lh3.googleusercontent.com/a/default-user=s128",
            "userId": "110684667121152931194"
          }
        }
      },
      "cell_type": "code",
      "source": [
        "drop = 0.4\n",
        "model_transfer_learning=Sequential()\n",
        "model_transfer_learning.add(Flatten(input_shape=X_train_ima.shape[1:]))\n",
        "model_transfer_learning.add(Dropout(drop))\n",
        "model_transfer_learning.add(Dense(400, activation='relu',kernel_initializer = 'RandomNormal'))\n",
        "model_transfer_learning.add(Dropout(drop))\n",
        "model_transfer_learning.add(Dense(24, activation='sigmoid'))\n",
        "model_transfer_learning.summary()"
      ],
      "execution_count": 26,
      "outputs": [
        {
          "output_type": "stream",
          "text": [
            "_________________________________________________________________\n",
            "Layer (type)                 Output Shape              Param #   \n",
            "=================================================================\n",
            "flatten_1 (Flatten)          (None, 12800)             0         \n",
            "_________________________________________________________________\n",
            "dropout_2 (Dropout)          (None, 12800)             0         \n",
            "_________________________________________________________________\n",
            "dense_4 (Dense)              (None, 400)               5120400   \n",
            "_________________________________________________________________\n",
            "dropout_3 (Dropout)          (None, 400)               0         \n",
            "_________________________________________________________________\n",
            "dense_5 (Dense)              (None, 24)                9624      \n",
            "=================================================================\n",
            "Total params: 5,130,024\n",
            "Trainable params: 5,130,024\n",
            "Non-trainable params: 0\n",
            "_________________________________________________________________\n"
          ],
          "name": "stdout"
        }
      ]
    },
    {
      "metadata": {
        "id": "vbXhtXX_9w4T",
        "colab_type": "code",
        "colab": {
          "autoexec": {
            "startup": false,
            "wait_interval": 0
          },
          "base_uri": "https://localhost:8080/",
          "height": 343
        },
        "outputId": "3be84262-c1e2-4ec8-e64b-5b7c13a3f957",
        "executionInfo": {
          "status": "ok",
          "timestamp": 1532360309388,
          "user_tz": 300,
          "elapsed": 8,
          "user": {
            "displayName": "Ricardo Blanco",
            "photoUrl": "https://lh3.googleusercontent.com/a/default-user=s128",
            "userId": "110684667121152931194"
          }
        }
      },
      "cell_type": "code",
      "source": [
        "model_transfer_learning.compile(\n",
        "               optimizer=optimizers.SGD(),\n",
        "               loss='categorical_crossentropy',\n",
        "               metrics=['accuracy'])\n",
        "\n",
        "epochs=50\n",
        "batch_size = 50\n",
        "\n",
        "model_transfer_learning.fit(X_train_ima, y_train_ima,\n",
        "          epochs=epochs,\n",
        "          shuffle=False,\n",
        "          validation_split=0.3,\n",
        "          callbacks=[PlotLossesKeras()])"
      ],
      "execution_count": 27,
      "outputs": [
        {
          "output_type": "display_data",
          "data": {
            "image/png": "[encoded data removed]",
            "text/plain": [
              "<matplotlib.figure.Figure at 0x7f191d0eaf60>"
            ]
          },
          "metadata": {
            "tags": []
          }
        },
        {
          "output_type": "execute_result",
          "data": {
            "text/plain": [
              "<keras.callbacks.History at 0x7f191c3c3080>"
            ]
          },
          "metadata": {
            "tags": []
          },
          "execution_count": 27
        }
      ]
    },
    {
      "metadata": {
        "id": "V7Gc675w0DQq",
        "colab_type": "code",
        "colab": {
          "autoexec": {
            "startup": false,
            "wait_interval": 0
          },
          "base_uri": "https://localhost:8080/",
          "height": 34
        },
        "outputId": "acc46567-d188-4a00-f1ea-9859499b2952",
        "executionInfo": {
          "status": "ok",
          "timestamp": 1532360316114,
          "user_tz": 300,
          "elapsed": 1353,
          "user": {
            "displayName": "Ricardo Blanco",
            "photoUrl": "https://lh3.googleusercontent.com/a/default-user=s128",
            "userId": "110684667121152931194"
          }
        }
      },
      "cell_type": "code",
      "source": [
        "y_pred_genres = model_transfer_learning.predict_proba(X_test_ima)\n",
        "roc_auc_score(y_test_ima, y_pred_genres, average='macro')"
      ],
      "execution_count": 28,
      "outputs": [
        {
          "output_type": "execute_result",
          "data": {
            "text/plain": [
              "0.5022879887094811"
            ]
          },
          "metadata": {
            "tags": []
          },
          "execution_count": 28
        }
      ]
    },
    {
      "metadata": {
        "id": "0IxTfAz5qe-i",
        "colab_type": "text"
      },
      "cell_type": "markdown",
      "source": [
        "## Sequential Neural Network (Text)"
      ]
    },
    {
      "metadata": {
        "id": "7o33iqAxRi7S",
        "colab_type": "code",
        "colab": {
          "autoexec": {
            "startup": false,
            "wait_interval": 0
          }
        }
      },
      "cell_type": "code",
      "source": [
        "X_train_texto, X_test_texto, y_train_genres_texto, y_test_genres_texto = train_test_split(dataTraining['plot']\n",
        "                                                                  , y_genres, test_size=0.33, random_state=1250)"
      ],
      "execution_count": 0,
      "outputs": []
    },
    {
      "metadata": {
        "id": "MnJ_AKXtTyT_",
        "colab_type": "code",
        "colab": {
          "autoexec": {
            "startup": false,
            "wait_interval": 0
          }
        }
      },
      "cell_type": "code",
      "source": [
        "wordnet_lemmatizer = WordNetLemmatizer()\n",
        "def split_into_lemmas(text):\n",
        "    text = text.lower()\n",
        "    words = text.split()\n",
        "    return [wordnet_lemmatizer.lemmatize(word) for word in words]\n",
        "\n",
        "\n",
        "vect = CountVectorizer(ngram_range=(1, 3), max_features=3000, stop_words='english',analyzer=split_into_lemmas)\n",
        "X_dtm = vect.fit(X_train_texto)\n",
        "X_train_transformado = vect.transform(X_train_texto)\n",
        "X_train_transformado.shape\n",
        "X_test_transformado = vect.transform(X_test_texto)\n"
      ],
      "execution_count": 0,
      "outputs": []
    },
    {
      "metadata": {
        "id": "StUnmowWUoZz",
        "colab_type": "code",
        "colab": {
          "autoexec": {
            "startup": false,
            "wait_interval": 0
          },
          "base_uri": "https://localhost:8080/",
          "height": 51
        },
        "outputId": "ca3fbbd2-8cfb-4070-f4e2-0de5d2b7ba72",
        "executionInfo": {
          "status": "ok",
          "timestamp": 1532359628400,
          "user_tz": 300,
          "elapsed": 445,
          "user": {
            "displayName": "Ricardo Blanco",
            "photoUrl": "https://lh3.googleusercontent.com/a/default-user=s128",
            "userId": "110684667121152931194"
          }
        }
      },
      "cell_type": "code",
      "source": [
        "print(X_train_transformado.shape)\n",
        "tamano = X_train_transformado.shape[1]\n",
        "#tamano = X_train_transformado.shape\n",
        "print(tamano)"
      ],
      "execution_count": 17,
      "outputs": [
        {
          "output_type": "stream",
          "text": [
            "(5289, 3000)\n",
            "3000\n"
          ],
          "name": "stdout"
        }
      ]
    },
    {
      "metadata": {
        "id": "sDguAgC5VGnF",
        "colab_type": "code",
        "colab": {
          "autoexec": {
            "startup": false,
            "wait_interval": 0
          },
          "base_uri": "https://localhost:8080/",
          "height": 408
        },
        "outputId": "a09df024-98c7-4233-81e0-a10e53524c5e",
        "executionInfo": {
          "status": "ok",
          "timestamp": 1532359632279,
          "user_tz": 300,
          "elapsed": 480,
          "user": {
            "displayName": "Ricardo Blanco",
            "photoUrl": "https://lh3.googleusercontent.com/a/default-user=s128",
            "userId": "110684667121152931194"
          }
        }
      },
      "cell_type": "code",
      "source": [
        "model_text = Sequential()\n",
        "model_text.add(Dense(128, input_shape=(tamano,),kernel_initializer = 'RandomNormal'))\n",
        "model_text.add(Activation('sigmoid'))\n",
        "model_text.add(BatchNormalization())\n",
        "model_text.add(Dropout(0.6))\n",
        "model_text.add(Dense(50))\n",
        "model_text.add(Activation('sigmoid'))\n",
        "model_text.add(Dense(24))\n",
        "model_text.add(Activation('sigmoid'))\n",
        "model_text.summary()"
      ],
      "execution_count": 18,
      "outputs": [
        {
          "output_type": "stream",
          "text": [
            "_________________________________________________________________\n",
            "Layer (type)                 Output Shape              Param #   \n",
            "=================================================================\n",
            "dense_1 (Dense)              (None, 128)               384128    \n",
            "_________________________________________________________________\n",
            "activation_1 (Activation)    (None, 128)               0         \n",
            "_________________________________________________________________\n",
            "batch_normalization_1 (Batch (None, 128)               512       \n",
            "_________________________________________________________________\n",
            "dropout_1 (Dropout)          (None, 128)               0         \n",
            "_________________________________________________________________\n",
            "dense_2 (Dense)              (None, 50)                6450      \n",
            "_________________________________________________________________\n",
            "activation_2 (Activation)    (None, 50)                0         \n",
            "_________________________________________________________________\n",
            "dense_3 (Dense)              (None, 24)                1224      \n",
            "_________________________________________________________________\n",
            "activation_3 (Activation)    (None, 24)                0         \n",
            "=================================================================\n",
            "Total params: 392,314\n",
            "Trainable params: 392,058\n",
            "Non-trainable params: 256\n",
            "_________________________________________________________________\n"
          ],
          "name": "stdout"
        }
      ]
    },
    {
      "metadata": {
        "id": "lDtf0-1nVXIl",
        "colab_type": "code",
        "colab": {
          "autoexec": {
            "startup": false,
            "wait_interval": 0
          }
        }
      },
      "cell_type": "code",
      "source": [
        "lr = 0.1\n",
        "model_text.compile(loss='categorical_crossentropy',\n",
        "              optimizer=SGD(lr = lr),\n",
        "              metrics=['acc']\n",
        "             )\n"
      ],
      "execution_count": 0,
      "outputs": []
    },
    {
      "metadata": {
        "id": "pgOvLqdoVj-I",
        "colab_type": "code",
        "colab": {
          "autoexec": {
            "startup": false,
            "wait_interval": 0
          },
          "base_uri": "https://localhost:8080/",
          "height": 326
        },
        "outputId": "8591f744-057d-4bd5-c147-562bcecdb8b8",
        "executionInfo": {
          "status": "ok",
          "timestamp": 1532359748865,
          "user_tz": 300,
          "elapsed": 6,
          "user": {
            "displayName": "Ricardo Blanco",
            "photoUrl": "https://lh3.googleusercontent.com/a/default-user=s128",
            "userId": "110684667121152931194"
          }
        }
      },
      "cell_type": "code",
      "source": [
        "%matplotlib inline\n",
        "\n",
        "batch_size = 32\n",
        "epochs = 50\n",
        "history = model_text.fit(X_train_transformado, y_train_genres_texto,\n",
        "                    batch_size=batch_size,\n",
        "                    epochs=epochs,\n",
        "                    verbose=1,\n",
        "                    shuffle=False,\n",
        "                    validation_split=0.3,     \n",
        "                   callbacks=[PlotLossesKeras()])"
      ],
      "execution_count": 20,
      "outputs": [
        {
          "output_type": "display_data",
          "data": {
            "image/png": "[encoded data removed]",
            "text/plain": [
              "<matplotlib.figure.Figure at 0x7f191ce48518>"
            ]
          },
          "metadata": {
            "tags": []
          }
        }
      ]
    },
    {
      "metadata": {
        "id": "4Lnl4vUuV92C",
        "colab_type": "code",
        "colab": {
          "autoexec": {
            "startup": false,
            "wait_interval": 0
          },
          "base_uri": "https://localhost:8080/",
          "height": 34
        },
        "outputId": "1bdf9f27-a0a0-4582-a724-a689aa46b9d0",
        "executionInfo": {
          "status": "ok",
          "timestamp": 1532359806133,
          "user_tz": 300,
          "elapsed": 709,
          "user": {
            "displayName": "Ricardo Blanco",
            "photoUrl": "https://lh3.googleusercontent.com/a/default-user=s128",
            "userId": "110684667121152931194"
          }
        }
      },
      "cell_type": "code",
      "source": [
        "y_pred_genres = model_text.predict_proba(X_test_transformado)\n",
        "roc_auc_score(y_test_genres_texto, y_pred_genres, average='macro')"
      ],
      "execution_count": 21,
      "outputs": [
        {
          "output_type": "execute_result",
          "data": {
            "text/plain": [
              "0.8421097274014211"
            ]
          },
          "metadata": {
            "tags": []
          },
          "execution_count": 21
        }
      ]
    },
    {
      "metadata": {
        "id": "Islbw2cbq14B",
        "colab_type": "text"
      },
      "cell_type": "markdown",
      "source": [
        "## Recurrent Neural Network (Text)\n",
        "\n"
      ]
    },
    {
      "metadata": {
        "id": "rRQ-j_Kep87B",
        "colab_type": "code",
        "colab": {
          "autoexec": {
            "startup": false,
            "wait_interval": 0
          }
        }
      },
      "cell_type": "code",
      "source": [
        "X = dataTraining['plot'].tolist()"
      ],
      "execution_count": 0,
      "outputs": []
    },
    {
      "metadata": {
        "id": "DbQNgMO1q1Bp",
        "colab_type": "code",
        "colab": {
          "autoexec": {
            "startup": false,
            "wait_interval": 0
          }
        }
      },
      "cell_type": "code",
      "source": [
        "voc = set(''.join(X))\n",
        "vocabulary = {x: idx + 1 for idx, x in enumerate(set(voc))}"
      ],
      "execution_count": 0,
      "outputs": []
    },
    {
      "metadata": {
        "id": "QhK91rWVq6Q6",
        "colab_type": "code",
        "colab": {
          "autoexec": {
            "startup": false,
            "wait_interval": 0
          }
        }
      },
      "cell_type": "code",
      "source": [
        "max_plot_len = 150\n",
        "X = [x[:max_plot_len] for x in X]\n",
        "\n",
        "X = [[vocabulary[x1] for x1 in x if x1 in vocabulary.keys()] for x in X]"
      ],
      "execution_count": 0,
      "outputs": []
    },
    {
      "metadata": {
        "id": "VsPqFOjKrChd",
        "colab_type": "code",
        "colab": {
          "autoexec": {
            "startup": false,
            "wait_interval": 0
          },
          "base_uri": "https://localhost:8080/",
          "height": 136
        },
        "outputId": "e224fb57-12b1-48c2-d2d9-1cbad282102f",
        "executionInfo": {
          "status": "ok",
          "timestamp": 1532347995812,
          "user_tz": 300,
          "elapsed": 560,
          "user": {
            "displayName": "Ricardo Blanco",
            "photoUrl": "https://lh3.googleusercontent.com/a/default-user=s128",
            "userId": "110684667121152931194"
          }
        }
      },
      "cell_type": "code",
      "source": [
        "X_pad = sequence.pad_sequences(X, maxlen=max_plot_len)\n",
        "X_pad"
      ],
      "execution_count": 0,
      "outputs": [
        {
          "output_type": "execute_result",
          "data": {
            "text/plain": [
              "array([[13, 16, 45, ...,  2,  2, 44],\n",
              "       [ 0,  0,  0, ...,  6,  2, 60],\n",
              "       [73, 34,  2, ..., 73, 57,  2],\n",
              "       ...,\n",
              "       [57, 73,  6, ..., 73, 34, 14],\n",
              "       [13, 50, 45, ..., 61, 47, 21],\n",
              "       [ 0,  0,  0, ..., 21,  2, 60]], dtype=int32)"
            ]
          },
          "metadata": {
            "tags": []
          },
          "execution_count": 42
        }
      ]
    },
    {
      "metadata": {
        "id": "xC9Ca0GZrGj9",
        "colab_type": "code",
        "colab": {
          "autoexec": {
            "startup": false,
            "wait_interval": 0
          },
          "base_uri": "https://localhost:8080/",
          "height": 136
        },
        "outputId": "63e6315d-8981-4074-fb97-3fbb4d1e1f97",
        "executionInfo": {
          "status": "ok",
          "timestamp": 1532347997440,
          "user_tz": 300,
          "elapsed": 394,
          "user": {
            "displayName": "Ricardo Blanco",
            "photoUrl": "https://lh3.googleusercontent.com/a/default-user=s128",
            "userId": "110684667121152931194"
          }
        }
      },
      "cell_type": "code",
      "source": [
        "y_genres"
      ],
      "execution_count": 0,
      "outputs": [
        {
          "output_type": "execute_result",
          "data": {
            "text/plain": [
              "array([[0, 0, 0, ..., 0, 0, 0],\n",
              "       [0, 0, 0, ..., 0, 0, 0],\n",
              "       [0, 0, 0, ..., 1, 0, 0],\n",
              "       ...,\n",
              "       [0, 1, 0, ..., 0, 0, 0],\n",
              "       [0, 1, 1, ..., 0, 0, 0],\n",
              "       [0, 1, 1, ..., 0, 0, 0]])"
            ]
          },
          "metadata": {
            "tags": []
          },
          "execution_count": 43
        }
      ]
    },
    {
      "metadata": {
        "id": "KEvC3vfsrUXZ",
        "colab_type": "code",
        "colab": {
          "autoexec": {
            "startup": false,
            "wait_interval": 0
          }
        }
      },
      "cell_type": "code",
      "source": [
        "X_train_rec, X_test_rec, y_train_rec, y_test_rec = train_test_split(X_pad, y_genres, test_size=0.30, random_state=180720)"
      ],
      "execution_count": 0,
      "outputs": []
    },
    {
      "metadata": {
        "id": "ovSntj47rdyl",
        "colab_type": "text"
      },
      "cell_type": "markdown",
      "source": [
        "LSTM neural network definition\n",
        "\n"
      ]
    },
    {
      "metadata": {
        "id": "mGGpeJ40rcwv",
        "colab_type": "code",
        "colab": {
          "autoexec": {
            "startup": false,
            "wait_interval": 0
          },
          "base_uri": "https://localhost:8080/",
          "height": 374
        },
        "outputId": "55a2c34c-4605-496e-cff1-212e14884477",
        "executionInfo": {
          "status": "ok",
          "timestamp": 1532348224429,
          "user_tz": 300,
          "elapsed": 905,
          "user": {
            "displayName": "Ricardo Blanco",
            "photoUrl": "https://lh3.googleusercontent.com/a/default-user=s128",
            "userId": "110684667121152931194"
          }
        }
      },
      "cell_type": "code",
      "source": [
        "%matplotlib inline\n",
        "\n",
        "model_rec = Sequential()\n",
        "model_rec.add(Embedding(len(vocabulary) + 1, 128, input_length=max_plot_len))\n",
        "model_rec.add(Dropout(0.3))\n",
        "model_rec.add(LSTM(128, return_sequences = True))\n",
        "model_rec.add(Dropout(0.3))\n",
        "model_rec.add(LSTM(64))\n",
        "model_rec.add(Dropout(0.3))\n",
        "model_rec.add(Dense(24, activation='sigmoid'))\n",
        "\n",
        "model_rec.summary()"
      ],
      "execution_count": 0,
      "outputs": [
        {
          "output_type": "stream",
          "text": [
            "_________________________________________________________________\n",
            "Layer (type)                 Output Shape              Param #   \n",
            "=================================================================\n",
            "embedding_1 (Embedding)      (None, 150, 128)          9600      \n",
            "_________________________________________________________________\n",
            "dropout_5 (Dropout)          (None, 150, 128)          0         \n",
            "_________________________________________________________________\n",
            "lstm_1 (LSTM)                (None, 150, 128)          131584    \n",
            "_________________________________________________________________\n",
            "dropout_6 (Dropout)          (None, 150, 128)          0         \n",
            "_________________________________________________________________\n",
            "lstm_2 (LSTM)                (None, 64)                49408     \n",
            "_________________________________________________________________\n",
            "dropout_7 (Dropout)          (None, 64)                0         \n",
            "_________________________________________________________________\n",
            "dense_9 (Dense)              (None, 24)                1560      \n",
            "=================================================================\n",
            "Total params: 192,152\n",
            "Trainable params: 192,152\n",
            "Non-trainable params: 0\n",
            "_________________________________________________________________\n"
          ],
          "name": "stdout"
        }
      ]
    },
    {
      "metadata": {
        "id": "MHcs_NsAr4BD",
        "colab_type": "code",
        "colab": {
          "autoexec": {
            "startup": false,
            "wait_interval": 0
          },
          "base_uri": "https://localhost:8080/",
          "height": 343
        },
        "outputId": "5268b181-c167-4484-fbaa-09f2ee3781df",
        "executionInfo": {
          "status": "ok",
          "timestamp": 1532348789675,
          "user_tz": 300,
          "elapsed": 175,
          "user": {
            "displayName": "Ricardo Blanco",
            "photoUrl": "https://lh3.googleusercontent.com/a/default-user=s128",
            "userId": "110684667121152931194"
          }
        }
      },
      "cell_type": "code",
      "source": [
        "model_rec.compile(optimizer=optimizers.RMSprop(lr = 0.01, decay = 0.01),\n",
        "               loss='binary_crossentropy',\n",
        "               metrics=['accuracy'])\n",
        "\n",
        "model_rec.fit(X_train_rec, y_train_rec, validation_data=[X_test_rec, y_test_rec], epochs=10, batch_size=128,\n",
        "          callbacks=[PlotLossesKeras()])"
      ],
      "execution_count": 0,
      "outputs": [
        {
          "output_type": "display_data",
          "data": {
            "image/png": "[encoded data removed]",
            "text/plain": [
              "<matplotlib.figure.Figure at 0x7fcf3dd79630>"
            ]
          },
          "metadata": {
            "tags": []
          }
        },
        {
          "output_type": "execute_result",
          "data": {
            "text/plain": [
              "<keras.callbacks.History at 0x7fcf42404f60>"
            ]
          },
          "metadata": {
            "tags": []
          },
          "execution_count": 48
        }
      ]
    },
    {
      "metadata": {
        "id": "sHy1s9Uwr6u5",
        "colab_type": "code",
        "colab": {
          "autoexec": {
            "startup": false,
            "wait_interval": 0
          },
          "base_uri": "https://localhost:8080/",
          "height": 34
        },
        "outputId": "ca93e108-c4f2-41c7-e76c-76fe463b57f6",
        "executionInfo": {
          "status": "ok",
          "timestamp": 1532348843825,
          "user_tz": 300,
          "elapsed": 7829,
          "user": {
            "displayName": "Ricardo Blanco",
            "photoUrl": "https://lh3.googleusercontent.com/a/default-user=s128",
            "userId": "110684667121152931194"
          }
        }
      },
      "cell_type": "code",
      "source": [
        "ypred_rec=model_rec.predict(X_test_rec)\n",
        "from sklearn.metrics import roc_auc_score\n",
        "\n",
        "print('ROC',roc_auc_score(y_test_rec,ypred_rec,average='macro'))"
      ],
      "execution_count": 0,
      "outputs": [
        {
          "output_type": "stream",
          "text": [
            "ROC 0.49951150266257677\n"
          ],
          "name": "stdout"
        }
      ]
    },
    {
      "metadata": {
        "id": "9Nv7R8mKWrSU",
        "colab_type": "text"
      },
      "cell_type": "markdown",
      "source": [
        "## Combine Outputs (Images + Text)"
      ]
    },
    {
      "metadata": {
        "id": "LOhMpS5ars-P",
        "colab_type": "text"
      },
      "cell_type": "markdown",
      "source": [
        "We combine the outputs of the sequential model of text and of transfer learning of images as input of a neural network"
      ]
    },
    {
      "metadata": {
        "id": "L7AHk85x0o2u",
        "colab_type": "code",
        "colab": {
          "autoexec": {
            "startup": false,
            "wait_interval": 0
          },
          "base_uri": "https://localhost:8080/",
          "height": 34
        },
        "outputId": "3cecf871-e23e-41a0-b763-8eb6f867728d",
        "executionInfo": {
          "status": "ok",
          "timestamp": 1532361438687,
          "user_tz": 300,
          "elapsed": 373,
          "user": {
            "displayName": "Ricardo Blanco",
            "photoUrl": "https://lh3.googleusercontent.com/a/default-user=s128",
            "userId": "110684667121152931194"
          }
        }
      },
      "cell_type": "code",
      "source": [
        "X_train_ima, X_test_ima, y_train_ima, y_test_ima, X_train_texto, X_test_texto = train_test_split(images_training_color, y_genres,dataTraining['plot'], \n",
        "                                                                                                 test_size=0.33, random_state=560)\n",
        "print(X_train_ima.shape, X_test_ima.shape, y_train_ima.shape, y_test_ima.shape,X_train_texto.shape, X_test_texto.shape)"
      ],
      "execution_count": 48,
      "outputs": [
        {
          "output_type": "stream",
          "text": [
            "(5289, 5, 5, 512) (2606, 5, 5, 512) (5289, 24) (2606, 24) (5289,) (2606,)\n"
          ],
          "name": "stdout"
        }
      ]
    },
    {
      "metadata": {
        "id": "Ou9Hq9E41lRH",
        "colab_type": "code",
        "colab": {
          "autoexec": {
            "startup": false,
            "wait_interval": 0
          },
          "base_uri": "https://localhost:8080/",
          "height": 51
        },
        "outputId": "bb44f5a7-1ede-4666-a3e0-91cea39e5bfe",
        "executionInfo": {
          "status": "ok",
          "timestamp": 1532361460377,
          "user_tz": 300,
          "elapsed": 9403,
          "user": {
            "displayName": "Ricardo Blanco",
            "photoUrl": "https://lh3.googleusercontent.com/a/default-user=s128",
            "userId": "110684667121152931194"
          }
        }
      },
      "cell_type": "code",
      "source": [
        "train_prediccion_texto = model_text.predict_proba(vect.transform(X_train_texto))\n",
        "train_prediccion_imagen = model_transfer_learning.predict_proba(X_train_ima)\n",
        "x_train_union = np.concatenate((train_prediccion_texto, train_prediccion_imagen), axis=1)\n",
        "print(x_train_union.shape)\n",
        "\n",
        "train_prediccion_texto = model_text.predict_proba(vect.transform(X_test_texto))\n",
        "train_prediccion_imagen = model_transfer_learning.predict_proba(X_test_ima)\n",
        "x_test_union = np.concatenate((train_prediccion_texto, train_prediccion_imagen), axis=1)\n",
        "print(x_test_union.shape)\n",
        "shape_pred = x_train_union.shape[1]"
      ],
      "execution_count": 50,
      "outputs": [
        {
          "output_type": "stream",
          "text": [
            "(5289, 48)\n",
            "(2606, 48)\n"
          ],
          "name": "stdout"
        }
      ]
    },
    {
      "metadata": {
        "id": "eDNcSQfFE9pA",
        "colab_type": "code",
        "colab": {
          "autoexec": {
            "startup": false,
            "wait_interval": 0
          },
          "base_uri": "https://localhost:8080/",
          "height": 272
        },
        "outputId": "1f8cbfdd-db83-407f-f62b-5c8a01025d3d",
        "executionInfo": {
          "status": "ok",
          "timestamp": 1532361463530,
          "user_tz": 300,
          "elapsed": 394,
          "user": {
            "displayName": "Ricardo Blanco",
            "photoUrl": "https://lh3.googleusercontent.com/a/default-user=s128",
            "userId": "110684667121152931194"
          }
        }
      },
      "cell_type": "code",
      "source": [
        "model_union_predict_input = Sequential()\n",
        "model_union_predict_input.add(Dense(24, input_shape=(shape_pred,),kernel_initializer = 'RandomNormal'))\n",
        "model_union_predict_input.add(Activation('sigmoid'))\n",
        "model_union_predict_input.add(Dense(24))\n",
        "model_union_predict_input.add(Activation('sigmoid'))\n",
        "model_union_predict_input.summary()"
      ],
      "execution_count": 51,
      "outputs": [
        {
          "output_type": "stream",
          "text": [
            "_________________________________________________________________\n",
            "Layer (type)                 Output Shape              Param #   \n",
            "=================================================================\n",
            "dense_12 (Dense)             (None, 24)                1176      \n",
            "_________________________________________________________________\n",
            "activation_10 (Activation)   (None, 24)                0         \n",
            "_________________________________________________________________\n",
            "dense_13 (Dense)             (None, 24)                600       \n",
            "_________________________________________________________________\n",
            "activation_11 (Activation)   (None, 24)                0         \n",
            "=================================================================\n",
            "Total params: 1,776\n",
            "Trainable params: 1,776\n",
            "Non-trainable params: 0\n",
            "_________________________________________________________________\n"
          ],
          "name": "stdout"
        }
      ]
    },
    {
      "metadata": {
        "id": "Zlb3h446Fsnj",
        "colab_type": "code",
        "colab": {
          "autoexec": {
            "startup": false,
            "wait_interval": 0
          },
          "base_uri": "https://localhost:8080/",
          "height": 326
        },
        "outputId": "1c30577f-e6dc-48ec-da4b-5773167378f9",
        "executionInfo": {
          "status": "ok",
          "timestamp": 1532361497887,
          "user_tz": 300,
          "elapsed": 161,
          "user": {
            "displayName": "Ricardo Blanco",
            "photoUrl": "https://lh3.googleusercontent.com/a/default-user=s128",
            "userId": "110684667121152931194"
          }
        }
      },
      "cell_type": "code",
      "source": [
        "rate = 0.1\n",
        "model_union_predict_input.compile(loss='categorical_crossentropy',\n",
        "              optimizer=Adam(),                         \n",
        "              metrics=['acc']\n",
        "          )\n",
        "batch_size = 32\n",
        "epochs = 50\n",
        "history = model_union_predict_input.fit(x_train_union, y_train_ima,\n",
        "                    epochs=epochs,\n",
        "                    verbose=1,\n",
        "                    shuffle=False,\n",
        "                    validation_split=0.3,\n",
        "                   callbacks=[PlotLossesKeras()])"
      ],
      "execution_count": 52,
      "outputs": [
        {
          "output_type": "display_data",
          "data": {
            "image/png": "[encoded data removed]",
            "text/plain": [
              "<matplotlib.figure.Figure at 0x7f1918e00390>"
            ]
          },
          "metadata": {
            "tags": []
          }
        }
      ]
    },
    {
      "metadata": {
        "id": "iIiYCpzCF1A7",
        "colab_type": "code",
        "colab": {
          "autoexec": {
            "startup": false,
            "wait_interval": 0
          },
          "base_uri": "https://localhost:8080/",
          "height": 34
        },
        "outputId": "a448f176-18d1-4743-830b-159208527689",
        "executionInfo": {
          "status": "ok",
          "timestamp": 1532361504259,
          "user_tz": 300,
          "elapsed": 553,
          "user": {
            "displayName": "Ricardo Blanco",
            "photoUrl": "https://lh3.googleusercontent.com/a/default-user=s128",
            "userId": "110684667121152931194"
          }
        }
      },
      "cell_type": "code",
      "source": [
        "y_pred_genres = model_union_predict_input.predict_proba(x_test_union)\n",
        "roc_auc_score(y_test_ima, y_pred_genres, average='macro')"
      ],
      "execution_count": 53,
      "outputs": [
        {
          "output_type": "execute_result",
          "data": {
            "text/plain": [
              "0.8889517182136649"
            ]
          },
          "metadata": {
            "tags": []
          },
          "execution_count": 53
        }
      ]
    },
    {
      "metadata": {
        "id": "PK02wXvtVH53",
        "colab_type": "code",
        "colab": {
          "autoexec": {
            "startup": false,
            "wait_interval": 0
          }
        }
      },
      "cell_type": "code",
      "source": [
        "x_kaggle_union = np.concatenate((model_text.predict_proba(vect.transform(dataTesting['plot'])), model_transfer_learning.predict_proba(images_testing_color)), axis=1)\n",
        "y_pred_kaggle_model = model_union_predict_input.predict_proba(x_kaggle_union)\n",
        "\n",
        "cols = ['p_Action', 'p_Adventure', 'p_Animation', 'p_Biography', 'p_Comedy', 'p_Crime', 'p_Documentary', 'p_Drama', 'p_Family',\n",
        "        'p_Fantasy', 'p_Film-Noir', 'p_History', 'p_Horror', 'p_Music', 'p_Musical', 'p_Mystery', 'p_News', 'p_Romance',\n",
        "        'p_Sci-Fi', 'p_Short', 'p_Sport', 'p_Thriller', 'p_War', 'p_Western']\n",
        "\n",
        "pd.DataFrame(y_pred_kaggle_model, index=dataTesting.index, columns=cols).to_csv('Prediction_Deep_Learning_v1.csv', index_label='ID')"
      ],
      "execution_count": 0,
      "outputs": []
    },
    {
      "metadata": {
        "id": "9jrEqkP8WW6f",
        "colab_type": "code",
        "colab": {
          "autoexec": {
            "startup": false,
            "wait_interval": 0
          }
        }
      },
      "cell_type": "code",
      "source": [
        "from google.colab import files\n",
        "files.download('Prediction_Deep_Learning_v1.csv')"
      ],
      "execution_count": 0,
      "outputs": []
    },
    {
      "metadata": {
        "id": "zVa0gawZBnti",
        "colab_type": "text"
      },
      "cell_type": "markdown",
      "source": [
        "##Combine Imputs  (Images + Text)"
      ]
    },
    {
      "metadata": {
        "id": "rgcEyVnRs42V",
        "colab_type": "text"
      },
      "cell_type": "markdown",
      "source": [
        "We combine the imput as input of a neural network"
      ]
    },
    {
      "metadata": {
        "id": "Gyrdm94x7sIX",
        "colab_type": "code",
        "colab": {
          "autoexec": {
            "startup": false,
            "wait_interval": 0
          },
          "base_uri": "https://localhost:8080/",
          "height": 34
        },
        "outputId": "78304ac3-ed03-44fa-9cb4-5131b4c71b40",
        "executionInfo": {
          "status": "ok",
          "timestamp": 1532362679579,
          "user_tz": 300,
          "elapsed": 564,
          "user": {
            "displayName": "Ricardo Blanco",
            "photoUrl": "https://lh3.googleusercontent.com/a/default-user=s128",
            "userId": "110684667121152931194"
          }
        }
      },
      "cell_type": "code",
      "source": [
        "X_train_ima, X_test_ima, y_train, y_test, X_train_text, X_test_text = train_test_split(images_training_color, y_genres, dataTraining['plot'], test_size=0.33, random_state=31415)\n",
        "print(X_train_ima.shape, X_test_ima.shape, y_train.shape, y_test.shape, X_train_text.shape,X_test_text.shape )"
      ],
      "execution_count": 63,
      "outputs": [
        {
          "output_type": "stream",
          "text": [
            "(5289, 5, 5, 512) (2606, 5, 5, 512) (5289, 24) (2606, 24) (5289,) (2606,)\n"
          ],
          "name": "stdout"
        }
      ]
    },
    {
      "metadata": {
        "id": "KnF6ZjcLDS1T",
        "colab_type": "code",
        "colab": {
          "autoexec": {
            "startup": false,
            "wait_interval": 0
          },
          "base_uri": "https://localhost:8080/",
          "height": 34
        },
        "outputId": "061a4c00-5d47-4ec7-a240-7f4c4d206613",
        "executionInfo": {
          "status": "ok",
          "timestamp": 1532362759051,
          "user_tz": 300,
          "elapsed": 4278,
          "user": {
            "displayName": "Ricardo Blanco",
            "photoUrl": "https://lh3.googleusercontent.com/a/default-user=s128",
            "userId": "110684667121152931194"
          }
        }
      },
      "cell_type": "code",
      "source": [
        "Input_image = Input(shape=(5,5,512), name='input1')\n",
        "X_train_transformado = vect.transform(X_train_text)\n",
        "tam_texto = X_train_transformado.shape[1:]\n",
        "print (X_train_transformado.shape[1:])\n",
        "Input_text = Input(shape=tam_texto, name = 'input2')"
      ],
      "execution_count": 65,
      "outputs": [
        {
          "output_type": "stream",
          "text": [
            "(3000,)\n"
          ],
          "name": "stdout"
        }
      ]
    },
    {
      "metadata": {
        "id": "2VmfAOdODxao",
        "colab_type": "code",
        "colab": {
          "autoexec": {
            "startup": false,
            "wait_interval": 0
          }
        }
      },
      "cell_type": "code",
      "source": [
        "#Codigo inspirado en https://www.kaggle.com/hireme/two-inputs-neural-network-using-keras\n",
        "\n",
        "x = Flatten()(Input_image)\n",
        "x = Dropout(0.5)(x)\n",
        "x = Dense(400)(x)\n",
        "x = BatchNormalization()(x)\n",
        "x = Activation('tanh')(x)\n",
        "x = Dropout(0.5)(x)\n",
        "x = Dense(24)(x)\n",
        "x = Activation('sigmoid')(x)\n",
        "x = concatenate([x, Input_text])\n",
        "x = Dense(128)(x)\n",
        "x = Activation('sigmoid')(x)\n",
        "x = BatchNormalization()(x)\n",
        "x = Dropout(0.6)(x)\n",
        "x = Dense(50)(x)\n",
        "x = Activation('sigmoid')(x)\n",
        "out = Dense(24, activation='sigmoid')(x)"
      ],
      "execution_count": 0,
      "outputs": []
    },
    {
      "metadata": {
        "id": "-JRZMRAgGu1Q",
        "colab_type": "code",
        "colab": {
          "autoexec": {
            "startup": false,
            "wait_interval": 0
          },
          "base_uri": "https://localhost:8080/",
          "height": 765
        },
        "outputId": "9bf55dbb-1215-4415-c779-b54e72c1b443",
        "executionInfo": {
          "status": "ok",
          "timestamp": 1532362764467,
          "user_tz": 300,
          "elapsed": 370,
          "user": {
            "displayName": "Ricardo Blanco",
            "photoUrl": "https://lh3.googleusercontent.com/a/default-user=s128",
            "userId": "110684667121152931194"
          }
        }
      },
      "cell_type": "code",
      "source": [
        "model = Model(inputs=[Input_image, Input_text], outputs=out)\n",
        "model.summary()"
      ],
      "execution_count": 67,
      "outputs": [
        {
          "output_type": "stream",
          "text": [
            "__________________________________________________________________________________________________\n",
            "Layer (type)                    Output Shape         Param #     Connected to                     \n",
            "==================================================================================================\n",
            "input1 (InputLayer)             (None, 5, 5, 512)    0                                            \n",
            "__________________________________________________________________________________________________\n",
            "flatten_4 (Flatten)             (None, 12800)        0           input1[0][0]                     \n",
            "__________________________________________________________________________________________________\n",
            "dropout_7 (Dropout)             (None, 12800)        0           flatten_4[0][0]                  \n",
            "__________________________________________________________________________________________________\n",
            "dense_19 (Dense)                (None, 400)          5120400     dropout_7[0][0]                  \n",
            "__________________________________________________________________________________________________\n",
            "batch_normalization_4 (BatchNor (None, 400)          1600        dense_19[0][0]                   \n",
            "__________________________________________________________________________________________________\n",
            "activation_16 (Activation)      (None, 400)          0           batch_normalization_4[0][0]      \n",
            "__________________________________________________________________________________________________\n",
            "dropout_8 (Dropout)             (None, 400)          0           activation_16[0][0]              \n",
            "__________________________________________________________________________________________________\n",
            "dense_20 (Dense)                (None, 24)           9624        dropout_8[0][0]                  \n",
            "__________________________________________________________________________________________________\n",
            "activation_17 (Activation)      (None, 24)           0           dense_20[0][0]                   \n",
            "__________________________________________________________________________________________________\n",
            "input2 (InputLayer)             (None, 3000)         0                                            \n",
            "__________________________________________________________________________________________________\n",
            "concatenate_2 (Concatenate)     (None, 3024)         0           activation_17[0][0]              \n",
            "                                                                 input2[0][0]                     \n",
            "__________________________________________________________________________________________________\n",
            "dense_21 (Dense)                (None, 128)          387200      concatenate_2[0][0]              \n",
            "__________________________________________________________________________________________________\n",
            "activation_18 (Activation)      (None, 128)          0           dense_21[0][0]                   \n",
            "__________________________________________________________________________________________________\n",
            "batch_normalization_5 (BatchNor (None, 128)          512         activation_18[0][0]              \n",
            "__________________________________________________________________________________________________\n",
            "dropout_9 (Dropout)             (None, 128)          0           batch_normalization_5[0][0]      \n",
            "__________________________________________________________________________________________________\n",
            "dense_22 (Dense)                (None, 50)           6450        dropout_9[0][0]                  \n",
            "__________________________________________________________________________________________________\n",
            "activation_19 (Activation)      (None, 50)           0           dense_22[0][0]                   \n",
            "__________________________________________________________________________________________________\n",
            "dense_23 (Dense)                (None, 24)           1224        activation_19[0][0]              \n",
            "==================================================================================================\n",
            "Total params: 5,527,010\n",
            "Trainable params: 5,525,954\n",
            "Non-trainable params: 1,056\n",
            "__________________________________________________________________________________________________\n"
          ],
          "name": "stdout"
        }
      ]
    },
    {
      "metadata": {
        "id": "2GFW-FOiJ-sm",
        "colab_type": "code",
        "colab": {
          "autoexec": {
            "startup": false,
            "wait_interval": 0
          }
        }
      },
      "cell_type": "code",
      "source": [
        "rate=0.02\n",
        "model.compile(\n",
        "               optimizer=optimizers.SGD(lr = rate),\n",
        "               loss='categorical_crossentropy',\n",
        "               metrics=['accuracy'])"
      ],
      "execution_count": 0,
      "outputs": []
    },
    {
      "metadata": {
        "id": "fMF-aBTAEaY_",
        "colab_type": "code",
        "colab": {
          "autoexec": {
            "startup": false,
            "wait_interval": 0
          },
          "base_uri": "https://localhost:8080/",
          "height": 343
        },
        "outputId": "0b63c53e-b62a-40f2-ce0a-2f05946b043b",
        "executionInfo": {
          "status": "ok",
          "timestamp": 1532363229282,
          "user_tz": 300,
          "elapsed": 163,
          "user": {
            "displayName": "Ricardo Blanco",
            "photoUrl": "https://lh3.googleusercontent.com/a/default-user=s128",
            "userId": "110684667121152931194"
          }
        }
      },
      "cell_type": "code",
      "source": [
        "epochs=50\n",
        "batch_size = 50\n",
        "\n",
        "model.fit([X_train_ima,X_train_transformado], y_train,\n",
        "          epochs=epochs,\n",
        "          shuffle=False,\n",
        "          validation_split=0.3,\n",
        "          callbacks=[PlotLossesKeras()])"
      ],
      "execution_count": 69,
      "outputs": [
        {
          "output_type": "display_data",
          "data": {
            "image/png": "[encoded data removed]",
            "text/plain": [
              "<matplotlib.figure.Figure at 0x7f1919ef6400>"
            ]
          },
          "metadata": {
            "tags": []
          }
        },
        {
          "output_type": "execute_result",
          "data": {
            "text/plain": [
              "<keras.callbacks.History at 0x7f191c2ada20>"
            ]
          },
          "metadata": {
            "tags": []
          },
          "execution_count": 69
        }
      ]
    },
    {
      "metadata": {
        "id": "lp5B13TDJKEw",
        "colab_type": "code",
        "colab": {
          "autoexec": {
            "startup": false,
            "wait_interval": 0
          },
          "base_uri": "https://localhost:8080/",
          "height": 34
        },
        "outputId": "9c1e1a64-890e-43f2-d17e-12ff8576b6ce",
        "executionInfo": {
          "status": "ok",
          "timestamp": 1532363753871,
          "user_tz": 300,
          "elapsed": 3775,
          "user": {
            "displayName": "Ricardo Blanco",
            "photoUrl": "https://lh3.googleusercontent.com/a/default-user=s128",
            "userId": "110684667121152931194"
          }
        }
      },
      "cell_type": "code",
      "source": [
        "y_pred_genres = model.predict([X_test_ima,vect.transform(X_test_text)])\n",
        "roc_auc_score(y_test, y_pred_genres, average='macro')"
      ],
      "execution_count": 70,
      "outputs": [
        {
          "output_type": "execute_result",
          "data": {
            "text/plain": [
              "0.8360341254378613"
            ]
          },
          "metadata": {
            "tags": []
          },
          "execution_count": 70
        }
      ]
    },
    {
      "metadata": {
        "id": "HeloV9ydONDe",
        "colab_type": "code",
        "colab": {
          "autoexec": {
            "startup": false,
            "wait_interval": 0
          }
        }
      },
      "cell_type": "code",
      "source": [
        "y_pred_avg = model.predict([images_testing_color,vect.transform(dataTesting['plot'])])\n",
        "\n",
        "cols = ['p_Action', 'p_Adventure', 'p_Animation', 'p_Biography', 'p_Comedy', 'p_Crime', 'p_Documentary', 'p_Drama', 'p_Family',\n",
        "        'p_Fantasy', 'p_Film-Noir', 'p_History', 'p_Horror', 'p_Music', 'p_Musical', 'p_Mystery', 'p_News', 'p_Romance',\n",
        "        'p_Sci-Fi', 'p_Short', 'p_Sport', 'p_Thriller', 'p_War', 'p_Western']\n",
        "\n",
        "pd.DataFrame(y_pred_avg, index=dataTesting.index, columns=cols).to_csv('Prediction_Deep_Learning_v2.csv', index_label='ID')\n"
      ],
      "execution_count": 0,
      "outputs": []
    },
    {
      "metadata": {
        "id": "28Yh7RI0jEys",
        "colab_type": "code",
        "colab": {
          "autoexec": {
            "startup": false,
            "wait_interval": 0
          }
        }
      },
      "cell_type": "code",
      "source": [
        "from google.colab import files\n",
        "files.download('Prediction_Deep_Learning_v2.csv')"
      ],
      "execution_count": 0,
      "outputs": []
    },
    {
      "metadata": {
        "id": "I75YvqOt_4RR",
        "colab_type": "code",
        "colab": {
          "autoexec": {
            "startup": false,
            "wait_interval": 0
          }
        }
      },
      "cell_type": "code",
      "source": [
        ""
      ],
      "execution_count": 0,
      "outputs": []
    }
  ]
}